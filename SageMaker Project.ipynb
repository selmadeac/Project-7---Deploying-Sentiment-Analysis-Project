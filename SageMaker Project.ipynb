{
 "cells": [
  {
   "cell_type": "markdown",
   "metadata": {},
   "source": [
    "# Creating a Sentiment Analysis Web App\n",
    "## Using PyTorch and SageMaker\n",
    "\n",
    "_Deep Learning Nanodegree Program | Deployment_\n",
    "\n",
    "---\n",
    "\n",
    "Now that we have a basic understanding of how SageMaker works we will try to use it to construct a complete project from end to end. Our goal will be to have a simple web page which a user can use to enter a movie review. The web page will then send the review off to our deployed model which will predict the sentiment of the entered review.\n",
    "\n",
    "## Instructions\n",
    "\n",
    "Some template code has already been provided for you, and you will need to implement additional functionality to successfully complete this notebook. You will not need to modify the included code beyond what is requested. Sections that begin with '**TODO**' in the header indicate that you need to complete or implement some portion within them. Instructions will be provided for each section and the specifics of the implementation are marked in the code block with a `# TODO: ...` comment. Please be sure to read the instructions carefully!\n",
    "\n",
    "In addition to implementing code, there will be questions for you to answer which relate to the task and your implementation. Each section where you will answer a question is preceded by a '**Question:**' header. Carefully read each question and provide your answer below the '**Answer:**' header by editing the Markdown cell.\n",
    "\n",
    "> **Note**: Code and Markdown cells can be executed using the **Shift+Enter** keyboard shortcut. In addition, a cell can be edited by typically clicking it (double-click for Markdown cells) or by pressing **Enter** while it is highlighted.\n",
    "\n",
    "## General Outline\n",
    "\n",
    "Recall the general outline for SageMaker projects using a notebook instance.\n",
    "\n",
    "1. Download or otherwise retrieve the data.\n",
    "2. Process / Prepare the data.\n",
    "3. Upload the processed data to S3.\n",
    "4. Train a chosen model.\n",
    "5. Test the trained model (typically using a batch transform job).\n",
    "6. Deploy the trained model.\n",
    "7. Use the deployed model.\n",
    "\n",
    "For this project, you will be following the steps in the general outline with some modifications. \n",
    "\n",
    "First, you will not be testing the model in its own step. You will still be testing the model, however, you will do it by deploying your model and then using the deployed model by sending the test data to it. One of the reasons for doing this is so that you can make sure that your deployed model is working correctly before moving forward.\n",
    "\n",
    "In addition, you will deploy and use your trained model a second time. In the second iteration you will customize the way that your trained model is deployed by including some of your own code. In addition, your newly deployed model will be used in the sentiment analysis web app."
   ]
  },
  {
   "cell_type": "markdown",
   "metadata": {},
   "source": [
    "## Step 1: Downloading the data\n",
    "\n",
    "As in the XGBoost in SageMaker notebook, we will be using the [IMDb dataset](http://ai.stanford.edu/~amaas/data/sentiment/)\n",
    "\n",
    "> Maas, Andrew L., et al. [Learning Word Vectors for Sentiment Analysis](http://ai.stanford.edu/~amaas/data/sentiment/). In _Proceedings of the 49th Annual Meeting of the Association for Computational Linguistics: Human Language Technologies_. Association for Computational Linguistics, 2011."
   ]
  },
  {
   "cell_type": "code",
   "execution_count": 1,
   "metadata": {},
   "outputs": [
    {
     "name": "stdout",
     "output_type": "stream",
     "text": [
      "mkdir: cannot create directory ‘../data’: File exists\n",
      "--2020-12-03 18:48:38--  http://ai.stanford.edu/~amaas/data/sentiment/aclImdb_v1.tar.gz\n",
      "Resolving ai.stanford.edu (ai.stanford.edu)... 171.64.68.10\n",
      "Connecting to ai.stanford.edu (ai.stanford.edu)|171.64.68.10|:80... connected.\n",
      "HTTP request sent, awaiting response... 200 OK\n",
      "Length: 84125825 (80M) [application/x-gzip]\n",
      "Saving to: ‘../data/aclImdb_v1.tar.gz’\n",
      "\n",
      "../data/aclImdb_v1. 100%[===================>]  80.23M  24.1MB/s    in 3.9s    \n",
      "\n",
      "2020-12-03 18:48:42 (20.8 MB/s) - ‘../data/aclImdb_v1.tar.gz’ saved [84125825/84125825]\n",
      "\n"
     ]
    }
   ],
   "source": [
    "%mkdir ../data\n",
    "!wget -O ../data/aclImdb_v1.tar.gz http://ai.stanford.edu/~amaas/data/sentiment/aclImdb_v1.tar.gz\n",
    "!tar -zxf ../data/aclImdb_v1.tar.gz -C ../data"
   ]
  },
  {
   "cell_type": "markdown",
   "metadata": {},
   "source": [
    "## Step 2: Preparing and Processing the data\n",
    "\n",
    "Also, as in the XGBoost notebook, we will be doing some initial data processing. The first few steps are the same as in the XGBoost example. To begin with, we will read in each of the reviews and combine them into a single input structure. Then, we will split the dataset into a training set and a testing set."
   ]
  },
  {
   "cell_type": "code",
   "execution_count": 1,
   "metadata": {},
   "outputs": [
    {
     "name": "stdout",
     "output_type": "stream",
     "text": [
      "Collecting sagemaker==1.72.0\n",
      "  Downloading sagemaker-1.72.0.tar.gz (297 kB)\n",
      "\u001b[K     |████████████████████████████████| 297 kB 6.5 MB/s eta 0:00:01\n",
      "\u001b[?25hRequirement already satisfied: boto3>=1.14.12 in /home/ec2-user/anaconda3/envs/pytorch_p36/lib/python3.6/site-packages (from sagemaker==1.72.0) (1.16.19)\n",
      "Requirement already satisfied: numpy>=1.9.0 in /home/ec2-user/anaconda3/envs/pytorch_p36/lib/python3.6/site-packages (from sagemaker==1.72.0) (1.18.1)\n",
      "Requirement already satisfied: protobuf>=3.1 in /home/ec2-user/anaconda3/envs/pytorch_p36/lib/python3.6/site-packages (from sagemaker==1.72.0) (3.11.4)\n",
      "Requirement already satisfied: scipy>=0.19.0 in /home/ec2-user/anaconda3/envs/pytorch_p36/lib/python3.6/site-packages (from sagemaker==1.72.0) (1.4.1)\n",
      "Requirement already satisfied: protobuf3-to-dict>=0.1.5 in /home/ec2-user/anaconda3/envs/pytorch_p36/lib/python3.6/site-packages (from sagemaker==1.72.0) (0.1.5)\n",
      "Collecting smdebug-rulesconfig==0.1.4\n",
      "  Downloading smdebug_rulesconfig-0.1.4-py2.py3-none-any.whl (10 kB)\n",
      "Requirement already satisfied: importlib-metadata>=1.4.0 in /home/ec2-user/anaconda3/envs/pytorch_p36/lib/python3.6/site-packages (from sagemaker==1.72.0) (2.0.0)\n",
      "Requirement already satisfied: packaging>=20.0 in /home/ec2-user/anaconda3/envs/pytorch_p36/lib/python3.6/site-packages (from sagemaker==1.72.0) (20.1)\n",
      "Requirement already satisfied: botocore<1.20.0,>=1.19.19 in /home/ec2-user/anaconda3/envs/pytorch_p36/lib/python3.6/site-packages (from boto3>=1.14.12->sagemaker==1.72.0) (1.19.19)\n",
      "Requirement already satisfied: jmespath<1.0.0,>=0.7.1 in /home/ec2-user/anaconda3/envs/pytorch_p36/lib/python3.6/site-packages (from boto3>=1.14.12->sagemaker==1.72.0) (0.10.0)\n",
      "Requirement already satisfied: s3transfer<0.4.0,>=0.3.0 in /home/ec2-user/anaconda3/envs/pytorch_p36/lib/python3.6/site-packages (from boto3>=1.14.12->sagemaker==1.72.0) (0.3.3)\n",
      "Requirement already satisfied: six>=1.9 in /home/ec2-user/anaconda3/envs/pytorch_p36/lib/python3.6/site-packages (from protobuf>=3.1->sagemaker==1.72.0) (1.14.0)\n",
      "Requirement already satisfied: setuptools in /home/ec2-user/anaconda3/envs/pytorch_p36/lib/python3.6/site-packages (from protobuf>=3.1->sagemaker==1.72.0) (45.2.0.post20200210)\n",
      "Requirement already satisfied: zipp>=0.5 in /home/ec2-user/anaconda3/envs/pytorch_p36/lib/python3.6/site-packages (from importlib-metadata>=1.4.0->sagemaker==1.72.0) (2.2.0)\n",
      "Requirement already satisfied: pyparsing>=2.0.2 in /home/ec2-user/anaconda3/envs/pytorch_p36/lib/python3.6/site-packages (from packaging>=20.0->sagemaker==1.72.0) (2.4.6)\n",
      "Requirement already satisfied: python-dateutil<3.0.0,>=2.1 in /home/ec2-user/anaconda3/envs/pytorch_p36/lib/python3.6/site-packages (from botocore<1.20.0,>=1.19.19->boto3>=1.14.12->sagemaker==1.72.0) (2.8.1)\n",
      "Requirement already satisfied: urllib3<1.27,>=1.25.4 in /home/ec2-user/anaconda3/envs/pytorch_p36/lib/python3.6/site-packages (from botocore<1.20.0,>=1.19.19->boto3>=1.14.12->sagemaker==1.72.0) (1.25.10)\n",
      "Building wheels for collected packages: sagemaker\n",
      "  Building wheel for sagemaker (setup.py) ... \u001b[?25ldone\n",
      "\u001b[?25h  Created wheel for sagemaker: filename=sagemaker-1.72.0-py2.py3-none-any.whl size=386358 sha256=1e5c5229667e599313c7ae80cb78fcbd65a254a303f2393785a38da68603664c\n",
      "  Stored in directory: /home/ec2-user/.cache/pip/wheels/c3/58/70/85faf4437568bfaa4c419937569ba1fe54d44c5db42406bbd7\n",
      "Successfully built sagemaker\n",
      "Installing collected packages: smdebug-rulesconfig, sagemaker\n",
      "  Attempting uninstall: smdebug-rulesconfig\n",
      "    Found existing installation: smdebug-rulesconfig 0.1.5\n",
      "    Uninstalling smdebug-rulesconfig-0.1.5:\n",
      "      Successfully uninstalled smdebug-rulesconfig-0.1.5\n",
      "  Attempting uninstall: sagemaker\n",
      "    Found existing installation: sagemaker 2.16.4.dev0\n",
      "    Uninstalling sagemaker-2.16.4.dev0:\n",
      "      Successfully uninstalled sagemaker-2.16.4.dev0\n",
      "Successfully installed sagemaker-1.72.0 smdebug-rulesconfig-0.1.4\n",
      "\u001b[33mWARNING: You are using pip version 20.0.2; however, version 20.3 is available.\n",
      "You should consider upgrading via the '/home/ec2-user/anaconda3/envs/pytorch_p36/bin/python -m pip install --upgrade pip' command.\u001b[0m\n"
     ]
    }
   ],
   "source": [
    "!pip install sagemaker==1.72.0\n",
    "import os\n",
    "import glob\n",
    "\n",
    "def read_imdb_data(data_dir='../data/aclImdb'):\n",
    "    data = {}\n",
    "    labels = {}\n",
    "    \n",
    "    for data_type in ['train', 'test']:\n",
    "        data[data_type] = {}\n",
    "        labels[data_type] = {}\n",
    "        \n",
    "        for sentiment in ['pos', 'neg']:\n",
    "            data[data_type][sentiment] = []\n",
    "            labels[data_type][sentiment] = []\n",
    "            \n",
    "            path = os.path.join(data_dir, data_type, sentiment, '*.txt')\n",
    "            files = glob.glob(path)\n",
    "            \n",
    "            for f in files:\n",
    "                with open(f) as review:\n",
    "                    data[data_type][sentiment].append(review.read())\n",
    "                    # Here we represent a positive review by '1' and a negative review by '0'\n",
    "                    labels[data_type][sentiment].append(1 if sentiment == 'pos' else 0)\n",
    "                    \n",
    "            assert len(data[data_type][sentiment]) == len(labels[data_type][sentiment]), \\\n",
    "                    \"{}/{} data size does not match labels size\".format(data_type, sentiment)\n",
    "                \n",
    "    return data, labels"
   ]
  },
  {
   "cell_type": "code",
   "execution_count": 2,
   "metadata": {},
   "outputs": [
    {
     "name": "stdout",
     "output_type": "stream",
     "text": [
      "IMDB reviews: train = 12500 pos / 12500 neg, test = 12500 pos / 12500 neg\n"
     ]
    }
   ],
   "source": [
    "data, labels = read_imdb_data()\n",
    "print(\"IMDB reviews: train = {} pos / {} neg, test = {} pos / {} neg\".format(\n",
    "            len(data['train']['pos']), len(data['train']['neg']),\n",
    "            len(data['test']['pos']), len(data['test']['neg'])))"
   ]
  },
  {
   "cell_type": "markdown",
   "metadata": {},
   "source": [
    "Now that we've read the raw training and testing data from the downloaded dataset, we will combine the positive and negative reviews and shuffle the resulting records."
   ]
  },
  {
   "cell_type": "code",
   "execution_count": 3,
   "metadata": {},
   "outputs": [],
   "source": [
    "from sklearn.utils import shuffle\n",
    "\n",
    "def prepare_imdb_data(data, labels):\n",
    "    \"\"\"Prepare training and test sets from IMDb movie reviews.\"\"\"\n",
    "    \n",
    "    #Combine positive and negative reviews and labels\n",
    "    data_train = data['train']['pos'] + data['train']['neg']\n",
    "    data_test = data['test']['pos'] + data['test']['neg']\n",
    "    labels_train = labels['train']['pos'] + labels['train']['neg']\n",
    "    labels_test = labels['test']['pos'] + labels['test']['neg']\n",
    "    \n",
    "    #Shuffle reviews and corresponding labels within training and test sets\n",
    "    data_train, labels_train = shuffle(data_train, labels_train)\n",
    "    data_test, labels_test = shuffle(data_test, labels_test)\n",
    "    \n",
    "    # Return a unified training data, test data, training labels, test labets\n",
    "    return data_train, data_test, labels_train, labels_test"
   ]
  },
  {
   "cell_type": "code",
   "execution_count": 4,
   "metadata": {},
   "outputs": [
    {
     "name": "stdout",
     "output_type": "stream",
     "text": [
      "IMDb reviews (combined): train = 25000, test = 25000\n"
     ]
    }
   ],
   "source": [
    "train_X, test_X, train_y, test_y = prepare_imdb_data(data, labels)\n",
    "print(\"IMDb reviews (combined): train = {}, test = {}\".format(len(train_X), len(test_X)))"
   ]
  },
  {
   "cell_type": "markdown",
   "metadata": {},
   "source": [
    "Now that we have our training and testing sets unified and prepared, we should do a quick check and see an example of the data our model will be trained on. This is generally a good idea as it allows you to see how each of the further processing steps affects the reviews and it also ensures that the data has been loaded correctly."
   ]
  },
  {
   "cell_type": "code",
   "execution_count": 5,
   "metadata": {},
   "outputs": [
    {
     "name": "stdout",
     "output_type": "stream",
     "text": [
      "I have seen this film numerous times and for the life of me, I cannot understand why some people compare this to BABE. This film is not about the secret life of ALL animals who secretly can talk. Instead, it is about a Parrot who learns to talk to help his owner, a little girl with a serious stammer, overcome her speech impediment only to be separated from her in a heart-wrenching scene early on. Then the great journey begins. Paulie the Parrot sets out to try and find his one great friend, Marie.<br /><br />Along the way, he meets several wonderful people and numerous nasty people. He falls in love with a girl parrot and loses her. He gets conned into a life of crime and then captured by a bad scientist who wants to exploit him.<br /><br />He recounts his tale to a sympathetic Janitor in the Lab who agrees to help him escape and find his beloved Marie.<br /><br />Tony Shaloub shines as the kindly Janitor who has an open mind and big heart and who determines to help little Paulie despite the risks. Jay Mohr plays the voice of the Parrot AND one of the seedy characters he comes across.<br /><br />There is a little suggestive language but this film is appropriate for most kids and even more so if the parents join in on the fun and watch too. It is a witty, clever, epic animal-adventure story and ultimately a great love story about a Bird and his little girl. He search for Marie ends with a quite an unexpected surprise for most people who don;t know much about Parrots.<br /><br />Kids who have seen the wild Green Parrot Tribes in Los Angeles and Pasadena will especially benefit from seeing this film and understanding that Birds, especially Parrots are not disposable pets. All children everywhere, will see that Pets form deep attachments themselves and that the love and loyalty of a dog or parrot is a gift to be treasured.<br /><br />so no BABE here, more of an incredible journey with a twist.<br /><br />Enjoy and try no to tear up during the sad parts.\n",
      "1\n"
     ]
    }
   ],
   "source": [
    "print(train_X[101])\n",
    "print(train_y[101])"
   ]
  },
  {
   "cell_type": "markdown",
   "metadata": {},
   "source": [
    "The first step in processing the reviews is to make sure that any html tags that appear should be removed. In addition we wish to tokenize our input, that way words such as *entertained* and *entertaining* are considered the same with regard to sentiment analysis."
   ]
  },
  {
   "cell_type": "code",
   "execution_count": 6,
   "metadata": {},
   "outputs": [],
   "source": [
    "import nltk\n",
    "from nltk.corpus import stopwords\n",
    "from nltk.stem.porter import *\n",
    "\n",
    "import re\n",
    "from bs4 import BeautifulSoup\n",
    "\n",
    "def review_to_words(review):\n",
    "    nltk.download(\"stopwords\", quiet=True)\n",
    "    stemmer = PorterStemmer()\n",
    "    \n",
    "    text = BeautifulSoup(review, \"html.parser\").get_text() # Remove HTML tags\n",
    "    text = re.sub(r\"[^a-zA-Z0-9]\", \" \", text.lower()) # Convert to lower case\n",
    "    words = text.split() # Split string into words\n",
    "    words = [w for w in words if w not in stopwords.words(\"english\")] # Remove stopwords\n",
    "    words = [PorterStemmer().stem(w) for w in words] # stem\n",
    "    \n",
    "    return words"
   ]
  },
  {
   "cell_type": "markdown",
   "metadata": {},
   "source": [
    "The `review_to_words` method defined above uses `BeautifulSoup` to remove any html tags that appear and uses the `nltk` package to tokenize the reviews. As a check to ensure we know how everything is working, try applying `review_to_words` to one of the reviews in the training set."
   ]
  },
  {
   "cell_type": "code",
   "execution_count": 7,
   "metadata": {},
   "outputs": [
    {
     "data": {
      "text/plain": [
       "['seen',\n",
       " 'film',\n",
       " 'numer',\n",
       " 'time',\n",
       " 'life',\n",
       " 'cannot',\n",
       " 'understand',\n",
       " 'peopl',\n",
       " 'compar',\n",
       " 'babe',\n",
       " 'film',\n",
       " 'secret',\n",
       " 'life',\n",
       " 'anim',\n",
       " 'secretli',\n",
       " 'talk',\n",
       " 'instead',\n",
       " 'parrot',\n",
       " 'learn',\n",
       " 'talk',\n",
       " 'help',\n",
       " 'owner',\n",
       " 'littl',\n",
       " 'girl',\n",
       " 'seriou',\n",
       " 'stammer',\n",
       " 'overcom',\n",
       " 'speech',\n",
       " 'impedi',\n",
       " 'separ',\n",
       " 'heart',\n",
       " 'wrench',\n",
       " 'scene',\n",
       " 'earli',\n",
       " 'great',\n",
       " 'journey',\n",
       " 'begin',\n",
       " 'pauli',\n",
       " 'parrot',\n",
       " 'set',\n",
       " 'tri',\n",
       " 'find',\n",
       " 'one',\n",
       " 'great',\n",
       " 'friend',\n",
       " 'mari',\n",
       " 'along',\n",
       " 'way',\n",
       " 'meet',\n",
       " 'sever',\n",
       " 'wonder',\n",
       " 'peopl',\n",
       " 'numer',\n",
       " 'nasti',\n",
       " 'peopl',\n",
       " 'fall',\n",
       " 'love',\n",
       " 'girl',\n",
       " 'parrot',\n",
       " 'lose',\n",
       " 'get',\n",
       " 'con',\n",
       " 'life',\n",
       " 'crime',\n",
       " 'captur',\n",
       " 'bad',\n",
       " 'scientist',\n",
       " 'want',\n",
       " 'exploit',\n",
       " 'recount',\n",
       " 'tale',\n",
       " 'sympathet',\n",
       " 'janitor',\n",
       " 'lab',\n",
       " 'agre',\n",
       " 'help',\n",
       " 'escap',\n",
       " 'find',\n",
       " 'belov',\n",
       " 'mari',\n",
       " 'toni',\n",
       " 'shaloub',\n",
       " 'shine',\n",
       " 'kindli',\n",
       " 'janitor',\n",
       " 'open',\n",
       " 'mind',\n",
       " 'big',\n",
       " 'heart',\n",
       " 'determin',\n",
       " 'help',\n",
       " 'littl',\n",
       " 'pauli',\n",
       " 'despit',\n",
       " 'risk',\n",
       " 'jay',\n",
       " 'mohr',\n",
       " 'play',\n",
       " 'voic',\n",
       " 'parrot',\n",
       " 'one',\n",
       " 'seedi',\n",
       " 'charact',\n",
       " 'come',\n",
       " 'across',\n",
       " 'littl',\n",
       " 'suggest',\n",
       " 'languag',\n",
       " 'film',\n",
       " 'appropri',\n",
       " 'kid',\n",
       " 'even',\n",
       " 'parent',\n",
       " 'join',\n",
       " 'fun',\n",
       " 'watch',\n",
       " 'witti',\n",
       " 'clever',\n",
       " 'epic',\n",
       " 'anim',\n",
       " 'adventur',\n",
       " 'stori',\n",
       " 'ultim',\n",
       " 'great',\n",
       " 'love',\n",
       " 'stori',\n",
       " 'bird',\n",
       " 'littl',\n",
       " 'girl',\n",
       " 'search',\n",
       " 'mari',\n",
       " 'end',\n",
       " 'quit',\n",
       " 'unexpect',\n",
       " 'surpris',\n",
       " 'peopl',\n",
       " 'know',\n",
       " 'much',\n",
       " 'parrot',\n",
       " 'kid',\n",
       " 'seen',\n",
       " 'wild',\n",
       " 'green',\n",
       " 'parrot',\n",
       " 'tribe',\n",
       " 'lo',\n",
       " 'angel',\n",
       " 'pasadena',\n",
       " 'especi',\n",
       " 'benefit',\n",
       " 'see',\n",
       " 'film',\n",
       " 'understand',\n",
       " 'bird',\n",
       " 'especi',\n",
       " 'parrot',\n",
       " 'dispos',\n",
       " 'pet',\n",
       " 'children',\n",
       " 'everywher',\n",
       " 'see',\n",
       " 'pet',\n",
       " 'form',\n",
       " 'deep',\n",
       " 'attach',\n",
       " 'love',\n",
       " 'loyalti',\n",
       " 'dog',\n",
       " 'parrot',\n",
       " 'gift',\n",
       " 'treasur',\n",
       " 'babe',\n",
       " 'incred',\n",
       " 'journey',\n",
       " 'twist',\n",
       " 'enjoy',\n",
       " 'tri',\n",
       " 'tear',\n",
       " 'sad',\n",
       " 'part']"
      ]
     },
     "execution_count": 7,
     "metadata": {},
     "output_type": "execute_result"
    }
   ],
   "source": [
    "# TODO: Apply review_to_words to a review (train_X[100] or any other review)\n",
    "review_to_words(train_X[101])"
   ]
  },
  {
   "cell_type": "markdown",
   "metadata": {},
   "source": [
    "**Question:** Above we mentioned that `review_to_words` method removes html formatting and allows us to tokenize the words found in a review, for example, converting *entertained* and *entertaining* into *entertain* so that they are treated as though they are the same word. What else, if anything, does this method do to the input?"
   ]
  },
  {
   "cell_type": "markdown",
   "metadata": {},
   "source": [
    "**Answer:**  \n",
    "- converts all words to lower case\n",
    "\n",
    "- removes punctuation"
   ]
  },
  {
   "cell_type": "markdown",
   "metadata": {},
   "source": [
    "The method below applies the `review_to_words` method to each of the reviews in the training and testing datasets. In addition it caches the results. This is because performing this processing step can take a long time. This way if you are unable to complete the notebook in the current session, you can come back without needing to process the data a second time."
   ]
  },
  {
   "cell_type": "code",
   "execution_count": 8,
   "metadata": {},
   "outputs": [],
   "source": [
    "import pickle\n",
    "\n",
    "cache_dir = os.path.join(\"../cache\", \"sentiment_analysis\")  # where to store cache files\n",
    "os.makedirs(cache_dir, exist_ok=True)  # ensure cache directory exists\n",
    "\n",
    "def preprocess_data(data_train, data_test, labels_train, labels_test,\n",
    "                    cache_dir=cache_dir, cache_file=\"preprocessed_data.pkl\"):\n",
    "    \"\"\"Convert each review to words; read from cache if available.\"\"\"\n",
    "\n",
    "    # If cache_file is not None, try to read from it first\n",
    "    cache_data = None\n",
    "    if cache_file is not None:\n",
    "        try:\n",
    "            with open(os.path.join(cache_dir, cache_file), \"rb\") as f:\n",
    "                cache_data = pickle.load(f)\n",
    "            print(\"Read preprocessed data from cache file:\", cache_file)\n",
    "        except:\n",
    "            pass  # unable to read from cache, but that's okay\n",
    "    \n",
    "    # If cache is missing, then do the heavy lifting\n",
    "    if cache_data is None:\n",
    "        # Preprocess training and test data to obtain words for each review\n",
    "        #words_train = list(map(review_to_words, data_train))\n",
    "        #words_test = list(map(review_to_words, data_test))\n",
    "        words_train = [review_to_words(review) for review in data_train]\n",
    "        words_test = [review_to_words(review) for review in data_test]\n",
    "        \n",
    "        # Write to cache file for future runs\n",
    "        if cache_file is not None:\n",
    "            cache_data = dict(words_train=words_train, words_test=words_test,\n",
    "                              labels_train=labels_train, labels_test=labels_test)\n",
    "            with open(os.path.join(cache_dir, cache_file), \"wb\") as f:\n",
    "                pickle.dump(cache_data, f)\n",
    "            print(\"Wrote preprocessed data to cache file:\", cache_file)\n",
    "    else:\n",
    "        # Unpack data loaded from cache file\n",
    "        words_train, words_test, labels_train, labels_test = (cache_data['words_train'],\n",
    "                cache_data['words_test'], cache_data['labels_train'], cache_data['labels_test'])\n",
    "    \n",
    "    return words_train, words_test, labels_train, labels_test"
   ]
  },
  {
   "cell_type": "code",
   "execution_count": 9,
   "metadata": {},
   "outputs": [
    {
     "name": "stdout",
     "output_type": "stream",
     "text": [
      "Read preprocessed data from cache file: preprocessed_data.pkl\n"
     ]
    }
   ],
   "source": [
    "# Preprocess data\n",
    "train_X, test_X, train_y, test_y = preprocess_data(train_X, test_X, train_y, test_y)"
   ]
  },
  {
   "cell_type": "markdown",
   "metadata": {},
   "source": [
    "## Transform the data\n",
    "\n",
    "In the XGBoost notebook we transformed the data from its word representation to a bag-of-words feature representation. For the model we are going to construct in this notebook we will construct a feature representation which is very similar. To start, we will represent each word as an integer. Of course, some of the words that appear in the reviews occur very infrequently and so likely don't contain much information for the purposes of sentiment analysis. The way we will deal with this problem is that we will fix the size of our working vocabulary and we will only include the words that appear most frequently. We will then combine all of the infrequent words into a single category and, in our case, we will label it as `1`.\n",
    "\n",
    "Since we will be using a recurrent neural network, it will be convenient if the length of each review is the same. To do this, we will fix a size for our reviews and then pad short reviews with the category 'no word' (which we will label `0`) and truncate long reviews."
   ]
  },
  {
   "cell_type": "markdown",
   "metadata": {},
   "source": [
    "### (TODO) Create a word dictionary\n",
    "\n",
    "To begin with, we need to construct a way to map words that appear in the reviews to integers. Here we fix the size of our vocabulary (including the 'no word' and 'infrequent' categories) to be `5000` but you may wish to change this to see how it affects the model.\n",
    "\n",
    "> **TODO:** Complete the implementation for the `build_dict()` method below. Note that even though the vocab_size is set to `5000`, we only want to construct a mapping for the most frequently appearing `4998` words. This is because we want to reserve the special labels `0` for 'no word' and `1` for 'infrequent word'."
   ]
  },
  {
   "cell_type": "code",
   "execution_count": 10,
   "metadata": {},
   "outputs": [],
   "source": [
    "import numpy as np\n",
    "from collections import Counter\n",
    "\n",
    "def build_dict(data, vocab_size = 5000):\n",
    "    \"\"\"Construct and return a dictionary mapping each of the most frequently appearing words to a unique integer.\"\"\"\n",
    "    \n",
    "    # TODO: Determine how often each word appears in `data`. Note that `data` is a list of sentences and that a\n",
    "    #       sentence is a list of words.\n",
    "    wordfreq =[]\n",
    "    all_words = [] \n",
    "\n",
    "    for sublist in data: \n",
    "        for item in sublist: \n",
    "            all_words.append(item)\n",
    "        \n",
    "    word_count = Counter(all_words) # A dict storing the words that appear in the reviews along with how often they occur\n",
    "    \n",
    "    \n",
    "    # TODO: Sort the words found in `data` so that sorted_words[0] is the most frequently appearing word and\n",
    "    #       sorted_words[-1] is the least frequently appearing word.\n",
    "    \n",
    "    sorted_words = sorted(word_count, key=word_count.get, reverse=True)\n",
    "    #print(sorted_words)\n",
    "    word_dict = {} # This is what we are building, a dictionary that translates words into integers\n",
    "    for idx, word in enumerate(sorted_words[:vocab_size - 2]): # The -2 is so that we save room for the 'no word'\n",
    "        word_dict[word] = idx + 2                              # 'infrequent' labels\n",
    "        \n",
    "    return word_dict"
   ]
  },
  {
   "cell_type": "code",
   "execution_count": 11,
   "metadata": {},
   "outputs": [],
   "source": [
    "word_dict = build_dict(train_X)"
   ]
  },
  {
   "cell_type": "markdown",
   "metadata": {},
   "source": [
    "**Question:** What are the five most frequently appearing (tokenized) words in the training set? Does it makes sense that these words appear frequently in the training set?"
   ]
  },
  {
   "cell_type": "markdown",
   "metadata": {},
   "source": [
    "**Answer:** 'movi', 'film', 'one', 'like', 'time'"
   ]
  },
  {
   "cell_type": "code",
   "execution_count": 12,
   "metadata": {},
   "outputs": [
    {
     "name": "stdout",
     "output_type": "stream",
     "text": [
      "{'movi': 2, 'film': 3, 'one': 4, 'like': 5, 'time': 6, 'good': 7, 'make': 8, 'charact': 9, 'get': 10, 'see': 11, 'watch': 12, 'stori': 13, 'even': 14, 'would': 15, 'realli': 16, 'well': 17, 'scene': 18, 'look': 19, 'show': 20, 'much': 21, 'end': 22, 'peopl': 23, 'bad': 24, 'go': 25, 'great': 26, 'also': 27, 'first': 28, 'love': 29, 'think': 30, 'way': 31, 'act': 32, 'play': 33, 'made': 34, 'thing': 35, 'could': 36, 'know': 37, 'say': 38, 'seem': 39, 'work': 40, 'plot': 41, 'two': 42, 'actor': 43, 'year': 44, 'come': 45, 'mani': 46, 'seen': 47, 'take': 48, 'want': 49, 'life': 50, 'never': 51, 'littl': 52, 'best': 53, 'tri': 54, 'man': 55, 'ever': 56, 'give': 57, 'better': 58, 'still': 59, 'perform': 60, 'find': 61, 'feel': 62, 'part': 63, 'back': 64, 'use': 65, 'someth': 66, 'director': 67, 'actual': 68, 'interest': 69, 'lot': 70, 'real': 71, 'old': 72, 'cast': 73, 'though': 74, 'live': 75, 'star': 76, 'enjoy': 77, 'guy': 78, 'anoth': 79, 'new': 80, 'role': 81, 'noth': 82, '10': 83, 'funni': 84, 'music': 85, 'point': 86, 'start': 87, 'set': 88, 'girl': 89, 'origin': 90, 'day': 91, 'world': 92, 'everi': 93, 'believ': 94, 'turn': 95, 'quit': 96, 'us': 97, 'direct': 98, 'thought': 99, 'fact': 100, 'minut': 101, 'horror': 102, 'kill': 103, 'action': 104, 'comedi': 105, 'pretti': 106, 'young': 107, 'wonder': 108, 'happen': 109, 'around': 110, 'got': 111, 'effect': 112, 'right': 113, 'long': 114, 'howev': 115, 'big': 116, 'line': 117, 'famili': 118, 'enough': 119, 'seri': 120, 'may': 121, 'need': 122, 'fan': 123, 'bit': 124, 'script': 125, 'beauti': 126, 'person': 127, 'becom': 128, 'without': 129, 'must': 130, 'alway': 131, 'friend': 132, 'tell': 133, 'reason': 134, 'saw': 135, 'last': 136, 'final': 137, 'kid': 138, 'almost': 139, 'put': 140, 'least': 141, 'sure': 142, 'done': 143, 'whole': 144, 'place': 145, 'complet': 146, 'kind': 147, 'differ': 148, 'expect': 149, 'shot': 150, 'far': 151, 'mean': 152, 'anyth': 153, 'book': 154, 'laugh': 155, 'might': 156, 'name': 157, 'sinc': 158, 'begin': 159, '2': 160, 'probabl': 161, 'woman': 162, 'help': 163, 'entertain': 164, 'let': 165, 'screen': 166, 'call': 167, 'tv': 168, 'moment': 169, 'away': 170, 'read': 171, 'yet': 172, 'rather': 173, 'worst': 174, 'run': 175, 'fun': 176, 'lead': 177, 'hard': 178, 'audienc': 179, 'idea': 180, 'anyon': 181, 'episod': 182, 'american': 183, 'found': 184, 'appear': 185, 'bore': 186, 'especi': 187, 'although': 188, 'hope': 189, 'cours': 190, 'keep': 191, 'anim': 192, 'job': 193, 'goe': 194, 'move': 195, 'sens': 196, 'dvd': 197, 'version': 198, 'war': 199, 'money': 200, 'someon': 201, 'mind': 202, 'mayb': 203, 'problem': 204, 'true': 205, 'hous': 206, 'everyth': 207, 'nice': 208, 'second': 209, 'rate': 210, 'three': 211, 'night': 212, 'follow': 213, 'face': 214, 'recommend': 215, 'main': 216, 'product': 217, 'worth': 218, 'leav': 219, 'human': 220, 'special': 221, 'excel': 222, 'togeth': 223, 'wast': 224, 'sound': 225, 'everyon': 226, 'john': 227, 'hand': 228, '1': 229, 'father': 230, 'later': 231, 'eye': 232, 'said': 233, 'view': 234, 'instead': 235, 'review': 236, 'boy': 237, 'high': 238, 'hour': 239, 'miss': 240, 'talk': 241, 'classic': 242, 'wife': 243, 'understand': 244, 'left': 245, 'care': 246, 'black': 247, 'death': 248, 'open': 249, 'murder': 250, 'write': 251, 'half': 252, 'head': 253, 'rememb': 254, 'chang': 255, 'viewer': 256, 'fight': 257, 'gener': 258, 'surpris': 259, 'short': 260, 'includ': 261, 'die': 262, 'fall': 263, 'less': 264, 'els': 265, 'entir': 266, 'piec': 267, 'involv': 268, 'pictur': 269, 'simpli': 270, 'top': 271, 'power': 272, 'home': 273, 'total': 274, 'usual': 275, 'budget': 276, 'attempt': 277, 'suppos': 278, 'releas': 279, 'hollywood': 280, 'terribl': 281, 'song': 282, 'men': 283, 'possibl': 284, 'featur': 285, 'portray': 286, 'disappoint': 287, 'poor': 288, '3': 289, 'coupl': 290, 'camera': 291, 'stupid': 292, 'dead': 293, 'wrong': 294, 'low': 295, 'produc': 296, 'either': 297, 'video': 298, 'aw': 299, 'definit': 300, 'except': 301, 'rest': 302, 'given': 303, 'absolut': 304, 'women': 305, 'lack': 306, 'word': 307, 'writer': 308, 'titl': 309, 'talent': 310, 'decid': 311, 'full': 312, 'perfect': 313, 'along': 314, 'style': 315, 'close': 316, 'truli': 317, 'school': 318, 'save': 319, 'emot': 320, 'sex': 321, 'age': 322, 'next': 323, 'bring': 324, 'mr': 325, 'case': 326, 'killer': 327, 'heart': 328, 'comment': 329, 'sort': 330, 'creat': 331, 'perhap': 332, 'came': 333, 'brother': 334, 'sever': 335, 'joke': 336, 'art': 337, 'dialogu': 338, 'game': 339, 'small': 340, 'base': 341, 'flick': 342, 'written': 343, 'sequenc': 344, 'meet': 345, 'earli': 346, 'often': 347, 'other': 348, 'mother': 349, 'develop': 350, 'humor': 351, 'actress': 352, 'consid': 353, 'dark': 354, 'guess': 355, 'amaz': 356, 'unfortun': 357, 'light': 358, 'lost': 359, 'exampl': 360, 'cinema': 361, 'drama': 362, 'ye': 363, 'white': 364, 'experi': 365, 'imagin': 366, 'mention': 367, 'stop': 368, 'natur': 369, 'forc': 370, 'manag': 371, 'felt': 372, 'cut': 373, 'present': 374, 'children': 375, 'fail': 376, 'son': 377, 'support': 378, 'qualiti': 379, 'car': 380, 'ask': 381, 'hit': 382, 'side': 383, 'voic': 384, 'extrem': 385, 'impress': 386, 'wors': 387, 'evil': 388, 'stand': 389, 'went': 390, 'certainli': 391, 'basic': 392, 'oh': 393, 'overal': 394, 'favorit': 395, 'horribl': 396, 'mysteri': 397, 'number': 398, 'type': 399, 'danc': 400, 'wait': 401, 'hero': 402, 'alreadi': 403, '5': 404, 'learn': 405, 'matter': 406, '4': 407, 'michael': 408, 'genr': 409, 'fine': 410, 'despit': 411, 'throughout': 412, 'walk': 413, 'success': 414, 'histori': 415, 'question': 416, 'zombi': 417, 'town': 418, 'realiz': 419, 'relationship': 420, 'past': 421, 'child': 422, 'daughter': 423, 'late': 424, 'b': 425, 'wish': 426, 'hate': 427, 'credit': 428, 'event': 429, 'theme': 430, 'touch': 431, 'citi': 432, 'today': 433, 'sometim': 434, 'behind': 435, 'god': 436, 'twist': 437, 'sit': 438, 'deal': 439, 'annoy': 440, 'stay': 441, 'abl': 442, 'rent': 443, 'pleas': 444, 'edit': 445, 'blood': 446, 'deserv': 447, 'comic': 448, 'anyway': 449, 'appar': 450, 'soon': 451, 'gave': 452, 'etc': 453, 'level': 454, 'slow': 455, 'chanc': 456, 'score': 457, 'bodi': 458, 'brilliant': 459, 'incred': 460, 'figur': 461, 'situat': 462, 'major': 463, 'self': 464, 'stuff': 465, 'decent': 466, 'element': 467, 'return': 468, 'dream': 469, 'obvious': 470, 'continu': 471, 'order': 472, 'pace': 473, 'ridicul': 474, 'happi': 475, 'group': 476, 'highli': 477, 'add': 478, 'thank': 479, 'ladi': 480, 'novel': 481, 'pain': 482, 'speak': 483, 'career': 484, 'shoot': 485, 'strang': 486, 'heard': 487, 'sad': 488, 'polic': 489, 'husband': 490, 'import': 491, 'break': 492, 'took': 493, 'strong': 494, 'cannot': 495, 'robert': 496, 'predict': 497, 'violenc': 498, 'hilari': 499, 'recent': 500, 'countri': 501, 'known': 502, 'particularli': 503, 'pick': 504, 'documentari': 505, 'season': 506, 'critic': 507, 'jame': 508, 'compar': 509, 'alon': 510, 'obviou': 511, 'told': 512, 'state': 513, 'rock': 514, 'visual': 515, 'theater': 516, 'exist': 517, 'offer': 518, 'opinion': 519, 'gore': 520, 'hold': 521, 'crap': 522, 'result': 523, 'room': 524, 'hear': 525, 'realiti': 526, 'effort': 527, 'clich': 528, 'thriller': 529, 'caus': 530, 'explain': 531, 'serious': 532, 'sequel': 533, 'king': 534, 'local': 535, 'ago': 536, 'none': 537, 'hell': 538, 'note': 539, 'allow': 540, 'david': 541, 'sister': 542, 'simpl': 543, 'femal': 544, 'deliv': 545, 'ok': 546, 'convinc': 547, 'class': 548, 'check': 549, 'suspens': 550, 'win': 551, 'oscar': 552, 'buy': 553, 'huge': 554, 'valu': 555, 'sexual': 556, 'scari': 557, 'cool': 558, 'similar': 559, 'excit': 560, 'provid': 561, 'exactli': 562, 'apart': 563, 'avoid': 564, 'shown': 565, 'seriou': 566, 'english': 567, 'taken': 568, 'whose': 569, 'cinematographi': 570, 'shock': 571, 'polit': 572, 'spoiler': 573, 'offic': 574, 'across': 575, 'middl': 576, 'pass': 577, 'street': 578, 'messag': 579, 'somewhat': 580, 'silli': 581, 'charm': 582, 'modern': 583, 'confus': 584, 'filmmak': 585, 'form': 586, 'tale': 587, 'singl': 588, 'jack': 589, 'mostli': 590, 'attent': 591, 'carri': 592, 'william': 593, 'sing': 594, 'five': 595, 'subject': 596, 'richard': 597, 'prove': 598, 'stage': 599, 'team': 600, 'unlik': 601, 'cop': 602, 'georg': 603, 'monster': 604, 'televis': 605, 'earth': 606, 'cover': 607, 'villain': 608, 'pay': 609, 'marri': 610, 'toward': 611, 'build': 612, 'pull': 613, 'parent': 614, 'due': 615, 'respect': 616, 'fill': 617, 'four': 618, 'dialog': 619, 'remind': 620, 'futur': 621, 'weak': 622, 'typic': 623, '7': 624, 'cheap': 625, 'intellig': 626, 'atmospher': 627, 'british': 628, 'clearli': 629, '80': 630, 'paul': 631, 'non': 632, 'dog': 633, 'fast': 634, 'knew': 635, '8': 636, 'artist': 637, 'crime': 638, 'easili': 639, 'escap': 640, 'doubt': 641, 'adult': 642, 'detail': 643, 'date': 644, 'member': 645, 'fire': 646, 'romant': 647, 'gun': 648, 'drive': 649, 'straight': 650, 'beyond': 651, 'fit': 652, 'attack': 653, 'imag': 654, 'upon': 655, 'posit': 656, 'whether': 657, 'fantast': 658, 'peter': 659, 'captur': 660, 'appreci': 661, 'aspect': 662, 'ten': 663, 'plan': 664, 'discov': 665, 'remain': 666, 'period': 667, 'near': 668, 'realist': 669, 'air': 670, 'mark': 671, 'red': 672, 'dull': 673, 'adapt': 674, 'within': 675, 'spend': 676, 'lose': 677, 'materi': 678, 'color': 679, 'chase': 680, 'mari': 681, 'storylin': 682, 'forget': 683, 'bunch': 684, 'clear': 685, 'lee': 686, 'victim': 687, 'nearli': 688, 'box': 689, 'york': 690, 'inspir': 691, 'match': 692, 'mess': 693, 'finish': 694, 'standard': 695, 'easi': 696, 'truth': 697, 'busi': 698, 'suffer': 699, 'dramat': 700, 'bill': 701, 'space': 702, 'western': 703, 'e': 704, 'list': 705, 'battl': 706, 'notic': 707, 'de': 708, 'french': 709, 'ad': 710, '9': 711, 'tom': 712, 'larg': 713, 'among': 714, 'eventu': 715, 'train': 716, 'accept': 717, 'agre': 718, 'spirit': 719, 'soundtrack': 720, 'third': 721, 'teenag': 722, 'adventur': 723, 'soldier': 724, 'sorri': 725, 'famou': 726, 'drug': 727, 'suggest': 728, 'normal': 729, 'cri': 730, 'babi': 731, 'troubl': 732, 'ultim': 733, 'contain': 734, 'certain': 735, 'cultur': 736, 'romanc': 737, 'rare': 738, 'lame': 739, 'somehow': 740, 'disney': 741, 'mix': 742, 'gone': 743, 'cartoon': 744, 'student': 745, 'reveal': 746, 'fear': 747, 'suck': 748, 'kept': 749, 'attract': 750, 'appeal': 751, 'premis': 752, 'greatest': 753, 'secret': 754, 'design': 755, 'shame': 756, 'throw': 757, 'copi': 758, 'scare': 759, 'wit': 760, 'america': 761, 'admit': 762, 'particular': 763, 'relat': 764, 'brought': 765, 'screenplay': 766, 'whatev': 767, 'pure': 768, '70': 769, 'averag': 770, 'harri': 771, 'master': 772, 'describ': 773, 'male': 774, 'treat': 775, '20': 776, 'issu': 777, 'fantasi': 778, 'warn': 779, 'inde': 780, 'background': 781, 'forward': 782, 'project': 783, 'free': 784, 'memor': 785, 'japanes': 786, 'poorli': 787, 'award': 788, 'locat': 789, 'amus': 790, 'potenti': 791, 'struggl': 792, 'weird': 793, 'magic': 794, 'societi': 795, 'okay': 796, 'doctor': 797, 'imdb': 798, 'accent': 799, 'hot': 800, 'water': 801, 'express': 802, '30': 803, 'dr': 804, 'alien': 805, 'odd': 806, 'choic': 807, 'crazi': 808, 'fiction': 809, 'studio': 810, 'control': 811, 'becam': 812, 'masterpiec': 813, 'difficult': 814, 'fli': 815, 'joe': 816, 'scream': 817, 'costum': 818, 'lover': 819, 'refer': 820, 'uniqu': 821, 'remak': 822, 'girlfriend': 823, 'vampir': 824, 'prison': 825, 'execut': 826, 'wear': 827, 'jump': 828, 'wood': 829, 'unless': 830, 'creepi': 831, 'cheesi': 832, 'superb': 833, 'otherwis': 834, 'parti': 835, 'roll': 836, 'ghost': 837, 'mad': 838, 'public': 839, 'depict': 840, 'week': 841, 'earlier': 842, 'badli': 843, 'jane': 844, 'moral': 845, 'dumb': 846, 'fi': 847, 'flaw': 848, 'grow': 849, 'deep': 850, 'sci': 851, 'cat': 852, 'maker': 853, 'footag': 854, 'connect': 855, 'older': 856, 'plenti': 857, 'bother': 858, 'outsid': 859, 'stick': 860, 'gay': 861, 'catch': 862, 'plu': 863, 'co': 864, 'popular': 865, 'equal': 866, 'social': 867, 'disturb': 868, 'quickli': 869, 'perfectli': 870, 'dress': 871, 'era': 872, '90': 873, 'mistak': 874, 'lie': 875, 'previou': 876, 'ride': 877, 'combin': 878, 'concept': 879, 'band': 880, 'rich': 881, 'surviv': 882, 'answer': 883, 'front': 884, 'sweet': 885, 'christma': 886, 'insid': 887, 'concern': 888, 'eat': 889, 'bare': 890, 'beat': 891, 'listen': 892, 'ben': 893, 'c': 894, 'serv': 895, 'term': 896, 'meant': 897, 'german': 898, 'la': 899, 'hardli': 900, 'stereotyp': 901, 'law': 902, 'innoc': 903, 'desper': 904, 'memori': 905, 'promis': 906, 'cute': 907, 'intent': 908, 'variou': 909, 'steal': 910, 'inform': 911, 'brain': 912, 'post': 913, 'tone': 914, 'island': 915, 'amount': 916, 'track': 917, 'nuditi': 918, 'compani': 919, 'store': 920, 'claim': 921, '50': 922, 'flat': 923, 'hair': 924, 'univers': 925, 'land': 926, 'danger': 927, 'kick': 928, 'fairli': 929, 'scott': 930, 'player': 931, 'crew': 932, 'plain': 933, 'step': 934, 'toni': 935, 'share': 936, 'centuri': 937, 'tast': 938, 'engag': 939, 'achiev': 940, 'travel': 941, 'cold': 942, 'suit': 943, 'rip': 944, 'record': 945, 'manner': 946, 'sadli': 947, 'tension': 948, 'wrote': 949, 'spot': 950, 'fascin': 951, 'intens': 952, 'familiar': 953, 'remark': 954, 'depth': 955, 'burn': 956, 'histor': 957, 'destroy': 958, 'sleep': 959, 'purpos': 960, 'languag': 961, 'ignor': 962, 'ruin': 963, 'delight': 964, 'italian': 965, 'unbeliev': 966, 'abil': 967, 'collect': 968, 'soul': 969, 'clever': 970, 'detect': 971, 'violent': 972, 'rape': 973, 'reach': 974, 'door': 975, 'scienc': 976, 'trash': 977, 'liter': 978, 'caught': 979, 'commun': 980, 'reveng': 981, 'creatur': 982, 'trip': 983, 'approach': 984, 'intrigu': 985, 'fashion': 986, 'introduc': 987, 'skill': 988, 'paint': 989, 'channel': 990, 'complex': 991, 'camp': 992, 'christian': 993, 'extra': 994, 'hole': 995, 'mental': 996, 'limit': 997, 'ann': 998, 'immedi': 999, 'million': 1000, 'mere': 1001, 'slightli': 1002, 'comput': 1003, '6': 1004, 'conclus': 1005, 'slasher': 1006, 'imposs': 1007, 'suddenli': 1008, 'crimin': 1009, 'neither': 1010, 'teen': 1011, 'nation': 1012, 'spent': 1013, 'physic': 1014, 'respons': 1015, 'planet': 1016, 'receiv': 1017, 'fake': 1018, 'blue': 1019, 'sick': 1020, 'bizarr': 1021, 'embarrass': 1022, 'indian': 1023, '15': 1024, 'ring': 1025, 'pop': 1026, 'drop': 1027, 'drag': 1028, 'haunt': 1029, 'suspect': 1030, 'pointless': 1031, 'edg': 1032, 'search': 1033, 'handl': 1034, 'biggest': 1035, 'common': 1036, 'hurt': 1037, 'faith': 1038, 'arriv': 1039, 'technic': 1040, 'angel': 1041, 'genuin': 1042, 'dad': 1043, 'solid': 1044, 'awesom': 1045, 'f': 1046, 'colleg': 1047, 'focu': 1048, 'van': 1049, 'former': 1050, 'count': 1051, 'tear': 1052, 'heavi': 1053, 'wall': 1054, 'rais': 1055, 'laughabl': 1056, 'visit': 1057, 'younger': 1058, 'sign': 1059, 'fair': 1060, 'excus': 1061, 'cult': 1062, 'key': 1063, 'motion': 1064, 'tough': 1065, 'super': 1066, 'desir': 1067, 'addit': 1068, 'stun': 1069, 'cloth': 1070, 'exploit': 1071, 'tortur': 1072, 'smith': 1073, 'davi': 1074, 'race': 1075, 'author': 1076, 'cross': 1077, 'jim': 1078, 'compel': 1079, 'focus': 1080, 'consist': 1081, 'minor': 1082, 'chemistri': 1083, 'commit': 1084, 'pathet': 1085, 'park': 1086, 'frank': 1087, 'obsess': 1088, 'tradit': 1089, 'grade': 1090, 'asid': 1091, '60': 1092, 'brutal': 1093, 'steve': 1094, 'somewher': 1095, 'rule': 1096, 'grant': 1097, 'depress': 1098, 'explor': 1099, 'opportun': 1100, 'u': 1101, 'honest': 1102, 'besid': 1103, 'dub': 1104, 'anti': 1105, 'trailer': 1106, 'intend': 1107, 'bar': 1108, 'regard': 1109, 'scientist': 1110, 'longer': 1111, 'west': 1112, 'decad': 1113, 'judg': 1114, 'silent': 1115, 'creativ': 1116, 'armi': 1117, 'wild': 1118, 'g': 1119, 'south': 1120, 'stewart': 1121, 'draw': 1122, 'road': 1123, 'govern': 1124, 'ex': 1125, 'boss': 1126, 'practic': 1127, 'club': 1128, 'motiv': 1129, 'festiv': 1130, 'surprisingli': 1131, 'gang': 1132, 'green': 1133, 'page': 1134, 'redeem': 1135, 'london': 1136, 'aliv': 1137, 'display': 1138, 'machin': 1139, 'idiot': 1140, 'militari': 1141, 'thrill': 1142, 'repeat': 1143, '100': 1144, 'nobodi': 1145, 'yeah': 1146, 'folk': 1147, '40': 1148, 'garbag': 1149, 'journey': 1150, 'smile': 1151, 'tire': 1152, 'ground': 1153, 'bought': 1154, 'mood': 1155, 'stone': 1156, 'cost': 1157, 'sam': 1158, 'noir': 1159, 'mouth': 1160, 'agent': 1161, 'terrif': 1162, 'utterli': 1163, 'requir': 1164, 'area': 1165, 'honestli': 1166, 'sexi': 1167, 'geniu': 1168, 'report': 1169, 'investig': 1170, 'glad': 1171, 'enter': 1172, 'humour': 1173, 'serial': 1174, 'narr': 1175, 'occasion': 1176, 'passion': 1177, 'marriag': 1178, 'climax': 1179, 'studi': 1180, 'industri': 1181, 'nowher': 1182, 'charli': 1183, 'demon': 1184, 'center': 1185, 'ship': 1186, 'bear': 1187, 'loos': 1188, 'hors': 1189, 'hang': 1190, 'wow': 1191, 'graphic': 1192, 'admir': 1193, 'giant': 1194, 'send': 1195, 'damn': 1196, 'loud': 1197, 'subtl': 1198, 'rel': 1199, 'nake': 1200, 'profession': 1201, 'blow': 1202, 'bottom': 1203, 'insult': 1204, 'batman': 1205, 'doubl': 1206, 'r': 1207, 'boyfriend': 1208, 'kelli': 1209, 'initi': 1210, 'frame': 1211, 'gem': 1212, 'opera': 1213, 'affect': 1214, 'challeng': 1215, 'drawn': 1216, 'church': 1217, 'cinemat': 1218, 'seek': 1219, 'fulli': 1220, 'evid': 1221, 'j': 1222, 'l': 1223, 'nightmar': 1224, 'essenti': 1225, 'arm': 1226, 'conflict': 1227, 'grace': 1228, 'christoph': 1229, 'henri': 1230, 'wind': 1231, 'witch': 1232, 'narrat': 1233, 'assum': 1234, 'push': 1235, 'hunt': 1236, 'wise': 1237, 'chri': 1238, 'month': 1239, 'nomin': 1240, 'repres': 1241, 'avail': 1242, 'sceneri': 1243, 'affair': 1244, 'hide': 1245, 'bond': 1246, 'justic': 1247, 'smart': 1248, 'thu': 1249, 'outstand': 1250, 'flashback': 1251, 'interview': 1252, 'presenc': 1253, 'constantli': 1254, 'satisfi': 1255, 'bed': 1256, 'central': 1257, 'iron': 1258, 'sell': 1259, 'content': 1260, 'gag': 1261, 'everybodi': 1262, 'slowli': 1263, 'hotel': 1264, 'hire': 1265, 'system': 1266, 'individu': 1267, 'hey': 1268, 'thrown': 1269, 'adam': 1270, 'charl': 1271, 'jone': 1272, 'allen': 1273, 'mediocr': 1274, 'ray': 1275, 'lesson': 1276, 'billi': 1277, 'photographi': 1278, 'cameo': 1279, 'pari': 1280, 'fellow': 1281, 'strike': 1282, 'rise': 1283, 'independ': 1284, 'absurd': 1285, 'brief': 1286, 'neg': 1287, 'phone': 1288, 'impact': 1289, 'born': 1290, 'ill': 1291, 'model': 1292, 'fresh': 1293, 'angl': 1294, 'spoil': 1295, 'abus': 1296, 'likabl': 1297, 'discuss': 1298, 'hill': 1299, 'ahead': 1300, 'sight': 1301, 'photograph': 1302, 'sent': 1303, 'logic': 1304, 'occur': 1305, 'blame': 1306, 'shine': 1307, 'mainli': 1308, 'bruce': 1309, 'skip': 1310, 'forev': 1311, 'commerci': 1312, 'held': 1313, 'segment': 1314, 'surround': 1315, 'teacher': 1316, 'zero': 1317, 'blond': 1318, 'resembl': 1319, 'trap': 1320, 'satir': 1321, 'summer': 1322, 'queen': 1323, 'ball': 1324, 'fool': 1325, 'six': 1326, 'sub': 1327, 'tragedi': 1328, 'twice': 1329, 'reaction': 1330, 'pack': 1331, 'bomb': 1332, 'will': 1333, 'hospit': 1334, 'protagonist': 1335, 'sport': 1336, 'mile': 1337, 'trust': 1338, 'drink': 1339, 'vote': 1340, 'mom': 1341, 'jerri': 1342, 'encount': 1343, 'plane': 1344, 'al': 1345, 'program': 1346, 'station': 1347, 'current': 1348, 'celebr': 1349, 'choos': 1350, 'martin': 1351, 'join': 1352, 'favourit': 1353, 'tragic': 1354, 'field': 1355, 'round': 1356, 'lord': 1357, 'jean': 1358, 'vision': 1359, 'robot': 1360, 'tie': 1361, 'arthur': 1362, 'fortun': 1363, 'random': 1364, 'roger': 1365, 'intern': 1366, 'psycholog': 1367, 'dread': 1368, 'epic': 1369, 'nonsens': 1370, 'prefer': 1371, 'improv': 1372, 'highlight': 1373, 'pleasur': 1374, 'legend': 1375, 'formula': 1376, 'tape': 1377, '11': 1378, 'dollar': 1379, 'wide': 1380, 'fox': 1381, 'gorgeou': 1382, 'object': 1383, 'thin': 1384, 'porn': 1385, 'buddi': 1386, 'ugli': 1387, 'influenc': 1388, 'ii': 1389, 'prepar': 1390, 'nasti': 1391, 'progress': 1392, 'warm': 1393, 'supposedli': 1394, 'reflect': 1395, 'worthi': 1396, 'youth': 1397, 'length': 1398, 'unusu': 1399, 'latter': 1400, 'crash': 1401, 'shop': 1402, 'seven': 1403, 'childhood': 1404, 'superior': 1405, 'remot': 1406, 'theatr': 1407, 'funniest': 1408, 'paid': 1409, 'disgust': 1410, 'pilot': 1411, 'fell': 1412, 'trick': 1413, 'convers': 1414, 'castl': 1415, 'disast': 1416, 'gangster': 1417, 'establish': 1418, 'rob': 1419, 'heaven': 1420, 'mine': 1421, 'suicid': 1422, 'ident': 1423, 'disappear': 1424, 'decis': 1425, 'forgotten': 1426, 'tend': 1427, 'mask': 1428, 'singer': 1429, 'heroin': 1430, 'partner': 1431, 'brian': 1432, 'recogn': 1433, 'desert': 1434, 'alan': 1435, 'sky': 1436, 'p': 1437, 'stuck': 1438, 'ms': 1439, 'thoroughli': 1440, 'replac': 1441, 'accur': 1442, 'market': 1443, 'seemingli': 1444, 'clue': 1445, 'uncl': 1446, 'andi': 1447, 'commentari': 1448, 'eddi': 1449, 'danni': 1450, 'devil': 1451, 'jackson': 1452, 'refus': 1453, 'therefor': 1454, 'that': 1455, 'pair': 1456, 'fault': 1457, 'fate': 1458, 'ed': 1459, 'accid': 1460, 'unit': 1461, 'river': 1462, 'tune': 1463, 'afraid': 1464, 'hidden': 1465, 'stephen': 1466, 'clean': 1467, 'russian': 1468, 'quick': 1469, 'test': 1470, 'instanc': 1471, 'irrit': 1472, 'readi': 1473, 'convey': 1474, 'captain': 1475, 'european': 1476, 'frustrat': 1477, 'daniel': 1478, 'insan': 1479, 'food': 1480, 'rescu': 1481, 'chines': 1482, 'wed': 1483, '1950': 1484, 'lock': 1485, 'dirti': 1486, 'angri': 1487, 'joy': 1488, 'steven': 1489, 'price': 1490, 'bland': 1491, 'cage': 1492, 'anymor': 1493, 'rang': 1494, 'wooden': 1495, 'jason': 1496, 'news': 1497, 'n': 1498, 'rush': 1499, 'worri': 1500, 'board': 1501, 'martial': 1502, '12': 1503, 'led': 1504, 'twenti': 1505, 'symbol': 1506, 'hunter': 1507, 'cgi': 1508, 'transform': 1509, 'x': 1510, 'sentiment': 1511, 'johnni': 1512, 'onto': 1513, 'piti': 1514, 'invent': 1515, 'process': 1516, 'attitud': 1517, 'explan': 1518, 'awar': 1519, 'owner': 1520, 'aim': 1521, 'favor': 1522, 'necessari': 1523, 'energi': 1524, 'floor': 1525, 'target': 1526, 'opposit': 1527, 'religi': 1528, 'insight': 1529, 'blind': 1530, 'window': 1531, 'chick': 1532, 'movement': 1533, 'comparison': 1534, 'research': 1535, 'mountain': 1536, 'possess': 1537, 'deepli': 1538, 'whatsoev': 1539, 'rain': 1540, 'comed': 1541, 'grand': 1542, 'began': 1543, 'mid': 1544, 'shadow': 1545, 'bank': 1546, 'parodi': 1547, 'princ': 1548, 'friendship': 1549, 'pre': 1550, 'taylor': 1551, 'weapon': 1552, 'credibl': 1553, 'teach': 1554, 'flesh': 1555, 'dougla': 1556, 'hint': 1557, 'bloodi': 1558, 'terror': 1559, 'protect': 1560, 'marvel': 1561, 'watchabl': 1562, 'drunk': 1563, 'leader': 1564, 'accord': 1565, 'load': 1566, 'superman': 1567, 'anybodi': 1568, 'brown': 1569, 'freddi': 1570, 'jeff': 1571, 'tim': 1572, 'appropri': 1573, 'seat': 1574, 'hitler': 1575, 'keaton': 1576, 'unknown': 1577, 'knock': 1578, 'villag': 1579, 'charg': 1580, 'media': 1581, 'unnecessari': 1582, 'empti': 1583, 'enemi': 1584, 'england': 1585, 'utter': 1586, 'buck': 1587, 'craft': 1588, 'wave': 1589, 'perspect': 1590, 'dare': 1591, 'strength': 1592, 'ford': 1593, 'correct': 1594, 'contrast': 1595, 'nativ': 1596, 'kiss': 1597, 'speed': 1598, 'anywher': 1599, 'soap': 1600, 'distract': 1601, 'knowledg': 1602, 'chill': 1603, 'nazi': 1604, 'magnific': 1605, 'mission': 1606, 'breath': 1607, '1980': 1608, 'ice': 1609, 'fred': 1610, 'moon': 1611, 'crowd': 1612, 'jr': 1613, 'joan': 1614, 'kate': 1615, 'frighten': 1616, '000': 1617, 'soft': 1618, 'dick': 1619, 'hundr': 1620, 'dan': 1621, 'nick': 1622, 'somebodi': 1623, 'dozen': 1624, 'simon': 1625, 'radio': 1626, 'shakespear': 1627, 'academi': 1628, 'andrew': 1629, 'loss': 1630, 'thousand': 1631, 'quot': 1632, 'account': 1633, 'root': 1634, 'vehicl': 1635, 'sum': 1636, 'leg': 1637, '1970': 1638, 'convent': 1639, 'behavior': 1640, 'regular': 1641, 'gold': 1642, 'worker': 1643, 'compet': 1644, 'pretenti': 1645, 'demand': 1646, 'candi': 1647, 'interpret': 1648, 'notabl': 1649, 'stretch': 1650, 'explos': 1651, 'japan': 1652, 'privat': 1653, 'lynch': 1654, 'constant': 1655, 'debut': 1656, 'tarzan': 1657, 'sea': 1658, 'translat': 1659, 'revolv': 1660, 'prais': 1661, 'spi': 1662, 'sat': 1663, 'threaten': 1664, 'ass': 1665, 'franc': 1666, 'quiet': 1667, 'jesu': 1668, 'failur': 1669, 'technolog': 1670, 'kevin': 1671, 'met': 1672, 'higher': 1673, 'aid': 1674, 'punch': 1675, 'toy': 1676, 'mike': 1677, 'vh': 1678, 'interact': 1679, 'abandon': 1680, 'bet': 1681, 'separ': 1682, 'command': 1683, 'confront': 1684, 'stunt': 1685, 'gotten': 1686, 'recal': 1687, 'site': 1688, 'techniqu': 1689, 'belong': 1690, 'servic': 1691, 'cabl': 1692, 'foot': 1693, 'freak': 1694, 'bug': 1695, 'african': 1696, 'jimmi': 1697, 'bright': 1698, 'capabl': 1699, 'fu': 1700, 'stock': 1701, 'succeed': 1702, 'boat': 1703, 'fat': 1704, 'clark': 1705, 'presid': 1706, 'structur': 1707, 'spanish': 1708, 'gene': 1709, 'kidnap': 1710, 'paper': 1711, 'whilst': 1712, 'belief': 1713, 'factor': 1714, 'complic': 1715, 'witti': 1716, 'bob': 1717, 'realism': 1718, 'tree': 1719, 'realis': 1720, 'educ': 1721, 'attend': 1722, 'broken': 1723, 'finest': 1724, 'assist': 1725, 'santa': 1726, 'observ': 1727, 'v': 1728, 'smoke': 1729, 'up': 1730, 'depart': 1731, 'determin': 1732, 'hat': 1733, 'fame': 1734, 'domin': 1735, 'rubbish': 1736, 'oper': 1737, 'lewi': 1738, 'routin': 1739, 'kinda': 1740, 'lone': 1741, 'advanc': 1742, 'foreign': 1743, 'morgan': 1744, 'hook': 1745, 'safe': 1746, 'rank': 1747, 'numer': 1748, 'werewolf': 1749, 'washington': 1750, 'shallow': 1751, 'civil': 1752, 'vs': 1753, 'rose': 1754, 'shape': 1755, 'morn': 1756, 'gari': 1757, 'ordinari': 1758, 'accomplish': 1759, 'winner': 1760, 'kong': 1761, 'peac': 1762, 'whenev': 1763, 'virtual': 1764, 'grab': 1765, 'luck': 1766, 'h': 1767, 'offens': 1768, 'unfunni': 1769, 'contriv': 1770, 'welcom': 1771, 'bigger': 1772, 'activ': 1773, 'complain': 1774, 'patient': 1775, 'dimension': 1776, 'con': 1777, 'pretend': 1778, 'trek': 1779, 'dri': 1780, 'wake': 1781, 'eric': 1782, 'flash': 1783, 'lesbian': 1784, 'code': 1785, 'cain': 1786, 'dancer': 1787, 'manipul': 1788, 'corrupt': 1789, 'statu': 1790, 'guard': 1791, 'albert': 1792, 'gain': 1793, 'context': 1794, 'speech': 1795, 'signific': 1796, 'sourc': 1797, 'awkward': 1798, 'corni': 1799, 'clip': 1800, 'anthoni': 1801, 'psycho': 1802, '13': 1803, 'sean': 1804, 'theatric': 1805, 'curiou': 1806, 'w': 1807, 'religion': 1808, 'reli': 1809, 'advic': 1810, 'priest': 1811, 'addict': 1812, 'flow': 1813, 'specif': 1814, 'howard': 1815, 'jennif': 1816, 'asian': 1817, 'skin': 1818, 'secur': 1819, 'promot': 1820, 'golden': 1821, 'core': 1822, 'luke': 1823, 'comfort': 1824, 'organ': 1825, 'lucki': 1826, 'cash': 1827, 'cheat': 1828, 'associ': 1829, 'lower': 1830, 'dislik': 1831, 'spell': 1832, 'contribut': 1833, 'devic': 1834, 'frequent': 1835, 'regret': 1836, 'wing': 1837, 'balanc': 1838, 'frankli': 1839, 'degre': 1840, 'forgiv': 1841, 'print': 1842, 'sake': 1843, 'lake': 1844, 'mass': 1845, 'betti': 1846, 'thoma': 1847, 'gordon': 1848, 'unexpect': 1849, 'crack': 1850, 'categori': 1851, 'unfold': 1852, 'invit': 1853, 'construct': 1854, 'depend': 1855, 'grown': 1856, 'amateur': 1857, 'intellectu': 1858, 'grew': 1859, 'walter': 1860, 'matur': 1861, 'anna': 1862, 'honor': 1863, 'condit': 1864, 'sole': 1865, 'mirror': 1866, 'spectacular': 1867, 'veteran': 1868, 'sudden': 1869, 'liner': 1870, 'overli': 1871, 'experienc': 1872, 'robin': 1873, 'meanwhil': 1874, 'grip': 1875, 'demonstr': 1876, 'card': 1877, 'gift': 1878, 'freedom': 1879, 'section': 1880, 'sheriff': 1881, 'theori': 1882, 'crappi': 1883, 'oliv': 1884, 'drew': 1885, 'unabl': 1886, 'colour': 1887, 'circumst': 1888, 'brilliantli': 1889, 'subtitl': 1890, 'parker': 1891, 'altern': 1892, 'pile': 1893, 'cook': 1894, 'matt': 1895, 'path': 1896, 'sheer': 1897, 'laughter': 1898, 'wander': 1899, 'sinatra': 1900, 'treatment': 1901, 'accident': 1902, 'defin': 1903, 'hall': 1904, 'relief': 1905, 'lawyer': 1906, 'hank': 1907, 'captiv': 1908, 'dragon': 1909, 'halloween': 1910, 'gratuit': 1911, 'moor': 1912, 'unintent': 1913, 'k': 1914, 'barbara': 1915, 'broadway': 1916, 'wayn': 1917, 'kung': 1918, 'jacki': 1919, 'cowboy': 1920, 'wound': 1921, 'surreal': 1922, 'spoof': 1923, 'winter': 1924, 'statement': 1925, 'canadian': 1926, 'compos': 1927, 'cheer': 1928, 'fare': 1929, 'gonna': 1930, 'fish': 1931, 'treasur': 1932, 'sensit': 1933, 'emerg': 1934, 'victor': 1935, 'unrealist': 1936, 'woodi': 1937, 'ran': 1938, 'driven': 1939, 'neighbor': 1940, 'sympathet': 1941, 'topic': 1942, 'menac': 1943, 'glass': 1944, 'overlook': 1945, 'authent': 1946, 'expos': 1947, 'gross': 1948, 'handsom': 1949, 'michel': 1950, 'chief': 1951, 'ancient': 1952, 'feet': 1953, 'russel': 1954, 'stranger': 1955, 'pleasant': 1956, 'nevertheless': 1957, 'contemporari': 1958, 'network': 1959, 'built': 1960, 'comedian': 1961, 'cinderella': 1962, 'endless': 1963, 'consider': 1964, 'earn': 1965, 'gori': 1966, 'letter': 1967, 'underr': 1968, 'miser': 1969, 'blockbust': 1970, 'solv': 1971, 'switch': 1972, 'brook': 1973, 'convict': 1974, 'edward': 1975, 'bullet': 1976, 'virgin': 1977, 'victoria': 1978, 'joseph': 1979, 'cynic': 1980, '0': 1981, 'scenario': 1982, 'chosen': 1983, 'alex': 1984, 'scale': 1985, 'sword': 1986, 'gut': 1987, 'com': 1988, 'outrag': 1989, 'curs': 1990, 'wrap': 1991, 'juli': 1992, 'driver': 1993, 'screenwrit': 1994, 'monkey': 1995, 'substanc': 1996, 'uk': 1997, 'proper': 1998, 'indic': 1999, 'remov': 2000, 'par': 2001, 'court': 2002, 'bird': 2003, 'advertis': 2004, 'nanci': 2005, 'inevit': 2006, 'grave': 2007, 'naiv': 2008, 'consequ': 2009, 'rental': 2010, 'loser': 2011, 'roy': 2012, 'brave': 2013, 'bridg': 2014, 'le': 2015, 'invis': 2016, 'fatal': 2017, 'germani': 2018, 'slap': 2019, 'footbal': 2020, 'anger': 2021, 'ador': 2022, 'provok': 2023, 'loui': 2024, 'alcohol': 2025, 'chan': 2026, 'anderson': 2027, 'professor': 2028, 'willi': 2029, 'stumbl': 2030, 'ryan': 2031, 'bat': 2032, '1930': 2033, 'patrick': 2034, 'australian': 2035, 'sharp': 2036, 'assassin': 2037, 'eight': 2038, 'saturday': 2039, 'amateurish': 2040, 'refresh': 2041, 'trilog': 2042, 'strongli': 2043, 'cell': 2044, 'liber': 2045, 'heck': 2046, 'lousi': 2047, 'ape': 2048, 'deni': 2049, 'sin': 2050, 'vagu': 2051, 'resid': 2052, 'justifi': 2053, 'san': 2054, 'creator': 2055, 'defeat': 2056, 'reput': 2057, 'mini': 2058, 'indi': 2059, 'sympathi': 2060, 'terrifi': 2061, 'endur': 2062, 'task': 2063, 'tabl': 2064, 'expert': 2065, 'prevent': 2066, 'tediou': 2067, 'offend': 2068, 'rival': 2069, 'imit': 2070, 'basebal': 2071, 'employ': 2072, 'trial': 2073, 'che': 2074, 'pitch': 2075, 'complaint': 2076, 'weekend': 2077, 'dig': 2078, 'europ': 2079, 'max': 2080, 'fairi': 2081, 'beach': 2082, 'murphi': 2083, 'risk': 2084, 'format': 2085, 'purchas': 2086, 'powel': 2087, 'hype': 2088, 'nois': 2089, 'bite': 2090, 'harsh': 2091, 'reminisc': 2092, 'tini': 2093, 'glimps': 2094, 'titan': 2095, 'asleep': 2096, 'till': 2097, '14': 2098, 'fals': 2099, 'strip': 2100, 'north': 2101, 'prime': 2102, 'revel': 2103, 'descript': 2104, 'destruct': 2105, 'texa': 2106, 'africa': 2107, 'semi': 2108, 'uninterest': 2109, 'surfac': 2110, 'spin': 2111, 'excess': 2112, 'sitcom': 2113, 'inner': 2114, 'arrest': 2115, 'makeup': 2116, 'massiv': 2117, 'twin': 2118, 'maintain': 2119, 'dinosaur': 2120, 'controversi': 2121, 'argu': 2122, 'hitchcock': 2123, 'ludicr': 2124, 'insist': 2125, 'kim': 2126, 'melodrama': 2127, 'reject': 2128, 'expens': 2129, 'ideal': 2130, 'stare': 2131, 'ala': 2132, 'subplot': 2133, 'press': 2134, 'host': 2135, 'nail': 2136, 'erot': 2137, 'ga': 2138, 'forest': 2139, 'atroci': 2140, 'columbo': 2141, 'supernatur': 2142, 'dude': 2143, 'notch': 2144, 'cant': 2145, 'identifi': 2146, 'presum': 2147, 'forgett': 2148, 'crude': 2149, 'plagu': 2150, 'character': 2151, 'guest': 2152, 'closer': 2153, 'method': 2154, 'foster': 2155, 'landscap': 2156, 'princess': 2157, 'beast': 2158, 'ear': 2159, 'lion': 2160, 'border': 2161, 'jungl': 2162, 'storytel': 2163, 'aunt': 2164, 'pacino': 2165, 'damag': 2166, 'birth': 2167, 'bound': 2168, 'previous': 2169, 'urban': 2170, 'accus': 2171, 'jess': 2172, 'chose': 2173, 'doll': 2174, 'propaganda': 2175, 'guid': 2176, 'emma': 2177, 'thirti': 2178, 'nude': 2179, 'mainstream': 2180, 'mate': 2181, 'whoever': 2182, 'pet': 2183, 'warrior': 2184, '25': 2185, 'poster': 2186, 'friday': 2187, 'latest': 2188, 'merit': 2189, 'gritti': 2190, 'upset': 2191, 'size': 2192, 'exact': 2193, 'cooper': 2194, 'deadli': 2195, 'settl': 2196, 'rough': 2197, 'contact': 2198, 'wilson': 2199, 'corps': 2200, 'popul': 2201, 'buff': 2202, 'ton': 2203, 'sun': 2204, 'warner': 2205, 'citizen': 2206, 'blend': 2207, 'contest': 2208, '1990': 2209, 'mgm': 2210, 'widow': 2211, 'select': 2212, 'environ': 2213, 'alic': 2214, 'pitt': 2215, 'bu': 2216, 'overcom': 2217, 'rat': 2218, 'metal': 2219, 'lift': 2220, 'particip': 2221, 'link': 2222, 'ted': 2223, 'guilti': 2224, 'revolut': 2225, 'corpor': 2226, 'johnson': 2227, 'accompani': 2228, '1960': 2229, 'prostitut': 2230, 'corner': 2231, 'exagger': 2232, 'afternoon': 2233, 'matrix': 2234, 'moron': 2235, 'clair': 2236, 'instal': 2237, 'leagu': 2238, 'doom': 2239, 'sincer': 2240, 'holm': 2241, 'multipl': 2242, 'friendli': 2243, 'hood': 2244, 'sunday': 2245, 'aka': 2246, 'defend': 2247, 'campi': 2248, 'string': 2249, 'advis': 2250, 'hip': 2251, 'grim': 2252, 'lugosi': 2253, 'irish': 2254, 'examin': 2255, 'junk': 2256, 'blah': 2257, 'varieti': 2258, 'confid': 2259, 'shake': 2260, 'tight': 2261, 'shut': 2262, 'pro': 2263, 'icon': 2264, 'rachel': 2265, 'attach': 2266, 'goal': 2267, 'sullivan': 2268, 'jaw': 2269, 'directli': 2270, 'mexican': 2271, 'medic': 2272, 'denni': 2273, 'prior': 2274, 'legendari': 2275, 'duke': 2276, 'bourn': 2277, 'dean': 2278, 'terrorist': 2279, 'breast': 2280, 'sentenc': 2281, 'sarah': 2282, 'vietnam': 2283, 'truck': 2284, 'courag': 2285, 'split': 2286, 'donald': 2287, 'nose': 2288, 'un': 2289, 'entri': 2290, 'proceed': 2291, 'hong': 2292, 'behav': 2293, 'yell': 2294, 'forth': 2295, 'stolen': 2296, 'crush': 2297, 'concentr': 2298, 'confess': 2299, 'swim': 2300, 'borrow': 2301, 'everywher': 2302, 'unconvinc': 2303, 'jerk': 2304, 'lifetim': 2305, 'buri': 2306, 'gather': 2307, 'pan': 2308, 'california': 2309, 'turkey': 2310, 'lip': 2311, 'deliveri': 2312, 'spite': 2313, 'julia': 2314, 'hoffman': 2315, 'offici': 2316, 'reward': 2317, 'flight': 2318, 'downright': 2319, 'quest': 2320, 'proud': 2321, 'freeman': 2322, 'china': 2323, 'fade': 2324, 'sink': 2325, 'betray': 2326, 'jail': 2327, 'encourag': 2328, 'jon': 2329, 'worthwhil': 2330, 'fabul': 2331, 'sir': 2332, 'lazi': 2333, 'notori': 2334, 'inept': 2335, 'retard': 2336, 'branagh': 2337, 'bag': 2338, 'survivor': 2339, 'relev': 2340, 'cousin': 2341, 'shower': 2342, 'storm': 2343, 'teeth': 2344, 'susan': 2345, 'lisa': 2346, 'bell': 2347, 'imageri': 2348, 'summari': 2349, 'alright': 2350, 'facial': 2351, 'finger': 2352, 'stab': 2353, 'trade': 2354, 'quirki': 2355, 'toler': 2356, 'tremend': 2357, 'hugh': 2358, 'mexico': 2359, 'bride': 2360, 'shark': 2361, 'blown': 2362, 'hyster': 2363, 'von': 2364, 'bitter': 2365, 'pose': 2366, 'ha': 2367, 'afterward': 2368, 'ron': 2369, 'scheme': 2370, 'bone': 2371, 'christ': 2372, 'ned': 2373, 'address': 2374, 'cruel': 2375, 'larri': 2376, 'beg': 2377, 'tour': 2378, 'distinct': 2379, 'thumb': 2380, 'feed': 2381, 'traci': 2382, 'swear': 2383, 'snake': 2384, 'pursu': 2385, 'screw': 2386, 'raw': 2387, 'mechan': 2388, 'stomach': 2389, 'obscur': 2390, 'chair': 2391, 'occas': 2392, 'photo': 2393, 'argument': 2394, 'chain': 2395, 'resist': 2396, 'render': 2397, 'necessarili': 2398, 'southern': 2399, 'heavili': 2400, 'gruesom': 2401, 'holiday': 2402, 'cabin': 2403, 'sidney': 2404, 'hardi': 2405, 'racist': 2406, 'indulg': 2407, 'philip': 2408, 'satan': 2409, 'understood': 2410, 'india': 2411, 'forgot': 2412, 'tongu': 2413, 'fourth': 2414, 'outfit': 2415, 'integr': 2416, 'belov': 2417, 'stalk': 2418, 'lay': 2419, 'midnight': 2420, 'pregnant': 2421, 'obnoxi': 2422, 'magazin': 2423, 'slapstick': 2424, 'carol': 2425, '17': 2426, 'deeper': 2427, 'ticket': 2428, 'restor': 2429, 'inhabit': 2430, 'garden': 2431, 'lincoln': 2432, 'shoe': 2433, 'brad': 2434, 'devot': 2435, 'incid': 2436, 'divorc': 2437, 'benefit': 2438, 'lili': 2439, 'anticip': 2440, 'guarante': 2441, 'elizabeth': 2442, 'maria': 2443, 'disbelief': 2444, 'underground': 2445, 'sandler': 2446, 'mildli': 2447, 'creation': 2448, 'amazingli': 2449, 'bbc': 2450, 'explod': 2451, 'capit': 2452, 'cring': 2453, 'slave': 2454, 'greater': 2455, 'princip': 2456, 'funnier': 2457, 'introduct': 2458, 'extraordinari': 2459, 'halfway': 2460, 'lesli': 2461, 'wreck': 2462, 'enhanc': 2463, 'text': 2464, 'transfer': 2465, 'overwhelm': 2466, 'tap': 2467, 'advantag': 2468, 'punish': 2469, 'extent': 2470, 'jessica': 2471, 'plant': 2472, 'deliber': 2473, 'preview': 2474, 'dynam': 2475, 'horrif': 2476, 'east': 2477, 'error': 2478, 'lane': 2479, 'lo': 2480, 'appli': 2481, 'vacat': 2482, '2000': 2483, 'sophist': 2484, 'homosexu': 2485, 'miscast': 2486, 'miller': 2487, 'ensu': 2488, 'vincent': 2489, 'basi': 2490, 'uncomfort': 2491, 'sleazi': 2492, 'reed': 2493, 'measur': 2494, 'via': 2495, 'steel': 2496, 'bollywood': 2497, 'elev': 2498, 'mansion': 2499, 'extend': 2500, 'spoken': 2501, 'hippi': 2502, 'assign': 2503, 'beer': 2504, 'blair': 2505, 'conceiv': 2506, 'mous': 2507, 'goofi': 2508, 'overact': 2509, 'fix': 2510, 'breathtak': 2511, 'cathol': 2512, 'savag': 2513, 'melt': 2514, 'stanley': 2515, 'daili': 2516, 'dentist': 2517, 'alter': 2518, 'nowaday': 2519, 'burt': 2520, 'subsequ': 2521, 'inspector': 2522, 'succe': 2523, 'sacrific': 2524, 'carpent': 2525, 'everyday': 2526, 'oppos': 2527, 'properli': 2528, 'block': 2529, 'neck': 2530, 'laura': 2531, 'massacr': 2532, 'circl': 2533, 'mob': 2534, 'lesser': 2535, 'access': 2536, 'pool': 2537, 'fallen': 2538, 'christi': 2539, 'concert': 2540, 'grey': 2541, 'portrait': 2542, 'fay': 2543, 'seagal': 2544, 'react': 2545, 'chees': 2546, 'competit': 2547, 'isol': 2548, 'jewish': 2549, 'jake': 2550, 'relax': 2551, 'sinist': 2552, 'usa': 2553, 'nine': 2554, 'nonetheless': 2555, 'spiritu': 2556, 'chop': 2557, 'ironi': 2558, 'creep': 2559, 'immens': 2560, 'appal': 2561, 'stink': 2562, 'suitabl': 2563, 'lyric': 2564, '2006': 2565, 'luci': 2566, 'showcas': 2567, 'rage': 2568, 'needless': 2569, 'retir': 2570, 'sold': 2571, 'adopt': 2572, 'user': 2573, 'spring': 2574, 'nut': 2575, 'franchis': 2576, 'shirt': 2577, 'reduc': 2578, 'navi': 2579, 'uninspir': 2580, 'per': 2581, 'stanwyck': 2582, 'jay': 2583, 'nurs': 2584, 'digit': 2585, 'bath': 2586, 'bulli': 2587, 'asham': 2588, 'zone': 2589, 'laid': 2590, '2001': 2591, 'broadcast': 2592, 'sutherland': 2593, 'upper': 2594, 'illustr': 2595, 'oddli': 2596, 'amongst': 2597, '1940': 2598, 'baker': 2599, 'fulfil': 2600, 'stylish': 2601, 'aspir': 2602, 'disguis': 2603, 'brando': 2604, 'throat': 2605, 'impli': 2606, 'pound': 2607, 'nobl': 2608, '18': 2609, 'thief': 2610, 'pride': 2611, 'neighborhood': 2612, 'em': 2613, 'wwii': 2614, 'wanna': 2615, 'endear': 2616, 'dawn': 2617, 'dinner': 2618, 'shift': 2619, 'shoulder': 2620, 'bo': 2621, 'coher': 2622, 'distribut': 2623, '16': 2624, 'cinematograph': 2625, 'bett': 2626, 'tens': 2627, 'rochest': 2628, 'albeit': 2629, 'diseas': 2630, 'prop': 2631, 'function': 2632, 'wash': 2633, 'silenc': 2634, 'contract': 2635, 'rebel': 2636, 'knife': 2637, 'snow': 2638, 'shout': 2639, 'poignant': 2640, 'forti': 2641, 'surf': 2642, 'matthau': 2643, 'internet': 2644, 'horrend': 2645, 'cancel': 2646, 'duti': 2647, 'instinct': 2648, 'eeri': 2649, 'mindless': 2650, 'cannib': 2651, 'heat': 2652, 'height': 2653, 'silver': 2654, 'reunion': 2655, 'henc': 2656, 'derek': 2657, 'proof': 2658, 'chuck': 2659, 'widmark': 2660, 'elvira': 2661, 'alik': 2662, 'neat': 2663, 'absorb': 2664, 'repetit': 2665, 'glori': 2666, 'torn': 2667, 'musician': 2668, 'mill': 2669, 'innov': 2670, 'incoher': 2671, 'etern': 2672, 'spielberg': 2673, 'pie': 2674, 'premier': 2675, 'greatli': 2676, 'elvi': 2677, 'britain': 2678, 'nelson': 2679, 'wealthi': 2680, 'itali': 2681, 'precis': 2682, 'trite': 2683, 'blank': 2684, 'homag': 2685, 'announc': 2686, 'lovabl': 2687, 'horrifi': 2688, 'infam': 2689, 'crisi': 2690, 'redempt': 2691, 'bang': 2692, 'diamond': 2693, 'burton': 2694, 'racism': 2695, 'fbi': 2696, 'ensembl': 2697, 'helen': 2698, 'resolut': 2699, 'hammer': 2700, 'pat': 2701, 'parallel': 2702, 'happili': 2703, 'wilder': 2704, 'dedic': 2705, 'chaplin': 2706, 'streisand': 2707, 'flop': 2708, 'carter': 2709, 'st': 2710, 'cube': 2711, 'conclud': 2712, 'plastic': 2713, 'triumph': 2714, 'factori': 2715, 'mar': 2716, 'disagre': 2717, 'oil': 2718, 'broke': 2719, 'chuckl': 2720, 'rocket': 2721, 'own': 2722, 'climb': 2723, 'row': 2724, 'weight': 2725, 'fighter': 2726, 'march': 2727, 'bush': 2728, 'vega': 2729, 'dane': 2730, 'mst3k': 2731, 'kurt': 2732, 'enorm': 2733, 'unforgett': 2734, 'luca': 2735, 'wherea': 2736, 'dump': 2737, 'lust': 2738, 'boot': 2739, 'spare': 2740, 'meaning': 2741, 'thug': 2742, 'sensibl': 2743, 'arnold': 2744, 'stress': 2745, 'adequ': 2746, 'dear': 2747, 'karloff': 2748, 'butt': 2749, 'difficulti': 2750, 'brand': 2751, 'fifti': 2752, 'caricatur': 2753, 'rap': 2754, 'threat': 2755, 'engin': 2756, 'bobbi': 2757, 'arrog': 2758, 'ralph': 2759, 'secretari': 2760, 'polish': 2761, 'hamlet': 2762, 'elabor': 2763, 'flynn': 2764, 'journalist': 2765, 'fest': 2766, 'swing': 2767, 'homeless': 2768, 'barri': 2769, 'ego': 2770, 'induc': 2771, 'resort': 2772, 'unbear': 2773, 'puppet': 2774, 'simpson': 2775, 'fanci': 2776, 'float': 2777, 'grate': 2778, 'tool': 2779, 'conspiraci': 2780, 'arrang': 2781, 'spike': 2782, 'choreograph': 2783, 'guilt': 2784, 'cruis': 2785, 'boll': 2786, 'pig': 2787, 'basement': 2788, 'muppet': 2789, 'tribut': 2790, 'phillip': 2791, 'exercis': 2792, 'document': 2793, 'ward': 2794, 'slip': 2795, 'stan': 2796, '24': 2797, 'medium': 2798, 'tower': 2799, 'fianc': 2800, 'korean': 2801, 'ham': 2802, 'editor': 2803, 'item': 2804, 'scarecrow': 2805, 'puzzl': 2806, 'layer': 2807, 'toilet': 2808, 'file': 2809, 'babe': 2810, 'minim': 2811, 'denzel': 2812, 'persona': 2813, 'orient': 2814, 'slaughter': 2815, 'transit': 2816, 'catherin': 2817, 'librari': 2818, 'territori': 2819, 'inexplic': 2820, 'assur': 2821, 'portion': 2822, 'philosoph': 2823, 'superfici': 2824, 'glover': 2825, 'spark': 2826, 'larger': 2827, 'doc': 2828, 'jet': 2829, 'dorothi': 2830, 'walken': 2831, 'wolf': 2832, 'shi': 2833, 'owe': 2834, 'financi': 2835, 'curti': 2836, 'sneak': 2837, 'ban': 2838, 'pg': 2839, 'boredom': 2840, 'jeremi': 2841, 'backdrop': 2842, 'profound': 2843, 'eleph': 2844, 'ambigu': 2845, 'metaphor': 2846, 'whale': 2847, 'multi': 2848, 'hudson': 2849, 'cusack': 2850, 'elsewher': 2851, 'stiff': 2852, 'gadget': 2853, 'birthday': 2854, 'notion': 2855, 'ultra': 2856, '2005': 2857, 'implaus': 2858, 'union': 2859, 'rave': 2860, 'hack': 2861, 'viru': 2862, 'lloyd': 2863, 'afford': 2864, 'pad': 2865, 'urg': 2866, 'eastwood': 2867, 'bibl': 2868, 'distanc': 2869, 'squar': 2870, '1st': 2871, 'disc': 2872, 'slight': 2873, 'deriv': 2874, 'eva': 2875, 'canada': 2876, 'poison': 2877, 'newspap': 2878, 'reader': 2879, 'hawk': 2880, 'superhero': 2881, 'skit': 2882, 'button': 2883, 'restaur': 2884, 'essenc': 2885, 'cure': 2886, 'heston': 2887, 'health': 2888, 'sadist': 2889, 'drown': 2890, 'huh': 2891, 'charisma': 2892, 'montag': 2893, 'spread': 2894, 'scoobi': 2895, 'invest': 2896, 'companion': 2897, 'peak': 2898, 'fetch': 2899, 'maniac': 2900, 'dealt': 2901, 'godfath': 2902, 'lab': 2903, 'gradual': 2904, 'estat': 2905, 'muslim': 2906, 'gothic': 2907, 'ritter': 2908, 'kane': 2909, 'tea': 2910, 'subtleti': 2911, 'cup': 2912, 'countless': 2913, 'servant': 2914, 'alli': 2915, 'miik': 2916, 'iii': 2917, 'salli': 2918, 'electr': 2919, 'charismat': 2920, 'heroic': 2921, 'briefli': 2922, 'elect': 2923, 'cole': 2924, 'reel': 2925, 'neil': 2926, 'toss': 2927, 'grandmoth': 2928, 'admittedli': 2929, 'nuanc': 2930, 'ingredi': 2931, 'tender': 2932, 'bud': 2933, 'resourc': 2934, 'wannab': 2935, 'punk': 2936, 'label': 2937, 'stronger': 2938, 'mild': 2939, 'dawson': 2940, 'stood': 2941, 'shall': 2942, 'mafia': 2943, 'poverti': 2944, 'carrey': 2945, 'reev': 2946, 'kubrick': 2947, 'pit': 2948, 'gate': 2949, 'pauli': 2950, 'assault': 2951, 'fond': 2952, 'easier': 2953, 'tag': 2954, 'smooth': 2955, 'burst': 2956, 'cardboard': 2957, 'terri': 2958, 'updat': 2959, 'ian': 2960, 'cox': 2961, 'astair': 2962, 'useless': 2963, 'bakshi': 2964, 'smash': 2965, 'outcom': 2966, 'vari': 2967, 'resolv': 2968, 'vulner': 2969, '2002': 2970, 'coincid': 2971, 'increasingli': 2972, 'sketch': 2973, 'rex': 2974, 'qualifi': 2975, 'melodramat': 2976, 'fist': 2977, 'samurai': 2978, 'divers': 2979, 'exchang': 2980, 'conveni': 2981, 'scratch': 2982, 'reynold': 2983, 'luckili': 2984, 'insert': 2985, 'be': 2986, 'suspend': 2987, 'tame': 2988, 'templ': 2989, 'blast': 2990, 'brillianc': 2991, 'farm': 2992, 'seventi': 2993, 'walker': 2994, 'strictli': 2995, 'gotta': 2996, 'hamilton': 2997, 'matthew': 2998, 'coach': 2999, 'nuclear': 3000, 'meat': 3001, 'jami': 3002, 'ambiti': 3003, 'fisher': 3004, 'pin': 3005, 'soprano': 3006, 'grasp': 3007, 'clock': 3008, 'joey': 3009, 'revers': 3010, 'kudo': 3011, 'ninja': 3012, 'closet': 3013, 'timeless': 3014, 'cave': 3015, 'worthless': 3016, 'monk': 3017, 'recreat': 3018, 'butcher': 3019, 'empir': 3020, 'instantli': 3021, 'convolut': 3022, 'struck': 3023, 'eccentr': 3024, 'discoveri': 3025, 'spooki': 3026, 'brosnan': 3027, 'communist': 3028, 'mitchel': 3029, 'gray': 3030, 'evok': 3031, 'partli': 3032, 'selfish': 3033, 'bleak': 3034, 'norman': 3035, 'sloppi': 3036, 'fifteen': 3037, 'wipe': 3038, 'eighti': 3039, 'seller': 3040, 'cliff': 3041, 'declar': 3042, 'inconsist': 3043, 'importantli': 3044, 'clown': 3045, 'pal': 3046, 'sidekick': 3047, 'miracl': 3048, 'ho': 3049, 'cheek': 3050, 'chew': 3051, 'piano': 3052, 'debat': 3053, '45': 3054, 'destin': 3055, 'psychiatrist': 3056, 'australia': 3057, 'aforement': 3058, 'seed': 3059, 'flawless': 3060, 'enthusiast': 3061, 'superbl': 3062, 'lifestyl': 3063, 'websit': 3064, 'farc': 3065, 'stoog': 3066, 'drivel': 3067, 'wrestl': 3068, 'wick': 3069, 'regardless': 3070, 'pressur': 3071, 'dire': 3072, 'abc': 3073, 'bash': 3074, 'dash': 3075, 'splatter': 3076, 'incompet': 3077, 'slice': 3078, 'soviet': 3079, 'anni': 3080, 'akshay': 3081, 'directori': 3082, 'kitchen': 3083, 'emili': 3084, 'cagney': 3085, 'pleasantli': 3086, 'suppli': 3087, 'doo': 3088, 'seduc': 3089, 'artifici': 3090, 'ken': 3091, 'mann': 3092, 'glow': 3093, 'jar': 3094, 'flower': 3095, 'recov': 3096, 'beaten': 3097, 'distant': 3098, 'prize': 3099, 'dave': 3100, 'lou': 3101, 'helicopt': 3102, 'increas': 3103, 'chapter': 3104, 'judi': 3105, 'duo': 3106, 'blob': 3107, 'boil': 3108, 'curios': 3109, 'cia': 3110, 'cameron': 3111, 'goldberg': 3112, 'glenn': 3113, 'hop': 3114, 'panic': 3115, 'combat': 3116, 'web': 3117, 'craig': 3118, 'eleg': 3119, 'splendid': 3120, 'turner': 3121, 'psychot': 3122, 'perri': 3123, 'favour': 3124, 'drunken': 3125, 'ellen': 3126, 'francisco': 3127, 'craven': 3128, 'laurel': 3129, 'ranger': 3130, 'gentl': 3131, 'philosophi': 3132, 'flip': 3133, 'min': 3134, 'ruth': 3135, 'graduat': 3136, 'plausibl': 3137, 'wizard': 3138, 'shortli': 3139, 'falk': 3140, 'fx': 3141, 'alexand': 3142, 'rid': 3143, 'slightest': 3144, 'greek': 3145, 'modesti': 3146, '20th': 3147, 'hatr': 3148, 'gandhi': 3149, 'tall': 3150, 'harm': 3151, 'jealou': 3152, 'ocean': 3153, 'preciou': 3154, 'dracula': 3155, 'lend': 3156, 'knight': 3157, 'unpleas': 3158, 'manhattan': 3159, 'holi': 3160, 'legal': 3161, 'we': 3162, 'futurist': 3163, 'fund': 3164, 'felix': 3165, 'overdon': 3166, 'explicit': 3167, 'bless': 3168, 'mock': 3169, 'reviv': 3170, 'ami': 3171, 'childish': 3172, 'forbidden': 3173, 'nod': 3174, 'thread': 3175, 'tank': 3176, 'scientif': 3177, 'giallo': 3178, 'digniti': 3179, 'yesterday': 3180, 'nerv': 3181, 'mel': 3182, 'awe': 3183, '99': 3184, 'thick': 3185, 'broad': 3186, 'repeatedli': 3187, 'awaken': 3188, '2004': 3189, 'verhoeven': 3190, 'torment': 3191, 'fever': 3192, 'elderli': 3193, 'eve': 3194, 'unwatch': 3195, 'pirat': 3196, 'margaret': 3197, 'acclaim': 3198, 'automat': 3199, 'lean': 3200, 'royal': 3201, 'uniform': 3202, 'roman': 3203, 'ah': 3204, 'custom': 3205, 'politician': 3206, 'bin': 3207, 'absenc': 3208, 'ambit': 3209, 'rivet': 3210, 'kay': 3211, 'stiller': 3212, 'romero': 3213, 'timothi': 3214, 'launch': 3215, 'griffith': 3216, 'publish': 3217, 'eas': 3218, 'darker': 3219, 'bathroom': 3220, 'purpl': 3221, 'transport': 3222, 'termin': 3223, 'foul': 3224, 'phrase': 3225, 'warren': 3226, 'pulp': 3227, 'antic': 3228, 'gabriel': 3229, 'pierc': 3230, 'stinker': 3231, 'wallac': 3232, 'homicid': 3233, 'tomato': 3234, 'crook': 3235, 'sunshin': 3236, 'kenneth': 3237, 'choreographi': 3238, 'q': 3239, 'viciou': 3240, 'saint': 3241, 'horrid': 3242, '2003': 3243, 'ought': 3244, 'pray': 3245, 'sixti': 3246, 'awak': 3247, 'contrari': 3248, 'marin': 3249, 'li': 3250, 'revolutionari': 3251, 'album': 3252, 'karen': 3253, 'evolv': 3254, 'coloni': 3255, 'packag': 3256, 'eyr': 3257, 'juvenil': 3258, 'brazil': 3259, 'rambo': 3260, 'prom': 3261, 'donna': 3262, 'hollow': 3263, 'nerd': 3264, 'stole': 3265, 'conserv': 3266, 'boast': 3267, 'defi': 3268, 'ramon': 3269, 'beatti': 3270, 'mummi': 3271, 'overr': 3272, 'mildr': 3273, 'twelv': 3274, 'option': 3275, 'kapoor': 3276, 'blade': 3277, 'candid': 3278, 'dose': 3279, 'ireland': 3280, 'fulci': 3281, 'global': 3282, 'trio': 3283, 'altman': 3284, 'natali': 3285, 'detract': 3286, 'flame': 3287, 'astonish': 3288, 'funer': 3289, 'confirm': 3290, 'protest': 3291, 'collabor': 3292, 'kirk': 3293, 'jazz': 3294, 'spit': 3295, 'destini': 3296, 'audio': 3297, 'nicholson': 3298, 'delici': 3299, 'yellow': 3300, 'whip': 3301, 'bottl': 3302, 'tommi': 3303, 'bull': 3304, 'mystic': 3305, 'racial': 3306, 'enterpris': 3307, 'blake': 3308, 'shade': 3309, 'leap': 3310, 'reunit': 3311, 'threw': 3312, 'adolesc': 3313, 'fonda': 3314, 'pseudo': 3315, 'bedroom': 3316, 'neo': 3317, 'visibl': 3318, 'altogeth': 3319, 'harder': 3320, 'swedish': 3321, 'enchant': 3322, 'meaningless': 3323, 'vivid': 3324, 'merci': 3325, 'popcorn': 3326, 'inherit': 3327, 'todd': 3328, 'staff': 3329, 'wire': 3330, 'roommat': 3331, 'ruthless': 3332, 'exhibit': 3333, 'crocodil': 3334, 'kennedi': 3335, 'respond': 3336, 'uneven': 3337, 'moodi': 3338, 'decor': 3339, 'edi': 3340, 'await': 3341, 'lawrenc': 3342, 'madonna': 3343, 'suspici': 3344, 'jew': 3345, 'synopsi': 3346, 'reserv': 3347, 'fanat': 3348, 'voight': 3349, 'befriend': 3350, 'atlanti': 3351, 'tip': 3352, 'lemmon': 3353, 'bust': 3354, 'leonard': 3355, '2007': 3356, 'clumsi': 3357, 'audit': 3358, 'garner': 3359, 'incident': 3360, 'carl': 3361, 'clint': 3362, 'bold': 3363, 'bradi': 3364, 'centr': 3365, 'bargain': 3366, 'holli': 3367, 'ventur': 3368, 'dimens': 3369, 'chao': 3370, 'abysm': 3371, 'voyag': 3372, 'unsettl': 3373, 'rural': 3374, 'palma': 3375, 'lit': 3376, 'echo': 3377, 'hart': 3378, 'trail': 3379, 'nearbi': 3380, 'ant': 3381, 'wealth': 3382, 'humili': 3383, 'cari': 3384, 'poetic': 3385, '2nd': 3386, 'acknowledg': 3387, 'daddi': 3388, 'troop': 3389, 'cuba': 3390, 'characterist': 3391, 'immigr': 3392, 'tiger': 3393, 'mall': 3394, 'cd': 3395, 'elimin': 3396, 'neglect': 3397, 'timon': 3398, 'imperson': 3399, 'versu': 3400, 'mickey': 3401, 'solo': 3402, 'saga': 3403, 'celluloid': 3404, 'paus': 3405, 'jeffrey': 3406, 'homer': 3407, 'domest': 3408, 'repuls': 3409, 'prejudic': 3410, 'pun': 3411, 'marshal': 3412, 'infect': 3413, 'mistaken': 3414, 'collaps': 3415, 'chest': 3416, 'olivi': 3417, 'promin': 3418, 'sore': 3419, 'leon': 3420, 'milk': 3421, 'gear': 3422, 'cake': 3423, '1996': 3424, 'inappropri': 3425, 'assembl': 3426, 'undoubtedli': 3427, 'pant': 3428, 'inan': 3429, 'hbo': 3430, 'interrupt': 3431, 'apolog': 3432, 'coffe': 3433, 'coat': 3434, 'tribe': 3435, 'equip': 3436, 'harvey': 3437, 'ginger': 3438, 'colleagu': 3439, 'solut': 3440, 'exot': 3441, 'retain': 3442, 'highest': 3443, 'vulgar': 3444, 'pot': 3445, 'pen': 3446, 'furthermor': 3447, 'consum': 3448, 'devast': 3449, 'instant': 3450, 'primari': 3451, 'institut': 3452, 'florida': 3453, 'aveng': 3454, 'jenni': 3455, 'embrac': 3456, 'colonel': 3457, 'humbl': 3458, 'airplan': 3459, 'trace': 3460, 'maggi': 3461, 'brooklyn': 3462, 'polanski': 3463, 'wive': 3464, 'strain': 3465, 'cope': 3466, 'principl': 3467, 'descend': 3468, 'dutch': 3469, '1999': 3470, 'seduct': 3471, 'ya': 3472, 'outer': 3473, 'sale': 3474, '3rd': 3475, 'illog': 3476, 'dian': 3477, 'bowl': 3478, 'linda': 3479, 'gender': 3480, 'poke': 3481, 'godzilla': 3482, 'rick': 3483, 'disabl': 3484, 'smaller': 3485, 'dive': 3486, 'bubbl': 3487, 'secondli': 3488, 'primarili': 3489, 'lol': 3490, 'devoid': 3491, 'dud': 3492, 'gloriou': 3493, 'beneath': 3494, 'predecessor': 3495, 'cue': 3496, 'vast': 3497, 'inferior': 3498, 'mixtur': 3499, 'blatant': 3500, 'glamor': 3501, 'scope': 3502, 'rabbit': 3503, 'yard': 3504, 'hal': 3505, 'gundam': 3506, 'z': 3507, 'aggress': 3508, 'shelf': 3509, 'pearl': 3510, 'alert': 3511, 'museum': 3512, 'shirley': 3513, 'alfr': 3514, 'grinch': 3515, 'garbo': 3516, 'trademark': 3517, 'myer': 3518, 'senseless': 3519, 'simplist': 3520, 'invas': 3521, 'arab': 3522, 'disjoint': 3523, 'breed': 3524, 'domino': 3525, 'casual': 3526, 'streep': 3527, 'et': 3528, 'hideou': 3529, 'countrysid': 3530, 'talki': 3531, 'april': 3532, 'mayor': 3533, 'stir': 3534, 'sh': 3535, 'stellar': 3536, 'stack': 3537, 'vanish': 3538, 'maci': 3539, 'boom': 3540, 'applaud': 3541, 'illeg': 3542, 'oz': 3543, 'mail': 3544, 'unhappi': 3545, 'hardcor': 3546, 'uwe': 3547, 'khan': 3548, 'hopeless': 3549, 'acid': 3550, 'disgrac': 3551, 'defens': 3552, 'experiment': 3553, 'robberi': 3554, 'robinson': 3555, 'rendit': 3556, 'slide': 3557, 'loyal': 3558, 'obtain': 3559, 'topless': 3560, 'recruit': 3561, 'incomprehens': 3562, 'spider': 3563, 'tempt': 3564, 'diana': 3565, 'soccer': 3566, 'rifl': 3567, 'span': 3568, 'amanda': 3569, 'berlin': 3570, 'grandfath': 3571, 'tenant': 3572, 'counter': 3573, 'declin': 3574, 'fri': 3575, 'blew': 3576, 'emphasi': 3577, 'wont': 3578, 'craze': 3579, 'hartley': 3580, 'psychic': 3581, 'scroog': 3582, 'dicken': 3583, 'dismiss': 3584, 'ration': 3585, 'shed': 3586, 'faster': 3587, 'bitch': 3588, 'revolt': 3589, 'resurrect': 3590, 'sympath': 3591, 'intim': 3592, 'parad': 3593, 'wet': 3594, 'niro': 3595, 'goer': 3596, 'porno': 3597, 'trashi': 3598, 'woo': 3599, 'ethnic': 3600, 'justin': 3601, 'shaw': 3602, 'lumet': 3603, 'riot': 3604, 'sibl': 3605, 'weakest': 3606, 'ballet': 3607, 'wheel': 3608, 'dealer': 3609, 'biographi': 3610, 'honesti': 3611, 'region': 3612, 'partial': 3613, 'steam': 3614, 'gap': 3615, 'slick': 3616, 'hesit': 3617, 'jonathan': 3618, 'rider': 3619, 'feminist': 3620, 'farmer': 3621, 'choru': 3622, 'enlighten': 3623, 'patriot': 3624, 'mario': 3625, 'nephew': 3626, 'andr': 3627, 'immort': 3628, 'eager': 3629, 'hopper': 3630, '00': 3631, 'lena': 3632, 'commend': 3633, 'ensur': 3634, 'worm': 3635, 'wendi': 3636, 'unreal': 3637, 'kingdom': 3638, 'victori': 3639, 'repress': 3640, 'owen': 3641, 'util': 3642, 'charlott': 3643, 'snap': 3644, 'nostalg': 3645, 'safeti': 3646, 'wore': 3647, 'similarli': 3648, 'morri': 3649, 'composit': 3650, 'vice': 3651, 'properti': 3652, 'mutant': 3653, 'psychopath': 3654, 'hung': 3655, 'confin': 3656, 'franco': 3657, 'prequel': 3658, 'blunt': 3659, 'sappi': 3660, 'leo': 3661, 'sandra': 3662, 'skull': 3663, 'macarthur': 3664, 'compens': 3665, 'pattern': 3666, '1972': 3667, 'deed': 3668, 'cg': 3669, 'speci': 3670, 'whoopi': 3671, 'rocki': 3672, 'emperor': 3673, 'despair': 3674, 'latin': 3675, 'thru': 3676, 'campbel': 3677, 'del': 3678, 'strand': 3679, 'miseri': 3680, 'tad': 3681, 'snl': 3682, 'rambl': 3683, 'compass': 3684, 'repli': 3685, 'dust': 3686, 'montana': 3687, 'exit': 3688, 'bow': 3689, 'valuabl': 3690, 'rope': 3691, 'recycl': 3692, 'bonu': 3693, 'drum': 3694, 'drain': 3695, 'nervou': 3696, 'bergman': 3697, 'tail': 3698, 'bumbl': 3699, 'acquir': 3700, 'hyde': 3701, 'kyle': 3702, 'farrel': 3703, 'heartbreak': 3704, 'dalton': 3705, 'percept': 3706, 'oppress': 3707, 'downhil': 3708, 'rapist': 3709, 'wacki': 3710, 'roth': 3711, 'carradin': 3712, 'slug': 3713, 'martian': 3714, 'rotten': 3715, 'contempl': 3716, 'radic': 3717, 'gal': 3718, 'bleed': 3719, 'tonight': 3720, '35': 3721, 'airport': 3722, 'da': 3723, 'gimmick': 3724, 'olli': 3725, 'mistress': 3726, 'pour': 3727, 'romp': 3728, 'chess': 3729, 'orson': 3730, 'banal': 3731, 'attorney': 3732, 'belt': 3733, 'champion': 3734, 'tackl': 3735, 'shelley': 3736, 'stilt': 3737, 'unpredict': 3738, 'melodi': 3739, '1983': 3740, 'pursuit': 3741, 'mislead': 3742, 'slash': 3743, 'preach': 3744, 'arc': 3745, 'dazzl': 3746, 'paltrow': 3747, 'pervert': 3748, 'pervers': 3749, 'programm': 3750, 'taught': 3751, 'heal': 3752, 'arguabl': 3753, 'tooth': 3754, 'edgar': 3755, 'rubi': 3756, 'graham': 3757, 'orang': 3758, 'gambl': 3759, 'plight': 3760, 'uplift': 3761, 'maid': 3762, 'virginia': 3763, 'tiresom': 3764, 'mesmer': 3765, 'marti': 3766, 'vengeanc': 3767, 'sensat': 3768, 'duval': 3769, 'raymond': 3770, 'employe': 3771, 'bela': 3772, 'closest': 3773, 'franki': 3774, 'cleverli': 3775, 'passeng': 3776, 'poem': 3777, 'conneri': 3778, 'vocal': 3779, 'dixon': 3780, 'chicken': 3781, 'giggl': 3782, 'numb': 3783, 'bay': 3784, 'paranoia': 3785, 'secretli': 3786, 'tube': 3787, 'crystal': 3788, 'gerard': 3789, 'extens': 3790, 'pokemon': 3791, 'outing': 3792, 'calm': 3793, 'swallow': 3794, 'profan': 3795, 'quarter': 3796, 'climact': 3797, 'mute': 3798, 'engross': 3799, 'monologu': 3800, 'amitabh': 3801, 'clone': 3802, 'inject': 3803, 'iran': 3804, '1968': 3805, 'habit': 3806, 'scottish': 3807, 'abraham': 3808, 'suffic': 3809, 'volum': 3810, 'whine': 3811, 'lundgren': 3812, 'yawn': 3813, 'convincingli': 3814, 'sirk': 3815, 'frankenstein': 3816, 'earl': 3817, 'trend': 3818, 'plod': 3819, 'poetri': 3820, 'abort': 3821, 'im': 3822, 'taxi': 3823, 'chicago': 3824, 'nichola': 3825, 'ethan': 3826, 'profess': 3827, 'underst': 3828, 'meander': 3829, 'dispos': 3830, 'linger': 3831, 'richardson': 3832, 'bend': 3833, 'expand': 3834, 'fed': 3835, 'austen': 3836, 'junior': 3837, 'spock': 3838, 'grotesqu': 3839, 'surpass': 3840, 'septemb': 3841, 'franci': 3842, 'backward': 3843, 'lowest': 3844, 'instrument': 3845, 'waitress': 3846, 'rubber': 3847, 'dysfunct': 3848, 'compliment': 3849, 'eugen': 3850, 'lure': 3851, 'rant': 3852, 'cannon': 3853, 'simplic': 3854, 'myth': 3855, 'stallon': 3856, 'literatur': 3857, 'mundan': 3858, 'spoke': 3859, 'nostalgia': 3860, 'der': 3861, 'hum': 3862, 'econom': 3863, 'greedi': 3864, 'catchi': 3865, 'sue': 3866, 'tourist': 3867, 'household': 3868, 'muddl': 3869, 'descent': 3870, 'furi': 3871, 'crucial': 3872, 'occupi': 3873, 'duck': 3874, 'alongsid': 3875, 'stale': 3876, 'flee': 3877, 'irrelev': 3878, 'lang': 3879, 'damon': 3880, 'dement': 3881, 'molli': 3882, 'omen': 3883, 'mankind': 3884, 'recognis': 3885, 'insur': 3886, 'phantom': 3887, 'cent': 3888, 'phoni': 3889, 'map': 3890, 'june': 3891, 'coast': 3892, 'recognit': 3893, 'mortal': 3894, 'dictat': 3895, 'sissi': 3896, 'randi': 3897, 'equival': 3898, 'eaten': 3899, 'louis': 3900, 'bacal': 3901, 'firstli': 3902, 'carel': 3903, 'hello': 3904, 'deaf': 3905, 'freez': 3906, 'heel': 3907, 'daisi': 3908, 'onlin': 3909, '1973': 3910, 'bump': 3911, 'labor': 3912, 'loyalti': 3913, 'distinguish': 3914, 'dreari': 3915, 'twilight': 3916, 'newli': 3917, 'ashley': 3918, 'drake': 3919, 'grayson': 3920, 'lengthi': 3921, 'reign': 3922, 'bike': 3923, 'wisdom': 3924, 'buffalo': 3925, 'damm': 3926, 'biko': 3927, 'rooney': 3928, 'likewis': 3929, 'cyborg': 3930, 'rude': 3931, 'blackmail': 3932, 'antwon': 3933, 'baddi': 3934, 'vein': 3935, 'approv': 3936, 'attribut': 3937, 'prey': 3938, 'ridden': 3939, 'chronicl': 3940, 'butler': 3941, 'startl': 3942, 'worn': 3943, 'provoc': 3944, 'pink': 3945, 'sailor': 3946, 'interior': 3947, 'analysi': 3948, 'unorigin': 3949, 'keith': 3950, 'basketbal': 3951, 'emphas': 3952, 'exposur': 3953, 'incorpor': 3954, 'inher': 3955, 'proce': 3956, 'boxer': 3957, 'tunnel': 3958, 'nineti': 3959, 'barrymor': 3960, 'barrel': 3961, 'drift': 3962, 'condemn': 3963, 'othello': 3964, 'hypnot': 3965, 'underli': 3966, 'indiffer': 3967, 'unrel': 3968, 'predat': 3969, 'undeni': 3970, 'degrad': 3971, 'er': 3972, 'meyer': 3973, 'mighti': 3974, 'fleet': 3975, 'substitut': 3976, 'walsh': 3977, 'improvis': 3978, 'nicol': 3979, 'millionair': 3980, 'mormon': 3981, 'julian': 3982, 'stalker': 3983, 'meg': 3984, 'simmon': 3985, 'elm': 3986, 'bunni': 3987, 'robbin': 3988, 'belushi': 3989, 'carla': 3990, 'lampoon': 3991, 'vital': 3992, 'alison': 3993, 'errol': 3994, 'warmth': 3995, 'edgi': 3996, 'unawar': 3997, 'reid': 3998, 'shove': 3999, 'roof': 4000, 'enthusiasm': 4001, 'disord': 4002, 'palac': 4003, 'priceless': 4004, 'marion': 4005, 'greed': 4006, 'hay': 4007, 'rukh': 4008, 'alarm': 4009, 'nyc': 4010, 'novak': 4011, '3d': 4012, 'agenda': 4013, 'firm': 4014, 'watson': 4015, 'mtv': 4016, 'exquisit': 4017, 'dolph': 4018, 'campaign': 4019, 'session': 4020, 'drip': 4021, 'spain': 4022, 'distort': 4023, 'petti': 4024, 'championship': 4025, 'glanc': 4026, 'testament': 4027, 'unleash': 4028, 'beatl': 4029, 'ponder': 4030, '13th': 4031, 'showdown': 4032, 'peril': 4033, 'angela': 4034, 'nun': 4035, 'what': 4036, 'minimum': 4037, 'gestur': 4038, 'iraq': 4039, 'randomli': 4040, 'orlean': 4041, 'crown': 4042, 'zizek': 4043, '1933': 4044, 'preserv': 4045, 'eastern': 4046, 'sergeant': 4047, 'pamela': 4048, 'simultan': 4049, 'peck': 4050, 'profit': 4051, 'thompson': 4052, 'israel': 4053, 'coup': 4054, 'cassidi': 4055, 'valentin': 4056, 'sabrina': 4057, 'calib': 4058, 'contradict': 4059, 'unimagin': 4060, 'quinn': 4061, 'realm': 4062, 'stroke': 4063, 'empathi': 4064, 'jan': 4065, 'stake': 4066, 'crawl': 4067, 'represent': 4068, '1984': 4069, 'exposit': 4070, 'shootout': 4071, 'cream': 4072, 'regist': 4073, 'rout': 4074, 'scotland': 4075, 'restrain': 4076, 'cooki': 4077, 'han': 4078, 'brenda': 4079, 'valley': 4080, 'wig': 4081, 'bro': 4082, 'buster': 4083, 'climat': 4084, 'travesti': 4085, 'perpetu': 4086, 'reson': 4087, 'gentleman': 4088, 'crow': 4089, 'kurosawa': 4090, 'mon': 4091, 'fido': 4092, 'miyazaki': 4093, 'din': 4094, 'passabl': 4095, 'baldwin': 4096, 'spacey': 4097, 'warrant': 4098, 'tacki': 4099, 'delic': 4100, 'distress': 4101, 'sucker': 4102, '1997': 4103, 'derang': 4104, 'darren': 4105, 'dana': 4106, 'abomin': 4107, 'sammi': 4108, 'unsatisfi': 4109, 'traumat': 4110, 'monoton': 4111, 'shaki': 4112, 'businessman': 4113, 'stargat': 4114, 'pole': 4115, 'compromis': 4116, 'unseen': 4117, 'wax': 4118, 'absent': 4119, 'ross': 4120, 'pretens': 4121, 'geek': 4122, 'meryl': 4123, 'painter': 4124, '1987': 4125, 'fuller': 4126, 'crawford': 4127, 'mclaglen': 4128, 'greg': 4129, 'shoddi': 4130, 'perceiv': 4131, 'josh': 4132, 'demis': 4133, 'femm': 4134, 'soderbergh': 4135, 'censor': 4136, 'cloud': 4137, 'ustinov': 4138, 'unravel': 4139, 'austin': 4140, 'tech': 4141, 'accuraci': 4142, 'furiou': 4143, 'uncov': 4144, 'polici': 4145, 'deniro': 4146, 'fenc': 4147, 'valid': 4148, 'fog': 4149, 'jewel': 4150, 'anchor': 4151, 'reluct': 4152, 'wholli': 4153, 'norm': 4154, 'tarantino': 4155, 'expedit': 4156, 'primit': 4157, 'clash': 4158, 'deceas': 4159, 'click': 4160, 'kumar': 4161, 'sid': 4162, 'judgment': 4163, 'exclus': 4164, '1993': 4165, 'seal': 4166, 'nathan': 4167, 'antonioni': 4168, 'dee': 4169, 'verbal': 4170, 'correctli': 4171, 'shanghai': 4172, '3000': 4173, 'seldom': 4174, 'alec': 4175, 'temper': 4176, 'roller': 4177, 'enforc': 4178, 'vanc': 4179, 'crippl': 4180, 'hallucin': 4181, '2008': 4182, 'sunni': 4183, 'behold': 4184, 'dreck': 4185, 'sustain': 4186, 'trait': 4187, 'tax': 4188, 'patienc': 4189, 'joel': 4190, 'clerk': 4191, 'sheet': 4192, 'logan': 4193, 'murray': 4194, 'sand': 4195, '1971': 4196, 'darn': 4197, 'debt': 4198, 'nicola': 4199, 'slam': 4200, '1995': 4201, 'fart': 4202, 'fought': 4203, 'pocket': 4204, 'unfair': 4205, 'wretch': 4206, 'mode': 4207, 'conduct': 4208, 'malon': 4209, 'fabric': 4210, 'bake': 4211, 'ritual': 4212, 'wang': 4213, 'despis': 4214, 'bridget': 4215, 'guitar': 4216, 'schedul': 4217, 'preposter': 4218, 'bias': 4219, 'tactic': 4220, 'divid': 4221, 'runner': 4222, 'outlin': 4223, 'legaci': 4224, 'robber': 4225, 'technicolor': 4226, 'stark': 4227, 'conscious': 4228, 'fundament': 4229, 'phil': 4230, 'scriptwrit': 4231, 'penni': 4232, 'soup': 4233, 'clau': 4234, 'helpless': 4235, 'squad': 4236, 'canyon': 4237, 'sweep': 4238, 'stuart': 4239, 'shell': 4240, 'rita': 4241, 'pete': 4242, 'exhaust': 4243, 'grief': 4244, 'preston': 4245, 'critiqu': 4246, 'isabel': 4247, 'alicia': 4248, 'delv': 4249, 'unexpectedli': 4250, 'rear': 4251, 'marc': 4252, 'downey': 4253, 'invad': 4254, 'inabl': 4255, 'drove': 4256, 'rehash': 4257, 'culmin': 4258, 'restrict': 4259, 'jacket': 4260, 'agenc': 4261, 'bloom': 4262, 'flair': 4263, 'implic': 4264, 'consciou': 4265, 'sugar': 4266, 'vomit': 4267, 'russia': 4268, 'propos': 4269, 'boyl': 4270, 'liberti': 4271, 'cigarett': 4272, 'lacklust': 4273, 'passag': 4274, 'alley': 4275, 'newman': 4276, 'jodi': 4277, 'connor': 4278, 'kansa': 4279, 'sentinel': 4280, 'palanc': 4281, 'gregori': 4282, 'sniper': 4283, 'yeti': 4284, 'chainsaw': 4285, 'improb': 4286, 'aesthet': 4287, 'bacon': 4288, 'cap': 4289, 'arrow': 4290, 'lush': 4291, 'tripe': 4292, '22': 4293, 'feat': 4294, 'ladder': 4295, 'tendenc': 4296, 'rampag': 4297, 'delet': 4298, 'awhil': 4299, 'asylum': 4300, '1936': 4301, 'karl': 4302, 'rod': 4303, 'foxx': 4304, 'kolchak': 4305, 'behaviour': 4306, 'mccoy': 4307, 'sharon': 4308, 'vet': 4309, 'rehears': 4310, 'horn': 4311, 'pale': 4312, 'wrench': 4313, 'stream': 4314, 'basing': 4315, 'globe': 4316, 'thunderbird': 4317, 'minu': 4318, 'suspicion': 4319, 'weav': 4320, 'el': 4321, 'hungri': 4322, 'visitor': 4323, 'lurk': 4324, 'prank': 4325, 'shortcom': 4326, 'aristocrat': 4327, 'paradis': 4328, 'wildli': 4329, 'tasteless': 4330, 'financ': 4331, '1978': 4332, 'hackney': 4333, 'paramount': 4334, 'newcom': 4335, 'elit': 4336, '19th': 4337, 'underneath': 4338, 'rhythm': 4339, 'rumor': 4340, 'sung': 4341, 'loneli': 4342, 'conscienc': 4343, 'tomorrow': 4344, 'coaster': 4345, 'scoop': 4346, '1920': 4347, 'amazon': 4348, 'spice': 4349, '1988': 4350, 'hulk': 4351, 'suffici': 4352, 'fright': 4353, 'wagner': 4354, 'filler': 4355, 'worship': 4356, 'straightforward': 4357, 'wwe': 4358, 'entranc': 4359, 'beverli': 4360, 'cancer': 4361, 'quietli': 4362, 'minist': 4363, 'atroc': 4364, 'curli': 4365, 'ram': 4366, 'impos': 4367, 'standout': 4368, 'choppi': 4369, 'couch': 4370, 'hopkin': 4371, 'secondari': 4372, 'grudg': 4373, 'abrupt': 4374, 'rub': 4375, 'recogniz': 4376, 'bread': 4377, 'leigh': 4378, 'lectur': 4379, 'brit': 4380, 'en': 4381, 'tierney': 4382, 'immers': 4383, 'literari': 4384, '75': 4385, '1989': 4386, 'teas': 4387, 'counterpart': 4388, 'paxton': 4389, 'iv': 4390, 'heist': 4391, 'penn': 4392, 'ingeni': 4393, 'posey': 4394, '1939': 4395, 'naughti': 4396, 'chamberlain': 4397, 'dirt': 4398, 'smell': 4399, 'chavez': 4400, 'springer': 4401, 'inmat': 4402, 'enthral': 4403, 'laurenc': 4404, 'moreov': 4405, 'injuri': 4406, 'variat': 4407, 'cattl': 4408, 'nemesi': 4409, 'duel': 4410, 'policeman': 4411, 'lindsay': 4412, 'ace': 4413, '1986': 4414, 'convert': 4415, 'misguid': 4416, 'ratso': 4417, 'transcend': 4418, 'yearn': 4419, 'geni': 4420, 'entitl': 4421, 'skeptic': 4422, 'heartfelt': 4423, 'sublim': 4424, 'net': 4425, 'missil': 4426, 'sassi': 4427, 'quaid': 4428, 'clan': 4429, 'bernard': 4430, 'attenborough': 4431, 'watcher': 4432, 'morbid': 4433, 'nolan': 4434, 'esther': 4435, 'hopelessli': 4436, 'uncut': 4437, 'enabl': 4438, 'buzz': 4439, 'puppi': 4440, 'youngest': 4441, 'dont': 4442, 'egg': 4443, 'steadi': 4444, 'characteris': 4445, 'mytholog': 4446, 'setup': 4447, 'out': 4448, 'moder': 4449, 'hk': 4450, 'spiral': 4451, 'poe': 4452, 'graini': 4453, 'grin': 4454, 'obstacl': 4455, 'diari': 4456, 'facil': 4457, '1979': 4458, 'cruelti': 4459, 'reliabl': 4460, 'rosemari': 4461, 'carlito': 4462, 'kitti': 4463, 'bye': 4464, 'kidman': 4465, 'bean': 4466, 'tyler': 4467, 'artsi': 4468, 'brood': 4469, 'unexplain': 4470, 'vader': 4471, 'acquaint': 4472, 'hammi': 4473, 'patricia': 4474, 'despic': 4475, 'niec': 4476, 'oblig': 4477, '1969': 4478, 'underworld': 4479, 'brendan': 4480, 'spontan': 4481, 'athlet': 4482, 'decept': 4483, 'weather': 4484, 'heap': 4485, 'bounc': 4486, 'baffl': 4487, 'preming': 4488, 'gillian': 4489, 'bewar': 4490, 'exterior': 4491, 'hain': 4492, 'narrow': 4493, 'effici': 4494, 'martha': 4495, 'kline': 4496, 'fuel': 4497, 'bronson': 4498, 'sweat': 4499, 'clueless': 4500, 'gina': 4501, 'disastr': 4502, 'christin': 4503, 'dandi': 4504, 'viewpoint': 4505, 'headach': 4506, 'tick': 4507, 'hepburn': 4508, 'angst': 4509, 'enlist': 4510, 'outlaw': 4511, 'candl': 4512, 'astound': 4513, 'sleepwalk': 4514, 'mayhem': 4515, 'injur': 4516, 'loath': 4517, 'shatter': 4518, 'trigger': 4519, 'virtu': 4520, 'loi': 4521, '19': 4522, 'analyz': 4523, 'uh': 4524, 'biker': 4525, 'circu': 4526, 'goof': 4527, 'taboo': 4528, 'mermaid': 4529, '73': 4530, 'preachi': 4531, 'harmless': 4532, 'scar': 4533, 'dilemma': 4534, 'sooner': 4535, 'renaiss': 4536, 'suprem': 4537, 'rome': 4538, 'insipid': 4539, 'lester': 4540, 'fontain': 4541, 'housewif': 4542, 'gere': 4543, 'hostag': 4544, 'zoom': 4545, 'dish': 4546, 'tripl': 4547, 'oldest': 4548, 'bent': 4549, 'camcord': 4550, 'whore': 4551, 'amor': 4552, 'claustrophob': 4553, 'steer': 4554, 'foolish': 4555, 'redund': 4556, 'glorifi': 4557, 'filth': 4558, 'salt': 4559, 'fluff': 4560, 'immatur': 4561, 'boston': 4562, 'sox': 4563, 'hooker': 4564, 'intric': 4565, 'contempt': 4566, 'phenomenon': 4567, 'hokey': 4568, 'scorses': 4569, 'overlong': 4570, 'macho': 4571, 'surgeri': 4572, 'stair': 4573, 'guin': 4574, 'spade': 4575, 'slimi': 4576, 'ariel': 4577, 'idol': 4578, 'cassavet': 4579, 'stimul': 4580, 'dismal': 4581, 'ebert': 4582, 'corbett': 4583, 'naschi': 4584, 'messi': 4585, 'preced': 4586, 'astronaut': 4587, 'radiat': 4588, 'shield': 4589, 'proport': 4590, 'faint': 4591, '1976': 4592, 'widescreen': 4593, 'flashi': 4594, 'margin': 4595, 'joker': 4596, 'keen': 4597, 'cush': 4598, 'trivia': 4599, 'schlock': 4600, 'nolt': 4601, 'dwarf': 4602, 'gasp': 4603, 'transplant': 4604, 'mutual': 4605, 'down': 4606, 'flag': 4607, 'rhyme': 4608, 'harold': 4609, 'assert': 4610, 'beard': 4611, 'shred': 4612, 'gabl': 4613, 'obligatori': 4614, 'mount': 4615, 'cohen': 4616, 'perman': 4617, 'flirt': 4618, 'strongest': 4619, 'remad': 4620, 'cow': 4621, 'conquer': 4622, 'muscl': 4623, '1981': 4624, 'spinal': 4625, 'corman': 4626, 'fascist': 4627, 'antagonist': 4628, 'spree': 4629, 'frantic': 4630, 'zane': 4631, 'alvin': 4632, 'bachelor': 4633, 'ritchi': 4634, 'departur': 4635, 'interestingli': 4636, 'triangl': 4637, 'neurot': 4638, 'flock': 4639, 'claud': 4640, 'bitten': 4641, 'off': 4642, 'someday': 4643, 'danish': 4644, 'divin': 4645, 'archiv': 4646, 'vaniti': 4647, 'deer': 4648, 'mol': 4649, 'scandal': 4650, '95': 4651, 'inflict': 4652, 'discern': 4653, 'wield': 4654, 'resum': 4655, 'mobil': 4656, 'info': 4657, 'barn': 4658, 'strive': 4659, 'raj': 4660, 'brush': 4661, '28': 4662, 'fishburn': 4663, '1945': 4664, 'www': 4665, 'hara': 4666, 'repris': 4667, 'persuad': 4668, 'carey': 4669, 'instruct': 4670, 'sensual': 4671, 'boob': 4672, 'aborigin': 4673, 'hilar': 4674, 'cycl': 4675, 'casino': 4676, 'cb': 4677, 'proclaim': 4678, 'axe': 4679, 'hug': 4680, 'neill': 4681, 'undermin': 4682, 'bate': 4683, 'submit': 4684, 'heartwarm': 4685, 'dim': 4686, 'melissa': 4687, 'frontier': 4688, 'cliffhang': 4689, 'artwork': 4690, 'traffic': 4691, 'recit': 4692, 'mobster': 4693, 'rot': 4694, 'pacif': 4695, 'dame': 4696, 'fragil': 4697, 'senior': 4698, 'pickford': 4699, 'clad': 4700, 'vibrant': 4701, 'parson': 4702, 'kathryn': 4703, 'cher': 4704, 'loretta': 4705, 'banter': 4706, 'europa': 4707, 'carlo': 4708, 'prophet': 4709, 'wendigo': 4710, 'earnest': 4711, 'pixar': 4712, 'timberlak': 4713, 'dylan': 4714, 'jade': 4715, 'hapless': 4716, 'harrison': 4717, 'colin': 4718, 'helm': 4719, 'miracul': 4720, 'luka': 4721, 'biblic': 4722, 'ish': 4723, 'anton': 4724, 'choke': 4725, 'vile': 4726, 'mason': 4727, 'articl': 4728, 'orphan': 4729, 'razor': 4730, 'wardrob': 4731, 'electron': 4732, 'breakfast': 4733, 'flavor': 4734, 'pc': 4735, 'winchest': 4736, 'antholog': 4737, 'bikini': 4738, 'foil': 4739, 'feast': 4740, 'toronto': 4741, 'lui': 4742, 'shepherd': 4743, 'seedi': 4744, 'illus': 4745, 'nope': 4746, 'http': 4747, 'token': 4748, 'redneck': 4749, 'estrang': 4750, 'vanessa': 4751, 'milo': 4752, 'bondag': 4753, 'aris': 4754, 'lucil': 4755, 'jo': 4756, 'alexandr': 4757, 'sicken': 4758, 'legitim': 4759, 'akin': 4760, 'misfortun': 4761, 'cerebr': 4762, 'marlon': 4763, 'blatantli': 4764, 'northern': 4765, 'eli': 4766, 'jordan': 4767, 'venom': 4768, 'trier': 4769, 'static': 4770, 'isra': 4771, 'rooki': 4772, 'uma': 4773, 'holocaust': 4774, 'mathieu': 4775, 'oppon': 4776, 'deem': 4777, 'audrey': 4778, 'nightclub': 4779, 'boyer': 4780, 'charlton': 4781, 'styliz': 4782, 'linear': 4783, 'highway': 4784, 'fifth': 4785, 'retriev': 4786, 'disregard': 4787, 'psych': 4788, 'ceremoni': 4789, 'dudley': 4790, 'turd': 4791, 'shorter': 4792, 'frog': 4793, 'comprehend': 4794, 'abund': 4795, 'knightley': 4796, 'gilbert': 4797, 'magician': 4798, 'smack': 4799, 'howl': 4800, 'swept': 4801, 'leather': 4802, 'glare': 4803, 'outdat': 4804, 'clinic': 4805, 'feminin': 4806, 'affleck': 4807, 'ideolog': 4808, 'peer': 4809, 'tack': 4810, 'huston': 4811, 'cartoonish': 4812, 'gunga': 4813, 'wrestler': 4814, 'snatch': 4815, 'deliver': 4816, 'corn': 4817, 'phenomen': 4818, 'energet': 4819, 'spine': 4820, 'plate': 4821, 'btw': 4822, 'uniformli': 4823, 'salman': 4824, '4th': 4825, 'potter': 4826, 'lifeless': 4827, 'durat': 4828, 'boo': 4829, 'compris': 4830, 'lighter': 4831, 'client': 4832, 'cuban': 4833, 'summar': 4834, 'tara': 4835, 'collector': 4836, 'conrad': 4837, 'lavish': 4838, 'newer': 4839, 'whack': 4840, 'toe': 4841, 'greet': 4842, 'cemeteri': 4843, 'einstein': 4844, 'chip': 4845, 'senat': 4846, 'breakdown': 4847, 'monument': 4848, 'spawn': 4849, 'evolut': 4850, 'moe': 4851, 'mitch': 4852, 'bastard': 4853, 'bogu': 4854, '1991': 4855, 'sleaz': 4856, 'braveheart': 4857, '1994': 4858, 'goldsworthi': 4859, 'clara': 4860, 'liu': 4861, 'mcqueen': 4862, 'firmli': 4863, 'undertak': 4864, 'appl': 4865, 'outright': 4866, 'belli': 4867, 'undead': 4868, 'inaccuraci': 4869, 'wtf': 4870, 'spectacl': 4871, 'bori': 4872, 'judd': 4873, 'lex': 4874, 'constitut': 4875, '1974': 4876, 'pronounc': 4877, 'luxuri': 4878, 'healthi': 4879, '1977': 4880, 'armstrong': 4881, 'randolph': 4882, 'trauma': 4883, 'jule': 4884, 'nina': 4885, 'jam': 4886, 'neatli': 4887, 'historian': 4888, 'ol': 4889, 'alleg': 4890, 'signal': 4891, 'occup': 4892, 'ie': 4893, 'bulk': 4894, 'sorrow': 4895, 'fluid': 4896, 'cecil': 4897, 'kent': 4898, 'creek': 4899, 'capot': 4900, 'jare': 4901, 'replay': 4902, 'eleven': 4903, 'evelyn': 4904, 'jedi': 4905, 'gilliam': 4906, 'embark': 4907, 'kazan': 4908, 'porter': 4909, 'inaccur': 4910, 'blur': 4911, 'lanc': 4912, 'goldblum': 4913, 'poker': 4914, 'fruit': 4915, 'sidewalk': 4916, 'abound': 4917, 'meal': 4918, 'conan': 4919, 'mum': 4920, 'roar': 4921, 'curtain': 4922, 'palm': 4923, 'unattract': 4924, 'forgiven': 4925, 'paula': 4926, 'ash': 4927, 'kiddi': 4928, 'congratul': 4929, 'sacrif': 4930, 'groan': 4931, 'walt': 4932, 'galaxi': 4933, 'miami': 4934, 'antonio': 4935, 'relentless': 4936, 'unsuspect': 4937, 'propheci': 4938, 'pepper': 4939, 'aussi': 4940, 'basket': 4941, 'subtli': 4942, 'carmen': 4943, 'inclus': 4944, '1985': 4945, 'comb': 4946, 'knee': 4947, 'spray': 4948, 'id': 4949, 'truman': 4950, 'pioneer': 4951, 'lauren': 4952, 'vain': 4953, 'rosario': 4954, 'genet': 4955, 'cape': 4956, 'bait': 4957, 'miniseri': 4958, 'bsg': 4959, 'tokyo': 4960, 'comprehens': 4961, 'vignett': 4962, 'decapit': 4963, 'weaker': 4964, 'verg': 4965, 'weari': 4966, 'bach': 4967, 'asset': 4968, 'spill': 4969, 'hackman': 4970, 'drone': 4971, 'monti': 4972, 'rapidli': 4973, 'dubiou': 4974, 'scariest': 4975, 'cypher': 4976, 'omin': 4977, 'ingrid': 4978, 'detach': 4979, 'profil': 4980, 'bravo': 4981, 'sophi': 4982, 'scarfac': 4983, 'incorrect': 4984, 'orchestr': 4985, 'reincarn': 4986, 'optimist': 4987, 'jill': 4988, 'macabr': 4989, 'motorcycl': 4990, 'frontal': 4991, 'sparkl': 4992, 'turtl': 4993, 'substanti': 4994, 'victorian': 4995, 'hostil': 4996, 'assort': 4997, 'modest': 4998, '21st': 4999}\n"
     ]
    }
   ],
   "source": [
    "# TODO: Use this space to determine the five most frequently appearing words in the training set.\n",
    "print(word_dict)"
   ]
  },
  {
   "cell_type": "markdown",
   "metadata": {},
   "source": [
    "### Save `word_dict`\n",
    "\n",
    "Later on when we construct an endpoint which processes a submitted review we will need to make use of the `word_dict` which we have created. As such, we will save it to a file now for future use."
   ]
  },
  {
   "cell_type": "code",
   "execution_count": 13,
   "metadata": {},
   "outputs": [],
   "source": [
    "data_dir = '../data/pytorch' # The folder we will use for storing data\n",
    "if not os.path.exists(data_dir): # Make sure that the folder exists\n",
    "    os.makedirs(data_dir)"
   ]
  },
  {
   "cell_type": "code",
   "execution_count": 14,
   "metadata": {},
   "outputs": [],
   "source": [
    "with open(os.path.join(data_dir, 'word_dict.pkl'), \"wb\") as f:\n",
    "    pickle.dump(word_dict, f)"
   ]
  },
  {
   "cell_type": "markdown",
   "metadata": {},
   "source": [
    "### Transform the reviews\n",
    "\n",
    "Now that we have our word dictionary which allows us to transform the words appearing in the reviews into integers, it is time to make use of it and convert our reviews to their integer sequence representation, making sure to pad or truncate to a fixed length, which in our case is `500`."
   ]
  },
  {
   "cell_type": "code",
   "execution_count": 15,
   "metadata": {},
   "outputs": [],
   "source": [
    "def convert_and_pad(word_dict, sentence, pad=500):\n",
    "    NOWORD = 0 # We will use 0 to represent the 'no word' category\n",
    "    INFREQ = 1 # and we use 1 to represent the infrequent words, i.e., words not appearing in word_dict\n",
    "    \n",
    "    working_sentence = [NOWORD] * pad\n",
    "    \n",
    "    for word_index, word in enumerate(sentence[:pad]):\n",
    "        if word in word_dict:\n",
    "            working_sentence[word_index] = word_dict[word]\n",
    "        else:\n",
    "            working_sentence[word_index] = INFREQ\n",
    "            \n",
    "    return working_sentence, min(len(sentence), pad)\n",
    "\n",
    "def convert_and_pad_data(word_dict, data, pad=500):\n",
    "    result = []\n",
    "    lengths = []\n",
    "    \n",
    "    for sentence in data:\n",
    "        converted, leng = convert_and_pad(word_dict, sentence, pad)\n",
    "        result.append(converted)\n",
    "        lengths.append(leng)\n",
    "        \n",
    "    return np.array(result), np.array(lengths)"
   ]
  },
  {
   "cell_type": "code",
   "execution_count": 16,
   "metadata": {},
   "outputs": [],
   "source": [
    "train_X, train_X_len = convert_and_pad_data(word_dict, train_X)\n",
    "test_X, test_X_len = convert_and_pad_data(word_dict, test_X)"
   ]
  },
  {
   "cell_type": "markdown",
   "metadata": {},
   "source": [
    "As a quick check to make sure that things are working as intended, check to see what one of the reviews in the training set looks like after having been processeed. Does this look reasonable? What is the length of a review in the training set?"
   ]
  },
  {
   "cell_type": "code",
   "execution_count": 17,
   "metadata": {},
   "outputs": [
    {
     "name": "stdout",
     "output_type": "stream",
     "text": [
      "[1762  126    1  272    1  369   92    1 2951  654    1 2547  972 2585\n",
      " 2105 1854  736 4271  568  654 2186 4101   21  455 1064  855  344    1\n",
      "    1 1903    3   22  240 1100  145  654 1794    3  814   12  379 4646\n",
      "  854 3337 1135  379  430 3965  457 2408 1944    0    0    0    0    0\n",
      "    0    0    0    0    0    0    0    0    0    0    0    0    0    0\n",
      "    0    0    0    0    0    0    0    0    0    0    0    0    0    0\n",
      "    0    0    0    0    0    0    0    0    0    0    0    0    0    0\n",
      "    0    0    0    0    0    0    0    0    0    0    0    0    0    0\n",
      "    0    0    0    0    0    0    0    0    0    0    0    0    0    0\n",
      "    0    0    0    0    0    0    0    0    0    0    0    0    0    0\n",
      "    0    0    0    0    0    0    0    0    0    0    0    0    0    0\n",
      "    0    0    0    0    0    0    0    0    0    0    0    0    0    0\n",
      "    0    0    0    0    0    0    0    0    0    0    0    0    0    0\n",
      "    0    0    0    0    0    0    0    0    0    0    0    0    0    0\n",
      "    0    0    0    0    0    0    0    0    0    0    0    0    0    0\n",
      "    0    0    0    0    0    0    0    0    0    0    0    0    0    0\n",
      "    0    0    0    0    0    0    0    0    0    0    0    0    0    0\n",
      "    0    0    0    0    0    0    0    0    0    0    0    0    0    0\n",
      "    0    0    0    0    0    0    0    0    0    0    0    0    0    0\n",
      "    0    0    0    0    0    0    0    0    0    0    0    0    0    0\n",
      "    0    0    0    0    0    0    0    0    0    0    0    0    0    0\n",
      "    0    0    0    0    0    0    0    0    0    0    0    0    0    0\n",
      "    0    0    0    0    0    0    0    0    0    0    0    0    0    0\n",
      "    0    0    0    0    0    0    0    0    0    0    0    0    0    0\n",
      "    0    0    0    0    0    0    0    0    0    0    0    0    0    0\n",
      "    0    0    0    0    0    0    0    0    0    0    0    0    0    0\n",
      "    0    0    0    0    0    0    0    0    0    0    0    0    0    0\n",
      "    0    0    0    0    0    0    0    0    0    0    0    0    0    0\n",
      "    0    0    0    0    0    0    0    0    0    0    0    0    0    0\n",
      "    0    0    0    0    0    0    0    0    0    0    0    0    0    0\n",
      "    0    0    0    0    0    0    0    0    0    0    0    0    0    0\n",
      "    0    0    0    0    0    0    0    0    0    0    0    0    0    0\n",
      "    0    0    0    0    0    0    0    0    0    0    0    0    0    0\n",
      "    0    0    0    0    0    0    0    0    0    0    0    0    0    0\n",
      "    0    0    0    0    0    0    0    0    0    0    0    0    0    0\n",
      "    0    0    0    0    0    0    0    0    0    0]\n",
      "51\n"
     ]
    }
   ],
   "source": [
    "# Use this cell to examine one of the processed reviews to make sure everything is working as intended.\n",
    "print(test_X[3])\n",
    "print(test_X_len[3])"
   ]
  },
  {
   "cell_type": "markdown",
   "metadata": {},
   "source": [
    "**Question:** In the cells above we use the `preprocess_data` and `convert_and_pad_data` methods to process both the training and testing set. Why or why not might this be a problem?"
   ]
  },
  {
   "cell_type": "markdown",
   "metadata": {},
   "source": [
    "**Answer:** \n",
    " The convert_and_pad_data transforms words from text into integers inside a fixed length array. If a review is longer than the max size(500) we might lose information from it.  The preprocess_data converts all words to lower case and removes punctuation. We might lose underlying word meaning from lowering all word cases. "
   ]
  },
  {
   "cell_type": "markdown",
   "metadata": {},
   "source": [
    "## Step 3: Upload the data to S3\n",
    "\n",
    "As in the XGBoost notebook, we will need to upload the training dataset to S3 in order for our training code to access it. For now we will save it locally and we will upload to S3 later on.\n",
    "\n",
    "### Save the processed training dataset locally\n",
    "\n",
    "It is important to note the format of the data that we are saving as we will need to know it when we write the training code. In our case, each row of the dataset has the form `label`, `length`, `review[500]` where `review[500]` is a sequence of `500` integers representing the words in the review."
   ]
  },
  {
   "cell_type": "code",
   "execution_count": 18,
   "metadata": {},
   "outputs": [],
   "source": [
    "import pandas as pd\n",
    "    \n",
    "pd.concat([pd.DataFrame(train_y), pd.DataFrame(train_X_len), pd.DataFrame(train_X)], axis=1) \\\n",
    "        .to_csv(os.path.join(data_dir, 'train.csv'), header=False, index=False)"
   ]
  },
  {
   "cell_type": "markdown",
   "metadata": {},
   "source": [
    "### Uploading the training data\n",
    "\n",
    "\n",
    "Next, we need to upload the training data to the SageMaker default S3 bucket so that we can provide access to it while training our model."
   ]
  },
  {
   "cell_type": "code",
   "execution_count": 19,
   "metadata": {},
   "outputs": [],
   "source": [
    "import sagemaker\n",
    "\n",
    "sagemaker_session = sagemaker.Session()\n",
    "\n",
    "bucket = sagemaker_session.default_bucket()\n",
    "prefix = 'sagemaker/sentiment_rnn'\n",
    "\n",
    "role = sagemaker.get_execution_role()"
   ]
  },
  {
   "cell_type": "code",
   "execution_count": 20,
   "metadata": {},
   "outputs": [],
   "source": [
    "input_data = sagemaker_session.upload_data(path=data_dir, bucket=bucket, key_prefix=prefix)"
   ]
  },
  {
   "cell_type": "markdown",
   "metadata": {},
   "source": [
    "**NOTE:** The cell above uploads the entire contents of our data directory. This includes the `word_dict.pkl` file. This is fortunate as we will need this later on when we create an endpoint that accepts an arbitrary review. For now, we will just take note of the fact that it resides in the data directory (and so also in the S3 training bucket) and that we will need to make sure it gets saved in the model directory."
   ]
  },
  {
   "cell_type": "markdown",
   "metadata": {},
   "source": [
    "## Step 4: Build and Train the PyTorch Model\n",
    "\n",
    "In the XGBoost notebook we discussed what a model is in the SageMaker framework. In particular, a model comprises three objects\n",
    "\n",
    " - Model Artifacts,\n",
    " - Training Code, and\n",
    " - Inference Code,\n",
    " \n",
    "each of which interact with one another. In the XGBoost example we used training and inference code that was provided by Amazon. Here we will still be using containers provided by Amazon with the added benefit of being able to include our own custom code.\n",
    "\n",
    "We will start by implementing our own neural network in PyTorch along with a training script. For the purposes of this project we have provided the necessary model object in the `model.py` file, inside of the `train` folder. You can see the provided implementation by running the cell below."
   ]
  },
  {
   "cell_type": "code",
   "execution_count": 21,
   "metadata": {},
   "outputs": [
    {
     "name": "stdout",
     "output_type": "stream",
     "text": [
      "\u001b[34mimport\u001b[39;49;00m \u001b[04m\u001b[36mtorch\u001b[39;49;00m\u001b[04m\u001b[36m.\u001b[39;49;00m\u001b[04m\u001b[36mnn\u001b[39;49;00m \u001b[34mas\u001b[39;49;00m \u001b[04m\u001b[36mnn\u001b[39;49;00m\r\n",
      "\r\n",
      "\u001b[34mclass\u001b[39;49;00m \u001b[04m\u001b[32mLSTMClassifier\u001b[39;49;00m(nn.Module):\r\n",
      "    \u001b[33m\"\"\"\u001b[39;49;00m\r\n",
      "\u001b[33m    This is the simple RNN model we will be using to perform Sentiment Analysis.\u001b[39;49;00m\r\n",
      "\u001b[33m    \"\"\"\u001b[39;49;00m\r\n",
      "\r\n",
      "    \u001b[34mdef\u001b[39;49;00m \u001b[32m__init__\u001b[39;49;00m(\u001b[36mself\u001b[39;49;00m, embedding_dim, hidden_dim, vocab_size):\r\n",
      "        \u001b[33m\"\"\"\u001b[39;49;00m\r\n",
      "\u001b[33m        Initialize the model by settingg up the various layers.\u001b[39;49;00m\r\n",
      "\u001b[33m        \"\"\"\u001b[39;49;00m\r\n",
      "        \u001b[36msuper\u001b[39;49;00m(LSTMClassifier, \u001b[36mself\u001b[39;49;00m).\u001b[32m__init__\u001b[39;49;00m()\r\n",
      "\r\n",
      "        \u001b[36mself\u001b[39;49;00m.embedding = nn.Embedding(vocab_size, embedding_dim, padding_idx=\u001b[34m0\u001b[39;49;00m)\r\n",
      "        \u001b[36mself\u001b[39;49;00m.lstm = nn.LSTM(embedding_dim, hidden_dim)\r\n",
      "        \u001b[36mself\u001b[39;49;00m.dense = nn.Linear(in_features=hidden_dim, out_features=\u001b[34m1\u001b[39;49;00m)\r\n",
      "        \u001b[36mself\u001b[39;49;00m.sig = nn.Sigmoid()\r\n",
      "        \r\n",
      "        \u001b[36mself\u001b[39;49;00m.word_dict = \u001b[34mNone\u001b[39;49;00m\r\n",
      "\r\n",
      "    \u001b[34mdef\u001b[39;49;00m \u001b[32mforward\u001b[39;49;00m(\u001b[36mself\u001b[39;49;00m, x):\r\n",
      "        \u001b[33m\"\"\"\u001b[39;49;00m\r\n",
      "\u001b[33m        Perform a forward pass of our model on some input.\u001b[39;49;00m\r\n",
      "\u001b[33m        \"\"\"\u001b[39;49;00m\r\n",
      "        x = x.t()\r\n",
      "        lengths = x[\u001b[34m0\u001b[39;49;00m,:]\r\n",
      "        reviews = x[\u001b[34m1\u001b[39;49;00m:,:]\r\n",
      "        embeds = \u001b[36mself\u001b[39;49;00m.embedding(reviews)\r\n",
      "        lstm_out, _ = \u001b[36mself\u001b[39;49;00m.lstm(embeds)\r\n",
      "        out = \u001b[36mself\u001b[39;49;00m.dense(lstm_out)\r\n",
      "        out = out[lengths - \u001b[34m1\u001b[39;49;00m, \u001b[36mrange\u001b[39;49;00m(\u001b[36mlen\u001b[39;49;00m(lengths))]\r\n",
      "        \u001b[34mreturn\u001b[39;49;00m \u001b[36mself\u001b[39;49;00m.sig(out.squeeze())\r\n"
     ]
    }
   ],
   "source": [
    "!pygmentize train/model.py"
   ]
  },
  {
   "cell_type": "markdown",
   "metadata": {},
   "source": [
    "The important takeaway from the implementation provided is that there are three parameters that we may wish to tweak to improve the performance of our model. These are the embedding dimension, the hidden dimension and the size of the vocabulary. We will likely want to make these parameters configurable in the training script so that if we wish to modify them we do not need to modify the script itself. We will see how to do this later on. To start we will write some of the training code in the notebook so that we can more easily diagnose any issues that arise.\n",
    "\n",
    "First we will load a small portion of the training data set to use as a sample. It would be very time consuming to try and train the model completely in the notebook as we do not have access to a gpu and the compute instance that we are using is not particularly powerful. However, we can work on a small bit of the data to get a feel for how our training script is behaving."
   ]
  },
  {
   "cell_type": "code",
   "execution_count": 22,
   "metadata": {},
   "outputs": [],
   "source": [
    "import torch\n",
    "import torch.utils.data\n",
    "\n",
    "# Read in only the first 250 rows\n",
    "train_sample = pd.read_csv(os.path.join(data_dir, 'train.csv'), header=None, names=None, nrows=250)\n",
    "\n",
    "# Turn the input pandas dataframe into tensors\n",
    "train_sample_y = torch.from_numpy(train_sample[[0]].values).float().squeeze()\n",
    "train_sample_X = torch.from_numpy(train_sample.drop([0], axis=1).values).long()\n",
    "\n",
    "# Build the dataset\n",
    "train_sample_ds = torch.utils.data.TensorDataset(train_sample_X, train_sample_y)\n",
    "# Build the dataloader\n",
    "train_sample_dl = torch.utils.data.DataLoader(train_sample_ds, batch_size=50)"
   ]
  },
  {
   "cell_type": "markdown",
   "metadata": {},
   "source": [
    "### (TODO) Writing the training method\n",
    "\n",
    "Next we need to write the training code itself. This should be very similar to training methods that you have written before to train PyTorch models. We will leave any difficult aspects such as model saving / loading and parameter loading until a little later."
   ]
  },
  {
   "cell_type": "code",
   "execution_count": 23,
   "metadata": {},
   "outputs": [],
   "source": [
    "def train(model, train_loader, epochs, optimizer, loss_fn, device):\n",
    "    for epoch in range(1, epochs + 1):\n",
    "        model.train()\n",
    "        total_loss = 0\n",
    "        for batch in train_loader:         \n",
    "            batch_X, batch_y = batch\n",
    "            \n",
    "            batch_X = batch_X.to(device)\n",
    "            batch_y = batch_y.to(device)\n",
    "            \n",
    "\n",
    "            \n",
    "            # TODO: Complete this train method to train the model provided.\n",
    "            optimizer.zero_grad()\n",
    "            out = model.forward(batch_X)\n",
    "            loss = loss_fn(out, batch_y)\n",
    "            loss.backward()\n",
    "            optimizer.step()\n",
    "            \n",
    "        \n",
    "            \n",
    "            total_loss += loss.data.item()\n",
    "        print(\"Epoch: {}, BCELoss: {}\".format(epoch, total_loss / len(train_loader)))"
   ]
  },
  {
   "cell_type": "markdown",
   "metadata": {},
   "source": [
    "Supposing we have the training method above, we will test that it is working by writing a bit of code in the notebook that executes our training method on the small sample training set that we loaded earlier. The reason for doing this in the notebook is so that we have an opportunity to fix any errors that arise early when they are easier to diagnose."
   ]
  },
  {
   "cell_type": "code",
   "execution_count": 24,
   "metadata": {},
   "outputs": [
    {
     "name": "stdout",
     "output_type": "stream",
     "text": [
      "Epoch: 1, BCELoss: 0.6947871565818786\n",
      "Epoch: 2, BCELoss: 0.6849141359329224\n",
      "Epoch: 3, BCELoss: 0.6766103506088257\n",
      "Epoch: 4, BCELoss: 0.6673781275749207\n",
      "Epoch: 5, BCELoss: 0.6554082274436951\n"
     ]
    }
   ],
   "source": [
    "import torch.optim as optim\n",
    "from train.model import LSTMClassifier\n",
    "\n",
    "device = torch.device(\"cuda\" if torch.cuda.is_available() else \"cpu\")\n",
    "model = LSTMClassifier(32, 100, 5000).to(device)\n",
    "optimizer = optim.Adam(model.parameters())\n",
    "loss_fn = torch.nn.BCELoss()\n",
    "\n",
    "train(model, train_sample_dl, 5, optimizer, loss_fn, device)"
   ]
  },
  {
   "cell_type": "markdown",
   "metadata": {},
   "source": [
    "In order to construct a PyTorch model using SageMaker we must provide SageMaker with a training script. We may optionally include a directory which will be copied to the container and from which our training code will be run. When the training container is executed it will check the uploaded directory (if there is one) for a `requirements.txt` file and install any required Python libraries, after which the training script will be run."
   ]
  },
  {
   "cell_type": "markdown",
   "metadata": {},
   "source": [
    "### (TODO) Training the model\n",
    "\n",
    "When a PyTorch model is constructed in SageMaker, an entry point must be specified. This is the Python file which will be executed when the model is trained. Inside of the `train` directory is a file called `train.py` which has been provided and which contains most of the necessary code to train our model. The only thing that is missing is the implementation of the `train()` method which you wrote earlier in this notebook.\n",
    "\n",
    "**TODO**: Copy the `train()` method written above and paste it into the `train/train.py` file where required.\n",
    "\n",
    "The way that SageMaker passes hyperparameters to the training script is by way of arguments. These arguments can then be parsed and used in the training script. To see how this is done take a look at the provided `train/train.py` file."
   ]
  },
  {
   "cell_type": "code",
   "execution_count": 25,
   "metadata": {},
   "outputs": [],
   "source": [
    "from sagemaker.pytorch import PyTorch\n",
    "\n",
    "estimator = PyTorch(entry_point=\"train.py\",\n",
    "                    source_dir=\"train\",\n",
    "                    role=role,\n",
    "                    framework_version='0.4.0',\n",
    "                    train_instance_count=1,\n",
    "                    py_version='py3',\n",
    "                    train_instance_type='ml.p2.xlarge',\n",
    "                    hyperparameters={\n",
    "                        'epochs': 10,\n",
    "                        'hidden_dim': 200,\n",
    "                    })"
   ]
  },
  {
   "cell_type": "code",
   "execution_count": 26,
   "metadata": {},
   "outputs": [
    {
     "name": "stderr",
     "output_type": "stream",
     "text": [
      "'create_image_uri' will be deprecated in favor of 'ImageURIProvider' class in SageMaker Python SDK v2.\n",
      "'s3_input' class will be renamed to 'TrainingInput' in SageMaker Python SDK v2.\n",
      "'create_image_uri' will be deprecated in favor of 'ImageURIProvider' class in SageMaker Python SDK v2.\n"
     ]
    },
    {
     "name": "stdout",
     "output_type": "stream",
     "text": [
      "2020-12-04 13:44:04 Starting - Starting the training job...\n",
      "2020-12-04 13:44:06 Starting - Launching requested ML instances......\n",
      "2020-12-04 13:45:27 Starting - Preparing the instances for training.........\n",
      "2020-12-04 13:46:42 Downloading - Downloading input data...\n",
      "2020-12-04 13:47:16 Training - Downloading the training image..\u001b[34mbash: cannot set terminal process group (-1): Inappropriate ioctl for device\u001b[0m\n",
      "\u001b[34mbash: no job control in this shell\u001b[0m\n",
      "\u001b[34m2020-12-04 13:47:48,408 sagemaker-containers INFO     Imported framework sagemaker_pytorch_container.training\u001b[0m\n",
      "\u001b[34m2020-12-04 13:47:48,433 sagemaker_pytorch_container.training INFO     Block until all host DNS lookups succeed.\u001b[0m\n",
      "\n",
      "2020-12-04 13:47:47 Training - Training image download completed. Training in progress.\u001b[34m2020-12-04 13:47:51,455 sagemaker_pytorch_container.training INFO     Invoking user training script.\u001b[0m\n",
      "\u001b[34m2020-12-04 13:47:51,709 sagemaker-containers INFO     Module train does not provide a setup.py. \u001b[0m\n",
      "\u001b[34mGenerating setup.py\u001b[0m\n",
      "\u001b[34m2020-12-04 13:47:51,709 sagemaker-containers INFO     Generating setup.cfg\u001b[0m\n",
      "\u001b[34m2020-12-04 13:47:51,710 sagemaker-containers INFO     Generating MANIFEST.in\u001b[0m\n",
      "\u001b[34m2020-12-04 13:47:51,710 sagemaker-containers INFO     Installing module with the following command:\u001b[0m\n",
      "\u001b[34m/usr/bin/python -m pip install -U . -r requirements.txt\u001b[0m\n",
      "\u001b[34mProcessing /opt/ml/code\u001b[0m\n",
      "\u001b[34mCollecting pandas (from -r requirements.txt (line 1))\n",
      "  Downloading https://files.pythonhosted.org/packages/74/24/0cdbf8907e1e3bc5a8da03345c23cbed7044330bb8f73bb12e711a640a00/pandas-0.24.2-cp35-cp35m-manylinux1_x86_64.whl (10.0MB)\u001b[0m\n",
      "\u001b[34mCollecting numpy (from -r requirements.txt (line 2))\n",
      "  Downloading https://files.pythonhosted.org/packages/b5/36/88723426b4ff576809fec7d73594fe17a35c27f8d01f93637637a29ae25b/numpy-1.18.5-cp35-cp35m-manylinux1_x86_64.whl (19.9MB)\u001b[0m\n",
      "\u001b[34mCollecting nltk (from -r requirements.txt (line 3))\n",
      "  Downloading https://files.pythonhosted.org/packages/92/75/ce35194d8e3022203cca0d2f896dbb88689f9b3fce8e9f9cff942913519d/nltk-3.5.zip (1.4MB)\u001b[0m\n",
      "\u001b[34mCollecting beautifulsoup4 (from -r requirements.txt (line 4))\n",
      "  Downloading https://files.pythonhosted.org/packages/d1/41/e6495bd7d3781cee623ce23ea6ac73282a373088fcd0ddc809a047b18eae/beautifulsoup4-4.9.3-py3-none-any.whl (115kB)\u001b[0m\n",
      "\u001b[34mCollecting html5lib (from -r requirements.txt (line 5))\n",
      "  Downloading https://files.pythonhosted.org/packages/6c/dd/a834df6482147d48e225a49515aabc28974ad5a4ca3215c18a882565b028/html5lib-1.1-py2.py3-none-any.whl (112kB)\u001b[0m\n",
      "\u001b[34mCollecting pytz>=2011k (from pandas->-r requirements.txt (line 1))\n",
      "  Downloading https://files.pythonhosted.org/packages/12/f8/ff09af6ff61a3efaad5f61ba5facdf17e7722c4393f7d8a66674d2dbd29f/pytz-2020.4-py2.py3-none-any.whl (509kB)\u001b[0m\n",
      "\u001b[34mRequirement already satisfied, skipping upgrade: python-dateutil>=2.5.0 in /usr/local/lib/python3.5/dist-packages (from pandas->-r requirements.txt (line 1)) (2.7.5)\u001b[0m\n",
      "\u001b[34mRequirement already satisfied, skipping upgrade: click in /usr/local/lib/python3.5/dist-packages (from nltk->-r requirements.txt (line 3)) (7.0)\u001b[0m\n",
      "\u001b[34mCollecting joblib (from nltk->-r requirements.txt (line 3))\n",
      "  Downloading https://files.pythonhosted.org/packages/28/5c/cf6a2b65a321c4a209efcdf64c2689efae2cb62661f8f6f4bb28547cf1bf/joblib-0.14.1-py2.py3-none-any.whl (294kB)\u001b[0m\n",
      "\u001b[34mCollecting regex (from nltk->-r requirements.txt (line 3))\u001b[0m\n",
      "\u001b[34m  Downloading https://files.pythonhosted.org/packages/2e/e4/3447fed9ab29944333f48730ecff4dca92f0868c5b188d6ab2b2078e32c2/regex-2020.11.13.tar.gz (694kB)\u001b[0m\n",
      "\u001b[34mCollecting tqdm (from nltk->-r requirements.txt (line 3))\n",
      "  Downloading https://files.pythonhosted.org/packages/e9/4e/afa45872365fe2abd13c8022d39348c01808b8cfeea129937920d7bb2244/tqdm-4.54.0-py2.py3-none-any.whl (69kB)\u001b[0m\n",
      "\u001b[34mCollecting soupsieve>1.2; python_version >= \"3.0\" (from beautifulsoup4->-r requirements.txt (line 4))\n",
      "  Downloading https://files.pythonhosted.org/packages/6f/8f/457f4a5390eeae1cc3aeab89deb7724c965be841ffca6cfca9197482e470/soupsieve-2.0.1-py3-none-any.whl\u001b[0m\n",
      "\u001b[34mRequirement already satisfied, skipping upgrade: six>=1.9 in /usr/local/lib/python3.5/dist-packages (from html5lib->-r requirements.txt (line 5)) (1.11.0)\u001b[0m\n",
      "\u001b[34mCollecting webencodings (from html5lib->-r requirements.txt (line 5))\n",
      "  Downloading https://files.pythonhosted.org/packages/f4/24/2a3e3df732393fed8b3ebf2ec078f05546de641fe1b667ee316ec1dcf3b7/webencodings-0.5.1-py2.py3-none-any.whl\u001b[0m\n",
      "\u001b[34mBuilding wheels for collected packages: nltk, train, regex\n",
      "  Running setup.py bdist_wheel for nltk: started\u001b[0m\n",
      "\u001b[34m  Running setup.py bdist_wheel for nltk: finished with status 'done'\n",
      "  Stored in directory: /root/.cache/pip/wheels/ae/8c/3f/b1fe0ba04555b08b57ab52ab7f86023639a526d8bc8d384306\n",
      "  Running setup.py bdist_wheel for train: started\n",
      "  Running setup.py bdist_wheel for train: finished with status 'done'\n",
      "  Stored in directory: /tmp/pip-ephem-wheel-cache-z7lp6923/wheels/35/24/16/37574d11bf9bde50616c67372a334f94fa8356bc7164af8ca3\n",
      "  Running setup.py bdist_wheel for regex: started\u001b[0m\n",
      "\u001b[34m  Running setup.py bdist_wheel for regex: finished with status 'done'\n",
      "  Stored in directory: /root/.cache/pip/wheels/27/f6/66/a4243e485a0ebc73dc59033ae26c48e82526f77dbfe158ac59\u001b[0m\n",
      "\u001b[34mSuccessfully built nltk train regex\u001b[0m\n",
      "\u001b[34mInstalling collected packages: pytz, numpy, pandas, joblib, regex, tqdm, nltk, soupsieve, beautifulsoup4, webencodings, html5lib, train\n",
      "  Found existing installation: numpy 1.15.4\n",
      "    Uninstalling numpy-1.15.4:\u001b[0m\n",
      "\u001b[34m      Successfully uninstalled numpy-1.15.4\u001b[0m\n",
      "\u001b[34mSuccessfully installed beautifulsoup4-4.9.3 html5lib-1.1 joblib-0.14.1 nltk-3.5 numpy-1.18.5 pandas-0.24.2 pytz-2020.4 regex-2020.11.13 soupsieve-2.0.1 tqdm-4.54.0 train-1.0.0 webencodings-0.5.1\u001b[0m\n",
      "\u001b[34mYou are using pip version 18.1, however version 20.3.1 is available.\u001b[0m\n",
      "\u001b[34mYou should consider upgrading via the 'pip install --upgrade pip' command.\u001b[0m\n",
      "\u001b[34m2020-12-04 13:48:15,619 sagemaker-containers INFO     Invoking user script\n",
      "\u001b[0m\n",
      "\u001b[34mTraining Env:\n",
      "\u001b[0m\n",
      "\u001b[34m{\n",
      "    \"output_data_dir\": \"/opt/ml/output/data\",\n",
      "    \"job_name\": \"sagemaker-pytorch-2020-12-04-13-44-04-062\",\n",
      "    \"current_host\": \"algo-1\",\n",
      "    \"user_entry_point\": \"train.py\",\n",
      "    \"hosts\": [\n",
      "        \"algo-1\"\n",
      "    ],\n",
      "    \"input_data_config\": {\n",
      "        \"training\": {\n",
      "            \"S3DistributionType\": \"FullyReplicated\",\n",
      "            \"RecordWrapperType\": \"None\",\n",
      "            \"TrainingInputMode\": \"File\"\n",
      "        }\n",
      "    },\n",
      "    \"channel_input_dirs\": {\n",
      "        \"training\": \"/opt/ml/input/data/training\"\n",
      "    },\n",
      "    \"resource_config\": {\n",
      "        \"network_interface_name\": \"eth0\",\n",
      "        \"hosts\": [\n",
      "            \"algo-1\"\n",
      "        ],\n",
      "        \"current_host\": \"algo-1\"\n",
      "    },\n",
      "    \"output_intermediate_dir\": \"/opt/ml/output/intermediate\",\n",
      "    \"hyperparameters\": {\n",
      "        \"hidden_dim\": 200,\n",
      "        \"epochs\": 10\n",
      "    },\n",
      "    \"additional_framework_parameters\": {},\n",
      "    \"module_name\": \"train\",\n",
      "    \"output_dir\": \"/opt/ml/output\",\n",
      "    \"input_dir\": \"/opt/ml/input\",\n",
      "    \"module_dir\": \"s3://sagemaker-us-east-2-598269067865/sagemaker-pytorch-2020-12-04-13-44-04-062/source/sourcedir.tar.gz\",\n",
      "    \"log_level\": 20,\n",
      "    \"model_dir\": \"/opt/ml/model\",\n",
      "    \"framework_module\": \"sagemaker_pytorch_container.training:main\",\n",
      "    \"input_config_dir\": \"/opt/ml/input/config\",\n",
      "    \"num_cpus\": 4,\n",
      "    \"num_gpus\": 1,\n",
      "    \"network_interface_name\": \"eth0\"\u001b[0m\n",
      "\u001b[34m}\n",
      "\u001b[0m\n",
      "\u001b[34mEnvironment variables:\n",
      "\u001b[0m\n",
      "\u001b[34mSM_MODULE_NAME=train\u001b[0m\n",
      "\u001b[34mSM_HPS={\"epochs\":10,\"hidden_dim\":200}\u001b[0m\n",
      "\u001b[34mSM_NUM_GPUS=1\u001b[0m\n",
      "\u001b[34mSM_HOSTS=[\"algo-1\"]\u001b[0m\n",
      "\u001b[34mSM_INPUT_CONFIG_DIR=/opt/ml/input/config\u001b[0m\n",
      "\u001b[34mSM_USER_ARGS=[\"--epochs\",\"10\",\"--hidden_dim\",\"200\"]\u001b[0m\n",
      "\u001b[34mSM_MODULE_DIR=s3://sagemaker-us-east-2-598269067865/sagemaker-pytorch-2020-12-04-13-44-04-062/source/sourcedir.tar.gz\u001b[0m\n",
      "\u001b[34mSM_NETWORK_INTERFACE_NAME=eth0\u001b[0m\n",
      "\u001b[34mSM_OUTPUT_INTERMEDIATE_DIR=/opt/ml/output/intermediate\u001b[0m\n",
      "\u001b[34mSM_HP_HIDDEN_DIM=200\u001b[0m\n",
      "\u001b[34mSM_OUTPUT_DIR=/opt/ml/output\u001b[0m\n",
      "\u001b[34mSM_HP_EPOCHS=10\u001b[0m\n",
      "\u001b[34mSM_FRAMEWORK_PARAMS={}\u001b[0m\n",
      "\u001b[34mPYTHONPATH=/usr/local/bin:/usr/lib/python35.zip:/usr/lib/python3.5:/usr/lib/python3.5/plat-x86_64-linux-gnu:/usr/lib/python3.5/lib-dynload:/usr/local/lib/python3.5/dist-packages:/usr/lib/python3/dist-packages\u001b[0m\n",
      "\u001b[34mSM_CHANNEL_TRAINING=/opt/ml/input/data/training\u001b[0m\n",
      "\u001b[34mSM_LOG_LEVEL=20\u001b[0m\n",
      "\u001b[34mSM_OUTPUT_DATA_DIR=/opt/ml/output/data\u001b[0m\n",
      "\u001b[34mSM_USER_ENTRY_POINT=train.py\u001b[0m\n",
      "\u001b[34mSM_FRAMEWORK_MODULE=sagemaker_pytorch_container.training:main\u001b[0m\n",
      "\u001b[34mSM_INPUT_DIR=/opt/ml/input\u001b[0m\n",
      "\u001b[34mSM_CURRENT_HOST=algo-1\u001b[0m\n",
      "\u001b[34mSM_MODEL_DIR=/opt/ml/model\u001b[0m\n",
      "\u001b[34mSM_INPUT_DATA_CONFIG={\"training\":{\"RecordWrapperType\":\"None\",\"S3DistributionType\":\"FullyReplicated\",\"TrainingInputMode\":\"File\"}}\u001b[0m\n",
      "\u001b[34mSM_CHANNELS=[\"training\"]\u001b[0m\n",
      "\u001b[34mSM_NUM_CPUS=4\u001b[0m\n",
      "\u001b[34mSM_TRAINING_ENV={\"additional_framework_parameters\":{},\"channel_input_dirs\":{\"training\":\"/opt/ml/input/data/training\"},\"current_host\":\"algo-1\",\"framework_module\":\"sagemaker_pytorch_container.training:main\",\"hosts\":[\"algo-1\"],\"hyperparameters\":{\"epochs\":10,\"hidden_dim\":200},\"input_config_dir\":\"/opt/ml/input/config\",\"input_data_config\":{\"training\":{\"RecordWrapperType\":\"None\",\"S3DistributionType\":\"FullyReplicated\",\"TrainingInputMode\":\"File\"}},\"input_dir\":\"/opt/ml/input\",\"job_name\":\"sagemaker-pytorch-2020-12-04-13-44-04-062\",\"log_level\":20,\"model_dir\":\"/opt/ml/model\",\"module_dir\":\"s3://sagemaker-us-east-2-598269067865/sagemaker-pytorch-2020-12-04-13-44-04-062/source/sourcedir.tar.gz\",\"module_name\":\"train\",\"network_interface_name\":\"eth0\",\"num_cpus\":4,\"num_gpus\":1,\"output_data_dir\":\"/opt/ml/output/data\",\"output_dir\":\"/opt/ml/output\",\"output_intermediate_dir\":\"/opt/ml/output/intermediate\",\"resource_config\":{\"current_host\":\"algo-1\",\"hosts\":[\"algo-1\"],\"network_interface_name\":\"eth0\"},\"user_entry_point\":\"train.py\"}\u001b[0m\n",
      "\u001b[34mSM_RESOURCE_CONFIG={\"current_host\":\"algo-1\",\"hosts\":[\"algo-1\"],\"network_interface_name\":\"eth0\"}\n",
      "\u001b[0m\n",
      "\u001b[34mInvoking script with the following command:\n",
      "\u001b[0m\n",
      "\u001b[34m/usr/bin/python -m train --epochs 10 --hidden_dim 200\n",
      "\n",
      "\u001b[0m\n",
      "\u001b[34mUsing device cuda.\u001b[0m\n",
      "\u001b[34mGet train data loader.\u001b[0m\n",
      "\u001b[34mModel loaded with embedding_dim 32, hidden_dim 200, vocab_size 5000.\u001b[0m\n",
      "\u001b[34mEpoch: 1, BCELoss: 0.669644217101895\u001b[0m\n",
      "\u001b[34mEpoch: 2, BCELoss: 0.6230228616266834\u001b[0m\n",
      "\u001b[34mEpoch: 3, BCELoss: 0.5528875127130625\u001b[0m\n",
      "\u001b[34mEpoch: 4, BCELoss: 0.4687822826054631\u001b[0m\n",
      "\u001b[34mEpoch: 5, BCELoss: 0.3938077627396097\u001b[0m\n",
      "\u001b[34mEpoch: 6, BCELoss: 0.34902890239443096\u001b[0m\n",
      "\u001b[34mEpoch: 7, BCELoss: 0.32410111445553447\u001b[0m\n",
      "\u001b[34mEpoch: 8, BCELoss: 0.58892009757003\u001b[0m\n",
      "\u001b[34mEpoch: 9, BCELoss: 0.48907527449179666\u001b[0m\n",
      "\u001b[34mEpoch: 10, BCELoss: 0.32587592455805564\u001b[0m\n",
      "\u001b[34m2020-12-04 13:51:13,470 sagemaker-containers INFO     Reporting training SUCCESS\u001b[0m\n",
      "\n",
      "2020-12-04 13:51:23 Uploading - Uploading generated training model\n",
      "2020-12-04 13:51:23 Completed - Training job completed\n",
      "Training seconds: 281\n",
      "Billable seconds: 281\n"
     ]
    }
   ],
   "source": [
    "estimator.fit({'training': input_data})"
   ]
  },
  {
   "cell_type": "markdown",
   "metadata": {},
   "source": [
    "## Step 5: Testing the model\n",
    "\n",
    "As mentioned at the top of this notebook, we will be testing this model by first deploying it and then sending the testing data to the deployed endpoint. We will do this so that we can make sure that the deployed model is working correctly.\n",
    "\n",
    "## Step 6: Deploy the model for testing\n",
    "\n",
    "Now that we have trained our model, we would like to test it to see how it performs. Currently our model takes input of the form `review_length, review[500]` where `review[500]` is a sequence of `500` integers which describe the words present in the review, encoded using `word_dict`. Fortunately for us, SageMaker provides built-in inference code for models with simple inputs such as this.\n",
    "\n",
    "There is one thing that we need to provide, however, and that is a function which loads the saved model. This function must be called `model_fn()` and takes as its only parameter a path to the directory where the model artifacts are stored. This function must also be present in the python file which we specified as the entry point. In our case the model loading function has been provided and so no changes need to be made.\n",
    "\n",
    "**NOTE**: When the built-in inference code is run it must import the `model_fn()` method from the `train.py` file. This is why the training code is wrapped in a main guard ( ie, `if __name__ == '__main__':` )\n",
    "\n",
    "Since we don't need to change anything in the code that was uploaded during training, we can simply deploy the current model as-is.\n",
    "\n",
    "**NOTE:** When deploying a model you are asking SageMaker to launch an compute instance that will wait for data to be sent to it. As a result, this compute instance will continue to run until *you* shut it down. This is important to know since the cost of a deployed endpoint depends on how long it has been running for.\n",
    "\n",
    "In other words **If you are no longer using a deployed endpoint, shut it down!**\n",
    "\n",
    "**TODO:** Deploy the trained model."
   ]
  },
  {
   "cell_type": "code",
   "execution_count": 27,
   "metadata": {},
   "outputs": [
    {
     "name": "stderr",
     "output_type": "stream",
     "text": [
      "Parameter image will be renamed to image_uri in SageMaker Python SDK v2.\n",
      "'create_image_uri' will be deprecated in favor of 'ImageURIProvider' class in SageMaker Python SDK v2.\n"
     ]
    },
    {
     "name": "stdout",
     "output_type": "stream",
     "text": [
      "---------------!"
     ]
    }
   ],
   "source": [
    "# TODO: Deploy the trained model\n",
    "predictor = estimator.deploy(initial_instance_count=1, instance_type='ml.m4.xlarge')"
   ]
  },
  {
   "cell_type": "markdown",
   "metadata": {},
   "source": [
    "## Step 7 - Use the model for testing\n",
    "\n",
    "Once deployed, we can read in the test data and send it off to our deployed model to get some results. Once we collect all of the results we can determine how accurate our model is."
   ]
  },
  {
   "cell_type": "code",
   "execution_count": 28,
   "metadata": {},
   "outputs": [],
   "source": [
    "test_X = pd.concat([pd.DataFrame(test_X_len), pd.DataFrame(test_X)], axis=1)"
   ]
  },
  {
   "cell_type": "code",
   "execution_count": 29,
   "metadata": {},
   "outputs": [],
   "source": [
    "# We split the data into chunks and send each chunk seperately, accumulating the results.\n",
    "\n",
    "def predict(data, rows=512):\n",
    "    split_array = np.array_split(data, int(data.shape[0] / float(rows) + 1))\n",
    "    predictions = np.array([])\n",
    "    for array in split_array:\n",
    "        predictions = np.append(predictions, predictor.predict(array))\n",
    "    \n",
    "    return predictions"
   ]
  },
  {
   "cell_type": "code",
   "execution_count": 30,
   "metadata": {},
   "outputs": [],
   "source": [
    "predictions = predict(test_X.values)\n",
    "predictions = [round(num) for num in predictions]"
   ]
  },
  {
   "cell_type": "code",
   "execution_count": 31,
   "metadata": {},
   "outputs": [
    {
     "data": {
      "text/plain": [
       "0.84792"
      ]
     },
     "execution_count": 31,
     "metadata": {},
     "output_type": "execute_result"
    }
   ],
   "source": [
    "from sklearn.metrics import accuracy_score\n",
    "accuracy_score(test_y, predictions)"
   ]
  },
  {
   "cell_type": "markdown",
   "metadata": {},
   "source": [
    "**Question:** How does this model compare to the XGBoost model you created earlier? Why might these two models perform differently on this dataset? Which do *you* think is better for sentiment analysis?"
   ]
  },
  {
   "cell_type": "markdown",
   "metadata": {},
   "source": [
    "**Answer:** The final score obtained with this LSTM model is higher than that obtained with XGBoost model. The LSTM is better because it uses words embeddings to process the input text data while XGBoost model used BoWs. Words Embeddings work better than BoWs for NLP sentiment analysis tasks."
   ]
  },
  {
   "cell_type": "markdown",
   "metadata": {},
   "source": [
    "### (TODO) More testing\n",
    "\n",
    "We now have a trained model which has been deployed and which we can send processed reviews to and which returns the predicted sentiment. However, ultimately we would like to be able to send our model an unprocessed review. That is, we would like to send the review itself as a string. For example, suppose we wish to send the following review to our model."
   ]
  },
  {
   "cell_type": "code",
   "execution_count": 32,
   "metadata": {},
   "outputs": [],
   "source": [
    "test_review = 'The simplest pleasures in life are the best, and this film is one of them. Combining a rather basic storyline of love and adventure this movie transcends the usual weekend fair with wit and unmitigated charm.'"
   ]
  },
  {
   "cell_type": "markdown",
   "metadata": {},
   "source": [
    "The question we now need to answer is, how do we send this review to our model?\n",
    "\n",
    "Recall in the first section of this notebook we did a bunch of data processing to the IMDb dataset. In particular, we did two specific things to the provided reviews.\n",
    " - Removed any html tags and stemmed the input\n",
    " - Encoded the review as a sequence of integers using `word_dict`\n",
    " \n",
    "In order process the review we will need to repeat these two steps.\n",
    "\n",
    "**TODO**: Using the `review_to_words` and `convert_and_pad` methods from section one, convert `test_review` into a numpy array `test_data` suitable to send to our model. Remember that our model expects input of the form `review_length, review[500]`."
   ]
  },
  {
   "cell_type": "code",
   "execution_count": 33,
   "metadata": {},
   "outputs": [],
   "source": [
    "# TODO: Convert test_review into a form usable by the model and save the results in test_data\n",
    "test_data_review_to_words = review_to_words(test_review)\n",
    "test_data = [np.array(convert_and_pad(word_dict, test_data_review_to_words)[0])]"
   ]
  },
  {
   "cell_type": "markdown",
   "metadata": {},
   "source": [
    "Now that we have processed the review, we can send the resulting array to our model to predict the sentiment of the review."
   ]
  },
  {
   "cell_type": "code",
   "execution_count": 34,
   "metadata": {},
   "outputs": [
    {
     "data": {
      "text/plain": [
       "array(0.6268142, dtype=float32)"
      ]
     },
     "execution_count": 34,
     "metadata": {},
     "output_type": "execute_result"
    }
   ],
   "source": [
    "predictor.predict(test_data)"
   ]
  },
  {
   "cell_type": "markdown",
   "metadata": {},
   "source": [
    "Since the return value of our model is close to `1`, we can be certain that the review we submitted is positive."
   ]
  },
  {
   "cell_type": "markdown",
   "metadata": {},
   "source": [
    "### Delete the endpoint\n",
    "\n",
    "Of course, just like in the XGBoost notebook, once we've deployed an endpoint it continues to run until we tell it to shut down. Since we are done using our endpoint for now, we can delete it."
   ]
  },
  {
   "cell_type": "code",
   "execution_count": 35,
   "metadata": {},
   "outputs": [
    {
     "name": "stderr",
     "output_type": "stream",
     "text": [
      "estimator.delete_endpoint() will be deprecated in SageMaker Python SDK v2. Please use the delete_endpoint() function on your predictor instead.\n"
     ]
    }
   ],
   "source": [
    "estimator.delete_endpoint()"
   ]
  },
  {
   "cell_type": "markdown",
   "metadata": {},
   "source": [
    "## Step 6 (again) - Deploy the model for the web app\n",
    "\n",
    "Now that we know that our model is working, it's time to create some custom inference code so that we can send the model a review which has not been processed and have it determine the sentiment of the review.\n",
    "\n",
    "As we saw above, by default the estimator which we created, when deployed, will use the entry script and directory which we provided when creating the model. However, since we now wish to accept a string as input and our model expects a processed review, we need to write some custom inference code.\n",
    "\n",
    "We will store the code that we write in the `serve` directory. Provided in this directory is the `model.py` file that we used to construct our model, a `utils.py` file which contains the `review_to_words` and `convert_and_pad` pre-processing functions which we used during the initial data processing, and `predict.py`, the file which will contain our custom inference code. Note also that `requirements.txt` is present which will tell SageMaker what Python libraries are required by our custom inference code.\n",
    "\n",
    "When deploying a PyTorch model in SageMaker, you are expected to provide four functions which the SageMaker inference container will use.\n",
    " - `model_fn`: This function is the same function that we used in the training script and it tells SageMaker how to load our model.\n",
    " - `input_fn`: This function receives the raw serialized input that has been sent to the model's endpoint and its job is to de-serialize and make the input available for the inference code.\n",
    " - `output_fn`: This function takes the output of the inference code and its job is to serialize this output and return it to the caller of the model's endpoint.\n",
    " - `predict_fn`: The heart of the inference script, this is where the actual prediction is done and is the function which you will need to complete.\n",
    "\n",
    "For the simple website that we are constructing during this project, the `input_fn` and `output_fn` methods are relatively straightforward. We only require being able to accept a string as input and we expect to return a single value as output. You might imagine though that in a more complex application the input or output may be image data or some other binary data which would require some effort to serialize.\n",
    "\n",
    "### (TODO) Writing inference code\n",
    "\n",
    "Before writing our custom inference code, we will begin by taking a look at the code which has been provided."
   ]
  },
  {
   "cell_type": "code",
   "execution_count": 36,
   "metadata": {},
   "outputs": [
    {
     "name": "stdout",
     "output_type": "stream",
     "text": [
      "\u001b[34mimport\u001b[39;49;00m \u001b[04m\u001b[36margparse\u001b[39;49;00m\r\n",
      "\u001b[34mimport\u001b[39;49;00m \u001b[04m\u001b[36mjson\u001b[39;49;00m\r\n",
      "\u001b[34mimport\u001b[39;49;00m \u001b[04m\u001b[36mos\u001b[39;49;00m\r\n",
      "\u001b[34mimport\u001b[39;49;00m \u001b[04m\u001b[36mpickle\u001b[39;49;00m\r\n",
      "\u001b[34mimport\u001b[39;49;00m \u001b[04m\u001b[36msys\u001b[39;49;00m\r\n",
      "\u001b[34mimport\u001b[39;49;00m \u001b[04m\u001b[36msagemaker_containers\u001b[39;49;00m\r\n",
      "\u001b[34mimport\u001b[39;49;00m \u001b[04m\u001b[36mpandas\u001b[39;49;00m \u001b[34mas\u001b[39;49;00m \u001b[04m\u001b[36mpd\u001b[39;49;00m\r\n",
      "\u001b[34mimport\u001b[39;49;00m \u001b[04m\u001b[36mnumpy\u001b[39;49;00m \u001b[34mas\u001b[39;49;00m \u001b[04m\u001b[36mnp\u001b[39;49;00m\r\n",
      "\u001b[34mimport\u001b[39;49;00m \u001b[04m\u001b[36mtorch\u001b[39;49;00m\r\n",
      "\u001b[34mimport\u001b[39;49;00m \u001b[04m\u001b[36mtorch\u001b[39;49;00m\u001b[04m\u001b[36m.\u001b[39;49;00m\u001b[04m\u001b[36mnn\u001b[39;49;00m \u001b[34mas\u001b[39;49;00m \u001b[04m\u001b[36mnn\u001b[39;49;00m\r\n",
      "\u001b[34mimport\u001b[39;49;00m \u001b[04m\u001b[36mtorch\u001b[39;49;00m\u001b[04m\u001b[36m.\u001b[39;49;00m\u001b[04m\u001b[36moptim\u001b[39;49;00m \u001b[34mas\u001b[39;49;00m \u001b[04m\u001b[36moptim\u001b[39;49;00m\r\n",
      "\u001b[34mimport\u001b[39;49;00m \u001b[04m\u001b[36mtorch\u001b[39;49;00m\u001b[04m\u001b[36m.\u001b[39;49;00m\u001b[04m\u001b[36mutils\u001b[39;49;00m\u001b[04m\u001b[36m.\u001b[39;49;00m\u001b[04m\u001b[36mdata\u001b[39;49;00m\r\n",
      "\r\n",
      "\u001b[34mfrom\u001b[39;49;00m \u001b[04m\u001b[36mmodel\u001b[39;49;00m \u001b[34mimport\u001b[39;49;00m LSTMClassifier\r\n",
      "\r\n",
      "\u001b[34mfrom\u001b[39;49;00m \u001b[04m\u001b[36mutils\u001b[39;49;00m \u001b[34mimport\u001b[39;49;00m review_to_words,  convert_and_pad\r\n",
      "\r\n",
      "\r\n",
      "\u001b[34mdef\u001b[39;49;00m \u001b[32mmodel_fn\u001b[39;49;00m(model_dir):\r\n",
      "    \u001b[33m\"\"\"Load the PyTorch model from the `model_dir` directory.\"\"\"\u001b[39;49;00m\r\n",
      "    \u001b[36mprint\u001b[39;49;00m(\u001b[33m\"\u001b[39;49;00m\u001b[33mLoading model.\u001b[39;49;00m\u001b[33m\"\u001b[39;49;00m)\r\n",
      "\r\n",
      "    \u001b[37m# First, load the parameters used to create the model.\u001b[39;49;00m\r\n",
      "    model_info = {}\r\n",
      "    model_info_path = os.path.join(model_dir, \u001b[33m'\u001b[39;49;00m\u001b[33mmodel_info.pth\u001b[39;49;00m\u001b[33m'\u001b[39;49;00m)\r\n",
      "    \u001b[34mwith\u001b[39;49;00m \u001b[36mopen\u001b[39;49;00m(model_info_path, \u001b[33m'\u001b[39;49;00m\u001b[33mrb\u001b[39;49;00m\u001b[33m'\u001b[39;49;00m) \u001b[34mas\u001b[39;49;00m f:\r\n",
      "        model_info = torch.load(f)\r\n",
      "\r\n",
      "    \u001b[36mprint\u001b[39;49;00m(\u001b[33m\"\u001b[39;49;00m\u001b[33mmodel_info: \u001b[39;49;00m\u001b[33m{}\u001b[39;49;00m\u001b[33m\"\u001b[39;49;00m.format(model_info))\r\n",
      "\r\n",
      "    \u001b[37m# Determine the device and construct the model.\u001b[39;49;00m\r\n",
      "    device = torch.device(\u001b[33m\"\u001b[39;49;00m\u001b[33mcuda\u001b[39;49;00m\u001b[33m\"\u001b[39;49;00m \u001b[34mif\u001b[39;49;00m torch.cuda.is_available() \u001b[34melse\u001b[39;49;00m \u001b[33m\"\u001b[39;49;00m\u001b[33mcpu\u001b[39;49;00m\u001b[33m\"\u001b[39;49;00m)\r\n",
      "    model = LSTMClassifier(model_info[\u001b[33m'\u001b[39;49;00m\u001b[33membedding_dim\u001b[39;49;00m\u001b[33m'\u001b[39;49;00m], model_info[\u001b[33m'\u001b[39;49;00m\u001b[33mhidden_dim\u001b[39;49;00m\u001b[33m'\u001b[39;49;00m], model_info[\u001b[33m'\u001b[39;49;00m\u001b[33mvocab_size\u001b[39;49;00m\u001b[33m'\u001b[39;49;00m])\r\n",
      "\r\n",
      "    \u001b[37m# Load the store model parameters.\u001b[39;49;00m\r\n",
      "    model_path = os.path.join(model_dir, \u001b[33m'\u001b[39;49;00m\u001b[33mmodel.pth\u001b[39;49;00m\u001b[33m'\u001b[39;49;00m)\r\n",
      "    \u001b[34mwith\u001b[39;49;00m \u001b[36mopen\u001b[39;49;00m(model_path, \u001b[33m'\u001b[39;49;00m\u001b[33mrb\u001b[39;49;00m\u001b[33m'\u001b[39;49;00m) \u001b[34mas\u001b[39;49;00m f:\r\n",
      "        model.load_state_dict(torch.load(f))\r\n",
      "\r\n",
      "    \u001b[37m# Load the saved word_dict.\u001b[39;49;00m\r\n",
      "    word_dict_path = os.path.join(model_dir, \u001b[33m'\u001b[39;49;00m\u001b[33mword_dict.pkl\u001b[39;49;00m\u001b[33m'\u001b[39;49;00m)\r\n",
      "    \u001b[34mwith\u001b[39;49;00m \u001b[36mopen\u001b[39;49;00m(word_dict_path, \u001b[33m'\u001b[39;49;00m\u001b[33mrb\u001b[39;49;00m\u001b[33m'\u001b[39;49;00m) \u001b[34mas\u001b[39;49;00m f:\r\n",
      "        model.word_dict = pickle.load(f)\r\n",
      "\r\n",
      "    model.to(device).eval()\r\n",
      "\r\n",
      "    \u001b[36mprint\u001b[39;49;00m(\u001b[33m\"\u001b[39;49;00m\u001b[33mDone loading model.\u001b[39;49;00m\u001b[33m\"\u001b[39;49;00m)\r\n",
      "    \u001b[34mreturn\u001b[39;49;00m model\r\n",
      "\r\n",
      "\u001b[34mdef\u001b[39;49;00m \u001b[32minput_fn\u001b[39;49;00m(serialized_input_data, content_type):\r\n",
      "    \u001b[36mprint\u001b[39;49;00m(\u001b[33m'\u001b[39;49;00m\u001b[33mDeserializing the input data.\u001b[39;49;00m\u001b[33m'\u001b[39;49;00m)\r\n",
      "    \u001b[34mif\u001b[39;49;00m content_type == \u001b[33m'\u001b[39;49;00m\u001b[33mtext/plain\u001b[39;49;00m\u001b[33m'\u001b[39;49;00m:\r\n",
      "        data = serialized_input_data.decode(\u001b[33m'\u001b[39;49;00m\u001b[33mutf-8\u001b[39;49;00m\u001b[33m'\u001b[39;49;00m)\r\n",
      "        \u001b[34mreturn\u001b[39;49;00m data\r\n",
      "    \u001b[34mraise\u001b[39;49;00m \u001b[36mException\u001b[39;49;00m(\u001b[33m'\u001b[39;49;00m\u001b[33mRequested unsupported ContentType in content_type: \u001b[39;49;00m\u001b[33m'\u001b[39;49;00m + content_type)\r\n",
      "\r\n",
      "\u001b[34mdef\u001b[39;49;00m \u001b[32moutput_fn\u001b[39;49;00m(prediction_output, accept):\r\n",
      "    \u001b[36mprint\u001b[39;49;00m(\u001b[33m'\u001b[39;49;00m\u001b[33mSerializing the generated output.\u001b[39;49;00m\u001b[33m'\u001b[39;49;00m)\r\n",
      "    \u001b[34mreturn\u001b[39;49;00m \u001b[36mstr\u001b[39;49;00m(prediction_output)\r\n",
      "\r\n",
      "\u001b[34mdef\u001b[39;49;00m \u001b[32mpredict_fn\u001b[39;49;00m(input_data, model):\r\n",
      "    \u001b[36mprint\u001b[39;49;00m(\u001b[33m'\u001b[39;49;00m\u001b[33mInferring sentiment of input data.\u001b[39;49;00m\u001b[33m'\u001b[39;49;00m)\r\n",
      "\r\n",
      "    device = torch.device(\u001b[33m\"\u001b[39;49;00m\u001b[33mcuda\u001b[39;49;00m\u001b[33m\"\u001b[39;49;00m \u001b[34mif\u001b[39;49;00m torch.cuda.is_available() \u001b[34melse\u001b[39;49;00m \u001b[33m\"\u001b[39;49;00m\u001b[33mcpu\u001b[39;49;00m\u001b[33m\"\u001b[39;49;00m)\r\n",
      "    \r\n",
      "    \u001b[34mif\u001b[39;49;00m model.word_dict \u001b[35mis\u001b[39;49;00m \u001b[34mNone\u001b[39;49;00m:\r\n",
      "        \u001b[34mraise\u001b[39;49;00m \u001b[36mException\u001b[39;49;00m(\u001b[33m'\u001b[39;49;00m\u001b[33mModel has not been loaded properly, no word_dict.\u001b[39;49;00m\u001b[33m'\u001b[39;49;00m)\r\n",
      "    \r\n",
      "    \u001b[37m# TODO: Process input_data so that it is ready to be sent to our model.\u001b[39;49;00m\r\n",
      "    \u001b[37m#       You should produce two variables:\u001b[39;49;00m\r\n",
      "    \u001b[37m#         data_X   - A sequence of length 500 which represents the converted review\u001b[39;49;00m\r\n",
      "    \u001b[37m#         data_len - The length of the review\u001b[39;49;00m\r\n",
      "\r\n",
      "    sentence = review_to_words(input_data)\r\n",
      "    data_X, data_len = convert_and_pad(model.word_dict, input_data)\r\n",
      "\r\n",
      "    \u001b[37m# Using data_X and data_len we construct an appropriate input tensor. Remember\u001b[39;49;00m\r\n",
      "    \u001b[37m# that our model expects input data of the form 'len, review[500]'.\u001b[39;49;00m\r\n",
      "    data_pack = np.hstack((data_len, data_X))\r\n",
      "    data_pack = data_pack.reshape(\u001b[34m1\u001b[39;49;00m, -\u001b[34m1\u001b[39;49;00m)\r\n",
      "    \r\n",
      "    data = torch.from_numpy(data_pack)\r\n",
      "    data = data.to(device)\r\n",
      "\r\n",
      "    \u001b[37m# Make sure to put the model into evaluation mode\u001b[39;49;00m\r\n",
      "    model.eval()\r\n",
      "\r\n",
      "    output = model.forward(data)\r\n",
      "    \u001b[37m# TODO: Compute the result of applying the model to the input data. The variable `result` should\u001b[39;49;00m\r\n",
      "    \u001b[37m#       be a numpy array which contains a single integer which is either 1 or 0\u001b[39;49;00m\r\n",
      "    \r\n",
      "    result = np.around(output.detach().numpy()).astype(\u001b[36mint\u001b[39;49;00m)\r\n",
      "\r\n",
      "    \u001b[34mreturn\u001b[39;49;00m result\r\n"
     ]
    }
   ],
   "source": [
    "!pygmentize serve/predict.py"
   ]
  },
  {
   "cell_type": "markdown",
   "metadata": {},
   "source": [
    "As mentioned earlier, the `model_fn` method is the same as the one provided in the training code and the `input_fn` and `output_fn` methods are very simple and your task will be to complete the `predict_fn` method. Make sure that you save the completed file as `predict.py` in the `serve` directory.\n",
    "\n",
    "**TODO**: Complete the `predict_fn()` method in the `serve/predict.py` file."
   ]
  },
  {
   "cell_type": "markdown",
   "metadata": {},
   "source": [
    "### Deploying the model\n",
    "\n",
    "Now that the custom inference code has been written, we will create and deploy our model. To begin with, we need to construct a new PyTorchModel object which points to the model artifacts created during training and also points to the inference code that we wish to use. Then we can call the deploy method to launch the deployment container.\n",
    "\n",
    "**NOTE**: The default behaviour for a deployed PyTorch model is to assume that any input passed to the predictor is a `numpy` array. In our case we want to send a string so we need to construct a simple wrapper around the `RealTimePredictor` class to accomodate simple strings. In a more complicated situation you may want to provide a serialization object, for example if you wanted to sent image data."
   ]
  },
  {
   "cell_type": "code",
   "execution_count": 37,
   "metadata": {
    "scrolled": true
   },
   "outputs": [
    {
     "name": "stderr",
     "output_type": "stream",
     "text": [
      "Parameter image will be renamed to image_uri in SageMaker Python SDK v2.\n",
      "'create_image_uri' will be deprecated in favor of 'ImageURIProvider' class in SageMaker Python SDK v2.\n"
     ]
    },
    {
     "name": "stdout",
     "output_type": "stream",
     "text": [
      "---------------!"
     ]
    }
   ],
   "source": [
    "\n",
    "from sagemaker.predictor import RealTimePredictor\n",
    "from sagemaker.pytorch import PyTorchModel\n",
    "\n",
    "class StringPredictor(RealTimePredictor):\n",
    "    def __init__(self, endpoint_name, sagemaker_session):\n",
    "        super(StringPredictor, self).__init__(endpoint_name, sagemaker_session, content_type='text/plain')\n",
    "\n",
    "model = PyTorchModel(model_data=estimator.model_data,\n",
    "                     role = role,\n",
    "                     framework_version='1.5.0',\n",
    "                     py_version='py3',\n",
    "                     entry_point='predict.py',\n",
    "                     source_dir='serve',\n",
    "                     predictor_cls=StringPredictor)\n",
    "                        \n",
    "                        \n",
    "                        \n",
    "predictor = model.deploy(initial_instance_count=1, instance_type='ml.m4.xlarge')"
   ]
  },
  {
   "cell_type": "markdown",
   "metadata": {},
   "source": [
    "### Testing the model\n",
    "\n",
    "Now that we have deployed our model with the custom inference code, we should test to see if everything is working. Here we test our model by loading the first `250` positive and negative reviews and send them to the endpoint, then collect the results. The reason for only sending some of the data is that the amount of time it takes for our model to process the input and then perform inference is quite long and so testing the entire data set would be prohibitive."
   ]
  },
  {
   "cell_type": "code",
   "execution_count": 38,
   "metadata": {},
   "outputs": [],
   "source": [
    "import glob\n",
    "\n",
    "def test_reviews(data_dir='../data/aclImdb', stop=250):\n",
    "    \n",
    "    results = []\n",
    "    ground = []\n",
    "    \n",
    "    # We make sure to test both positive and negative reviews    \n",
    "    for sentiment in ['pos', 'neg']:\n",
    "        \n",
    "        path = os.path.join(data_dir, 'test', sentiment, '*.txt')\n",
    "        files = glob.glob(path)\n",
    "        \n",
    "        files_read = 0\n",
    "        \n",
    "        print('Starting ', sentiment, ' files')\n",
    "        \n",
    "        # Iterate through the files and send them to the predictor\n",
    "        for f in files:\n",
    "            with open(f) as review:\n",
    "                # First, we store the ground truth (was the review positive or negative)\n",
    "                if sentiment == 'pos':\n",
    "                    ground.append(1)\n",
    "                else:\n",
    "                    ground.append(0)\n",
    "                # Read in the review and convert to 'utf-8' for transmission via HTTP\n",
    "                review_input = review.read().encode('utf-8')\n",
    "                # Send the review to the predictor and store the results\n",
    "                results.append(float(predictor.predict(review_input)))\n",
    "                \n",
    "            # Sending reviews to our endpoint one at a time takes a while so we\n",
    "            # only send a small number of reviews\n",
    "            files_read += 1\n",
    "            if files_read == stop:\n",
    "                break\n",
    "            \n",
    "    return ground, results"
   ]
  },
  {
   "cell_type": "code",
   "execution_count": 39,
   "metadata": {},
   "outputs": [
    {
     "name": "stdout",
     "output_type": "stream",
     "text": [
      "Starting  pos  files\n",
      "Starting  neg  files\n"
     ]
    }
   ],
   "source": [
    "ground, results = test_reviews()"
   ]
  },
  {
   "cell_type": "code",
   "execution_count": 40,
   "metadata": {},
   "outputs": [
    {
     "data": {
      "text/plain": [
       "0.498"
      ]
     },
     "execution_count": 40,
     "metadata": {},
     "output_type": "execute_result"
    }
   ],
   "source": [
    "from sklearn.metrics import accuracy_score\n",
    "accuracy_score(ground, results)"
   ]
  },
  {
   "cell_type": "markdown",
   "metadata": {},
   "source": [
    "As an additional test, we can try sending the `test_review` that we looked at earlier."
   ]
  },
  {
   "cell_type": "code",
   "execution_count": 41,
   "metadata": {},
   "outputs": [
    {
     "data": {
      "text/plain": [
       "b'1'"
      ]
     },
     "execution_count": 41,
     "metadata": {},
     "output_type": "execute_result"
    }
   ],
   "source": [
    "predictor.predict(test_review)"
   ]
  },
  {
   "cell_type": "markdown",
   "metadata": {},
   "source": [
    "Now that we know our endpoint is working as expected, we can set up the web page that will interact with it. If you don't have time to finish the project now, make sure to skip down to the end of this notebook and shut down your endpoint. You can deploy it again when you come back."
   ]
  },
  {
   "cell_type": "markdown",
   "metadata": {},
   "source": [
    "## Step 7 (again): Use the model for the web app\n",
    "\n",
    "> **TODO:** This entire section and the next contain tasks for you to complete, mostly using the AWS console.\n",
    "\n",
    "So far we have been accessing our model endpoint by constructing a predictor object which uses the endpoint and then just using the predictor object to perform inference. What if we wanted to create a web app which accessed our model? The way things are set up currently makes that not possible since in order to access a SageMaker endpoint the app would first have to authenticate with AWS using an IAM role which included access to SageMaker endpoints. However, there is an easier way! We just need to use some additional AWS services.\n",
    "\n",
    "<img src=\"Web App Diagram.svg\">\n",
    "\n",
    "The diagram above gives an overview of how the various services will work together. On the far right is the model which we trained above and which is deployed using SageMaker. On the far left is our web app that collects a user's movie review, sends it off and expects a positive or negative sentiment in return.\n",
    "\n",
    "In the middle is where some of the magic happens. We will construct a Lambda function, which you can think of as a straightforward Python function that can be executed whenever a specified event occurs. We will give this function permission to send and recieve data from a SageMaker endpoint.\n",
    "\n",
    "Lastly, the method we will use to execute the Lambda function is a new endpoint that we will create using API Gateway. This endpoint will be a url that listens for data to be sent to it. Once it gets some data it will pass that data on to the Lambda function and then return whatever the Lambda function returns. Essentially it will act as an interface that lets our web app communicate with the Lambda function.\n",
    "\n",
    "### Setting up a Lambda function\n",
    "\n",
    "The first thing we are going to do is set up a Lambda function. This Lambda function will be executed whenever our public API has data sent to it. When it is executed it will receive the data, perform any sort of processing that is required, send the data (the review) to the SageMaker endpoint we've created and then return the result.\n",
    "\n",
    "#### Part A: Create an IAM Role for the Lambda function\n",
    "\n",
    "Since we want the Lambda function to call a SageMaker endpoint, we need to make sure that it has permission to do so. To do this, we will construct a role that we can later give the Lambda function.\n",
    "\n",
    "Using the AWS Console, navigate to the **IAM** page and click on **Roles**. Then, click on **Create role**. Make sure that the **AWS service** is the type of trusted entity selected and choose **Lambda** as the service that will use this role, then click **Next: Permissions**.\n",
    "\n",
    "In the search box type `sagemaker` and select the check box next to the **AmazonSageMakerFullAccess** policy. Then, click on **Next: Review**.\n",
    "\n",
    "Lastly, give this role a name. Make sure you use a name that you will remember later on, for example `LambdaSageMakerRole`. Then, click on **Create role**.\n",
    "\n",
    "#### Part B: Create a Lambda function\n",
    "\n",
    "Now it is time to actually create the Lambda function.\n",
    "\n",
    "Using the AWS Console, navigate to the AWS Lambda page and click on **Create a function**. When you get to the next page, make sure that **Author from scratch** is selected. Now, name your Lambda function, using a name that you will remember later on, for example `sentiment_analysis_func`. Make sure that the **Python 3.6** runtime is selected and then choose the role that you created in the previous part. Then, click on **Create Function**.\n",
    "\n",
    "On the next page you will see some information about the Lambda function you've just created. If you scroll down you should see an editor in which you can write the code that will be executed when your Lambda function is triggered. In our example, we will use the code below. \n",
    "\n",
    "```python\n",
    "# We need to use the low-level library to interact with SageMaker since the SageMaker API\n",
    "# is not available natively through Lambda.\n",
    "import boto3\n",
    "\n",
    "def lambda_handler(event, context):\n",
    "\n",
    "    # The SageMaker runtime is what allows us to invoke the endpoint that we've created.\n",
    "    runtime = boto3.Session().client('sagemaker-runtime')\n",
    "\n",
    "    # Now we use the SageMaker runtime to invoke our endpoint, sending the review we were given\n",
    "    response = runtime.invoke_endpoint(EndpointName = '**ENDPOINT NAME HERE**',    # The name of the endpoint we created\n",
    "                                       ContentType = 'text/plain',                 # The data format that is expected\n",
    "                                       Body = event['body'])                       # The actual review\n",
    "\n",
    "    # The response is an HTTP response whose body contains the result of our inference\n",
    "    result = response['Body'].read().decode('utf-8')\n",
    "\n",
    "    return {\n",
    "        'statusCode' : 200,\n",
    "        'headers' : { 'Content-Type' : 'text/plain', 'Access-Control-Allow-Origin' : '*' },\n",
    "        'body' : result\n",
    "    }\n",
    "```\n",
    "\n",
    "Once you have copy and pasted the code above into the Lambda code editor, replace the `**ENDPOINT NAME HERE**` portion with the name of the endpoint that we deployed earlier. You can determine the name of the endpoint using the code cell below."
   ]
  },
  {
   "cell_type": "code",
   "execution_count": 42,
   "metadata": {},
   "outputs": [
    {
     "data": {
      "text/plain": [
       "'pytorch-inference-2020-12-04-14-03-15-273'"
      ]
     },
     "execution_count": 42,
     "metadata": {},
     "output_type": "execute_result"
    }
   ],
   "source": [
    "predictor.endpoint"
   ]
  },
  {
   "cell_type": "markdown",
   "metadata": {},
   "source": [
    "Once you have added the endpoint name to the Lambda function, click on **Save**. Your Lambda function is now up and running. Next we need to create a way for our web app to execute the Lambda function.\n",
    "\n",
    "### Setting up API Gateway\n",
    "\n",
    "Now that our Lambda function is set up, it is time to create a new API using API Gateway that will trigger the Lambda function we have just created.\n",
    "\n",
    "Using AWS Console, navigate to **Amazon API Gateway** and then click on **Get started**.\n",
    "\n",
    "On the next page, make sure that **New API** is selected and give the new api a name, for example, `sentiment_analysis_api`. Then, click on **Create API**.\n",
    "\n",
    "Now we have created an API, however it doesn't currently do anything. What we want it to do is to trigger the Lambda function that we created earlier.\n",
    "\n",
    "Select the **Actions** dropdown menu and click **Create Method**. A new blank method will be created, select its dropdown menu and select **POST**, then click on the check mark beside it.\n",
    "\n",
    "For the integration point, make sure that **Lambda Function** is selected and click on the **Use Lambda Proxy integration**. This option makes sure that the data that is sent to the API is then sent directly to the Lambda function with no processing. It also means that the return value must be a proper response object as it will also not be processed by API Gateway.\n",
    "\n",
    "Type the name of the Lambda function you created earlier into the **Lambda Function** text entry box and then click on **Save**. Click on **OK** in the pop-up box that then appears, giving permission to API Gateway to invoke the Lambda function you created.\n",
    "\n",
    "The last step in creating the API Gateway is to select the **Actions** dropdown and click on **Deploy API**. You will need to create a new Deployment stage and name it anything you like, for example `prod`.\n",
    "\n",
    "You have now successfully set up a public API to access your SageMaker model. Make sure to copy or write down the URL provided to invoke your newly created public API as this will be needed in the next step. This URL can be found at the top of the page, highlighted in blue next to the text **Invoke URL**."
   ]
  },
  {
   "cell_type": "markdown",
   "metadata": {},
   "source": [
    "## Step 4: Deploying our web app\n",
    "\n",
    "Now that we have a publicly available API, we can start using it in a web app. For our purposes, we have provided a simple static html file which can make use of the public api you created earlier.\n",
    "\n",
    "In the `website` folder there should be a file called `index.html`. Download the file to your computer and open that file up in a text editor of your choice. There should be a line which contains **\\*\\*REPLACE WITH PUBLIC API URL\\*\\***. Replace this string with the url that you wrote down in the last step and then save the file.\n",
    "\n",
    "Now, if you open `index.html` on your local computer, your browser will behave as a local web server and you can use the provided site to interact with your SageMaker model.\n",
    "\n",
    "If you'd like to go further, you can host this html file anywhere you'd like, for example using github or hosting a static site on Amazon's S3. Once you have done this you can share the link with anyone you'd like and have them play with it too!\n",
    "\n",
    "> **Important Note** In order for the web app to communicate with the SageMaker endpoint, the endpoint has to actually be deployed and running. This means that you are paying for it. Make sure that the endpoint is running when you want to use the web app but that you shut it down when you don't need it, otherwise you will end up with a surprisingly large AWS bill.\n",
    "\n",
    "**TODO:** Make sure that you include the edited `index.html` file in your project submission."
   ]
  },
  {
   "cell_type": "markdown",
   "metadata": {},
   "source": [
    "Now that your web app is working, trying playing around with it and see how well it works.\n",
    "\n",
    "**Question**: Give an example of a review that you entered into your web app. What was the predicted sentiment of your example review?"
   ]
  },
  {
   "cell_type": "markdown",
   "metadata": {},
   "source": [
    "**Answer:** I created a test for the lambda function in aws. I wrote: \"This is the best movie I have ever seen!\". The result was '1' which means POSITIVE REVIEW."
   ]
  },
  {
   "cell_type": "markdown",
   "metadata": {},
   "source": [
    "### Delete the endpoint\n",
    "\n",
    "Remember to always shut down your endpoint if you are no longer using it. You are charged for the length of time that the endpoint is running so if you forget and leave it on you could end up with an unexpectedly large bill."
   ]
  },
  {
   "cell_type": "code",
   "execution_count": null,
   "metadata": {},
   "outputs": [],
   "source": [
    "predictor.delete_endpoint()"
   ]
  },
  {
   "cell_type": "code",
   "execution_count": null,
   "metadata": {},
   "outputs": [],
   "source": []
  }
 ],
 "metadata": {
  "kernelspec": {
   "display_name": "conda_pytorch_p36",
   "language": "python",
   "name": "conda_pytorch_p36"
  },
  "language_info": {
   "codemirror_mode": {
    "name": "ipython",
    "version": 3
   },
   "file_extension": ".py",
   "mimetype": "text/x-python",
   "name": "python",
   "nbconvert_exporter": "python",
   "pygments_lexer": "ipython3",
   "version": "3.6.10"
  }
 },
 "nbformat": 4,
 "nbformat_minor": 2
}
